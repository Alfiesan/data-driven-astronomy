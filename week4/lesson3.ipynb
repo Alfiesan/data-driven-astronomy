{
  "cells": [
    {
      "cell_type": "code",
      "execution_count": 1,
      "outputs": [],
      "source": "import psycopg2",
      "metadata": {
        "pycharm": {
          "metadata": false,
          "name": "#%%\n",
          "is_executing": false
        }
      }
    },
    {
      "cell_type": "markdown",
      "source": "# Prepare the Database\n\nRun `docker-compose up` to get Postgres up and running.",
      "metadata": {
        "pycharm": {
          "metadata": false
        }
      }
    },
    {
      "cell_type": "code",
      "execution_count": 2,
      "outputs": [],
      "source": "credentials \u003d \"dbname\u003d\u0027astronomy\u0027 user\u003d\u0027user\u0027 host\u003d\u0027localhost\u0027 password\u003d\u0027pass\u0027\"\nconn \u003d psycopg2.connect(credentials)\ncur \u003d conn.cursor()\n\ncur.execute(\"\"\"\nDROP TABLE IF EXISTS Planet;\nDROP TABLE IF EXISTS Star;\n\nCREATE TABLE Star (\n  kepler_id INTEGER PRIMARY KEY,\n  t_eff INTEGER,\n  radius FLOAT\n);\n\n\nCOPY Star (kepler_id, t_eff, radius) FROM \u0027/data/week4/data1/stars.csv\u0027 CSV;\n\"\"\")\nconn.commit()",
      "metadata": {
        "pycharm": {
          "metadata": false,
          "name": "#%%\n",
          "is_executing": false
        }
      }
    },
    {
      "cell_type": "markdown",
      "source": "# Task 1\nAs a warm-up, add the following stars to the existing Star table:\n\n| kepler_id | t_eff | radius |\n|-----------|-------|--------|\n| 7115384   | 3789  | 27.384 |\n| 8106973   | 5810  | 0.811  |\n| 9391817   | 6200  | 0.958  |",
      "metadata": {
        "pycharm": {
          "metadata": false
        }
      }
    },
    {
      "cell_type": "code",
      "execution_count": 3,
      "outputs": [],
      "source": "cur.execute(\"\"\"\nINSERT INTO Star (kepler_id, t_eff, radius) VALUES\n  (7115384, 3789, 27.384),\n  (8106973, 5810, 0.811),\n  (9391817, 6200, 0.958);\n\"\"\")\nconn.commit()",
      "metadata": {
        "pycharm": {
          "metadata": false,
          "name": "#%%\n",
          "is_executing": false
        }
      }
    },
    {
      "cell_type": "markdown",
      "source": "# Add Planet Table",
      "metadata": {
        "pycharm": {
          "metadata": false
        }
      }
    },
    {
      "cell_type": "code",
      "execution_count": 4,
      "outputs": [],
      "source": "cur.execute(\"\"\"\nDROP TABLE IF EXISTS Planet;\nDROP TABLE IF EXISTS Star;\n\nCREATE TABLE Planet (\n  kepler_id INTEGER NOT NULL,\n  koi_name VARCHAR(20) NOT NULL,\n  kepler_name VARCHAR(20),\n  status VARCHAR(20) NOT NULL,\n  period FLOAT,\n  radius FLOAT,\n  t_eq INTEGER\n);\n\n\nCOPY Planet (kepler_id, koi_name, kepler_name, status, period, radius, t_eq)\n  FROM \u0027/data/week4/data1/planets.csv\u0027 CSV;\n\"\"\")\nconn.commit()",
      "metadata": {
        "pycharm": {
          "metadata": false,
          "name": "#%%\n",
          "is_executing": false
        }
      }
    },
    {
      "cell_type": "markdown",
      "source": "# Task 2\n\nYour task is to fix a `Planet` table has been corrupted.\n\nThere are two problems: some of the rows were copied with a negative radius\nand the unconfirmed planets were given fake Kepler names. To fix this, you\u0027ll\nhave to:\n\n- Update the Kepler names of planets which don\u0027t have a confirmed status\n  (replace the `kepler_name` with `NULL`);\n- Delete rows where the `radius` is negative.\n- Have a look at the table to find out what needs to be changed.",
      "metadata": {
        "pycharm": {
          "metadata": false
        }
      }
    },
    {
      "cell_type": "code",
      "execution_count": 5,
      "outputs": [],
      "source": "cur.execute(\"\"\"\nUPDATE Planet SET kepler_name \u003d NULL WHERE status !\u003d \u0027CONFIRMED\u0027;\nDELETE FROM Planet WHERE radius \u003c 0;\n\"\"\")\nconn.commit()",
      "metadata": {
        "pycharm": {
          "metadata": false,
          "name": "#%%\n",
          "is_executing": false
        }
      }
    },
    {
      "cell_type": "markdown",
      "source": "# Task 2\n\nNow you\u0027ve ready to create your first table. Your task is to set up a new\n`Planet` table and fill it with the planets listed below.\n\nYour table should consist of the following attributes in this order:\n\n- `kepler_id`, as type `INTEGER`\n- `koi_name`, as type `VARCHAR(15)`\n- `kepler_name`, as type `VARCHAR(15)`\n- `status`, as type `VARCHAR(20)`\n- `radius`, as type `FLOAT`\n\nAdd the following constraints:\n\n- make all attributes `NOT NULL` except `kepler_name`;\n- make the `koi_name` a unique attribute.\n\nFinally, insert the following planets into your new table:\n\n| kepler_id | koi_name  | kepler_name  | status    | radius  |\n|-----------|-----------|--------------|-----------|---------|\n| 6862328   | K00865.01 | NULL         | CANDIDATE | 119.021 |\n| 10187017  | K00082.05 | Kepler-102 b | CONFIRMED | 5.286   |\n| 10187017  | K00082.04 | Kepler-102 c | CONFIRMED | 7.071   |\n\nDon\u0027t forget to use `NULL` for the missing planet name!",
      "metadata": {
        "pycharm": {
          "metadata": false
        }
      }
    },
    {
      "cell_type": "code",
      "execution_count": 6,
      "outputs": [],
      "source": "cur.execute(\"\"\"\nDROP TABLE IF EXISTS Planet;\nDROP TABLE IF EXISTS Star;\n\nCREATE TABLE Planet (\n  kepler_id INTEGER NOT NULL,\n  koi_name VARCHAR(15) NOT NULL UNIQUE,\n  kepler_name VARCHAR(15),\n  status VARCHAR(20) NOT NULL,\n  radius FLOAT NOT NULL\n);\nINSERT INTO Planet VALUES\n  (6862328, \u0027K00865.01\u0027, NULL, \u0027CANDIDATE\u0027, 119.021),\n  (10187017, \u0027K00082.05\u0027, \u0027Kepler-102 b\u0027, \u0027CONFIRMED\u0027, 5.286),\n  (10187017, \u0027K00082.04\u0027, \u0027Kepler-102 c\u0027, \u0027CONFIRMED\u0027, 7.071);\n\"\"\")\nconn.commit()",
      "metadata": {
        "pycharm": {
          "metadata": false,
          "name": "#%%\n",
          "is_executing": false
        }
      }
    },
    {
      "cell_type": "markdown",
      "source": "# Task 3\n\nYou can now create the `Star` and `Planet` tables that we\u0027ve been querying\nthroughout these activities and fill the tables using the two CSV files which\ncontain the star and planet data.\n\nThe tables and CSV files should contain the columns as follows:\n\n- `stars.csv`:\n  - `kepler_id` as an integer and **primary key**;\n  - `t_eff` as an integer;\n  - `radius` as a float.\n- `planets.csv`:\n  - `kepler_id` as an integer and a **foreign key** referencing `Star` on\n    `kepler_id`;\n  - `koi_name` as a variable char (max 20) and **primary key**;\n  - `kepler_name` as a variable char (max 20);\n  - `status` as a variable char (max 20);\n  - `period` as a float;\n  - `radius` as a float;\n  - `t_eq` as an integer.\n  \nAdd the following other constraints to your tables:\n\n- Ensure `t_eff` and `radius` in `Star` cannot be `NULL`\n- Ensure the `status` in `Planet` cannot be `NULL`",
      "metadata": {
        "pycharm": {
          "metadata": false
        }
      }
    },
    {
      "cell_type": "code",
      "execution_count": 7,
      "outputs": [],
      "source": "cur.execute(\"\"\"\nDROP TABLE IF EXISTS Star;\nDROP TABLE IF EXISTS Planet;\n\nCREATE TABLE Star (\n  kepler_id INTEGER PRIMARY KEY,\n  t_eff INTEGER NOT NULL,\n  radius FLOAT NOT NULL\n);\n\nCREATE TABLE Planet (\n  kepler_id INTEGER REFERENCES Star (kepler_id),\n  koi_name VARCHAR(20) PRIMARY KEY,\n  kepler_name VARCHAR(20),\n  status VARCHAR(20) NOT NULL,\n  period FLOAT,\n  radius FLOAT,\n  t_eq INTEGER\n);\n\nCOPY Star (kepler_id, t_eff, radius)\n  FROM \u0027/data/week4/data2/stars.csv\u0027 CSV;\nCOPY Planet (kepler_id, koi_name, kepler_name, status, period, radius, t_eq)\n  FROM \u0027/data/week4/data2/planets.csv\u0027 CSV;\n\"\"\")\nconn.commit()",
      "metadata": {
        "pycharm": {
          "metadata": false,
          "name": "#%%\n",
          "is_executing": false
        }
      }
    },
    {
      "cell_type": "markdown",
      "source": "# Task 4\n\nYour task is to add two columns to the existing `Star` table to hold the\nequatorial coordinates as RA and declination angles and then fill the new\ncolumns with data. Call the attributes `ra` and `decl`.\n\nThe new stars data, including the equatorial coordinates is stored in\n`stars_full.csv`. The attributes in this file are ordered as follows:\n`(kepler_id, t_eff, radius, ra, decl)`.\n\nTo update the data in the table to fill in values for the new attributes,\nuse the `DELETE` statement to empty the table and then copy the full CSV file\nin.\n\n## Prepare Database",
      "metadata": {
        "pycharm": {
          "metadata": false
        }
      }
    },
    {
      "cell_type": "code",
      "execution_count": 8,
      "outputs": [],
      "source": "cur.execute(\"\"\"\nDROP TABLE IF EXISTS Planet;\nDROP TABLE IF EXISTS Star;\n\nCREATE TABLE Star (\n  kepler_id INTEGER PRIMARY KEY,\n  t_eff INTEGER,\n  radius FLOAT\n);\n\n\nCOPY Star (kepler_id, t_eff, radius) FROM \u0027/data/week4/data3/stars.csv\u0027 CSV;\n\"\"\")\nconn.commit()",
      "metadata": {
        "pycharm": {
          "metadata": false,
          "name": "#%%\n",
          "is_executing": false
        }
      }
    },
    {
      "cell_type": "markdown",
      "source": "## Solution",
      "metadata": {
        "pycharm": {
          "metadata": false
        }
      }
    },
    {
      "cell_type": "code",
      "execution_count": 9,
      "outputs": [],
      "source": "cur.execute(\"\"\"\nALTER TABLE Star\n  ADD COLUMN ra FLOAT,\n  ADD COLUMN decl FLOAT;\n\nDELETE FROM Star;\n\nCOPY Star (kepler_id, t_eff, radius, ra, decl)\n  FROM \u0027/data/week4/data3/stars_full.csv\u0027 CSV;\n\"\"\")\nconn.commit()",
      "metadata": {
        "pycharm": {
          "metadata": false,
          "name": "#%%\n",
          "is_executing": false
        }
      }
    }
  ],
  "metadata": {
    "kernelspec": {
      "display_name": "Python 3",
      "language": "python",
      "name": "python3"
    },
    "language_info": {
      "codemirror_mode": {
        "name": "ipython",
        "version": 3
      },
      "file_extension": ".py",
      "mimetype": "text/x-python",
      "name": "python",
      "nbconvert_exporter": "python",
      "pygments_lexer": "ipython3",
      "version": "3.7.0"
    },
    "stem_cell": {
      "cell_type": "raw",
      "source": "",
      "metadata": {
        "pycharm": {
          "metadata": false
        }
      }
    }
  },
  "nbformat": 4,
  "nbformat_minor": 1
}