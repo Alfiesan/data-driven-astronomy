{
 "cells": [
  {
   "cell_type": "code",
   "execution_count": 51,
   "metadata": {},
   "outputs": [],
   "source": [
    "import psycopg2\n",
    "import pandas as pd"
   ]
  },
  {
   "cell_type": "markdown",
   "metadata": {
    "pycharm": {
     "metadata": false,
     "name": "#%% m"
    }
   },
   "source": [
    "# Prepare the Database\n",
    "\n",
    "Run `docker-compose up` to get Postgres up and running."
   ]
  },
  {
   "cell_type": "code",
   "execution_count": 52,
   "metadata": {
    "pycharm": {
     "metadata": false,
     "name": "#%% cod"
    }
   },
   "outputs": [
    {
     "ename": "InternalError",
     "evalue": "cannot drop table star because other objects depend on it\nDETAIL:  constraint planet_kepler_id_fkey on table planet depends on table star\nHINT:  Use DROP ... CASCADE to drop the dependent objects too.\n",
     "output_type": "error",
     "traceback": [
      "\u001b[0;31m---------------------------------------------------------------------------\u001b[0m",
      "\u001b[0;31mInternalError\u001b[0m                             Traceback (most recent call last)",
      "\u001b[0;32m<ipython-input-52-2705963c12de>\u001b[0m in \u001b[0;36m<module>\u001b[0;34m()\u001b[0m\n\u001b[1;32m     14\u001b[0m \u001b[0;34m\u001b[0m\u001b[0m\n\u001b[1;32m     15\u001b[0m \u001b[0mCOPY\u001b[0m \u001b[0mStar\u001b[0m \u001b[0;34m(\u001b[0m\u001b[0mkepler_id\u001b[0m\u001b[0;34m,\u001b[0m \u001b[0mt_eff\u001b[0m\u001b[0;34m,\u001b[0m \u001b[0mradius\u001b[0m\u001b[0;34m)\u001b[0m \u001b[0mFROM\u001b[0m \u001b[0;34m'/data/data1/stars.csv'\u001b[0m \u001b[0mCSV\u001b[0m\u001b[0;34m;\u001b[0m\u001b[0;34m\u001b[0m\u001b[0m\n\u001b[0;32m---> 16\u001b[0;31m \"\"\")\n\u001b[0m\u001b[1;32m     17\u001b[0m \u001b[0mconn\u001b[0m\u001b[0;34m.\u001b[0m\u001b[0mcommit\u001b[0m\u001b[0;34m(\u001b[0m\u001b[0;34m)\u001b[0m\u001b[0;34m\u001b[0m\u001b[0m\n",
      "\u001b[0;31mInternalError\u001b[0m: cannot drop table star because other objects depend on it\nDETAIL:  constraint planet_kepler_id_fkey on table planet depends on table star\nHINT:  Use DROP ... CASCADE to drop the dependent objects too.\n"
     ]
    }
   ],
   "source": [
    "credentials = \"dbname='astronomy' user='user' host='localhost' password='pass'\"\n",
    "conn = psycopg2.connect(credentials)\n",
    "cur = conn.cursor()\n",
    "\n",
    "cur.execute(\"\"\"\n",
    "DROP TABLE IF EXISTS Star;\n",
    "\n",
    "CREATE TABLE Star (\n",
    "  kepler_id INTEGER PRIMARY KEY,\n",
    "  t_eff INTEGER,\n",
    "  radius FLOAT\n",
    ");\n",
    "\n",
    "\n",
    "COPY Star (kepler_id, t_eff, radius) FROM '/data/data1/stars.csv' CSV;\n",
    "\"\"\")\n",
    "conn.commit()"
   ]
  },
  {
   "cell_type": "markdown",
   "metadata": {
    "pycharm": {
     "metadata": false,
     "name": "#%% m"
    }
   },
   "source": [
    "# Task 1\n",
    "As a warm-up, add the following stars to the existing Star table:\n",
    "\n",
    "| kepler_id | t_eff | radius |\n",
    "|-----------|-------|--------|\n",
    "| 7115384   | 3789  | 27.384 |\n",
    "| 8106973   | 5810  | 0.811  |\n",
    "| 9391817   | 6200  | 0.958  |"
   ]
  },
  {
   "cell_type": "code",
   "execution_count": null,
   "metadata": {
    "pycharm": {
     "metadata": false,
     "name": "#%% cod"
    }
   },
   "outputs": [],
   "source": [
    "cur.execute(\"\"\"\n",
    "INSERT INTO Star (kepler_id, t_eff, radius) VALUES\n",
    "  (7115384, 3789, 27.384),\n",
    "  (8106973, 5810, 0.811),\n",
    "  (9391817, 6200, 0.958);\n",
    "\"\"\")\n",
    "conn.commit()"
   ]
  },
  {
   "cell_type": "markdown",
   "metadata": {
    "pycharm": {
     "metadata": false,
     "name": "#%% m"
    }
   },
   "source": [
    "# Add Planet Table"
   ]
  },
  {
   "cell_type": "code",
   "execution_count": null,
   "metadata": {
    "pycharm": {
     "metadata": false,
     "name": "#%% cod"
    }
   },
   "outputs": [],
   "source": [
    "cur.execute(\"\"\"\n",
    "DROP TABLE IF EXISTS Planet;\n",
    "\n",
    "CREATE TABLE Planet (\n",
    "  kepler_id INTEGER NOT NULL,\n",
    "  koi_name VARCHAR(20) NOT NULL,\n",
    "  kepler_name VARCHAR(20),\n",
    "  status VARCHAR(20) NOT NULL,\n",
    "  period FLOAT,\n",
    "  radius FLOAT,\n",
    "  t_eq INTEGER\n",
    ");\n",
    "\n",
    "\n",
    "COPY Planet (kepler_id, koi_name, kepler_name, status, period, radius, t_eq)\n",
    "  FROM '/data/data1/planets.csv' CSV;\n",
    "\"\"\")\n",
    "conn.commit()"
   ]
  },
  {
   "cell_type": "markdown",
   "metadata": {
    "pycharm": {
     "metadata": false,
     "name": "#%% m"
    }
   },
   "source": [
    "# Task 2\n",
    "\n",
    "Your task is to fix a `Planet` table has been corrupted.\n",
    "\n",
    "There are two problems: some of the rows were copied with a negative radius\n",
    "and the unconfirmed planets were given fake Kepler names. To fix this, you'll\n",
    "have to:\n",
    "\n",
    "- Update the Kepler names of planets which don't have a confirmed status\n",
    "  (replace the `kepler_name` with `NULL`);\n",
    "- Delete rows where the `radius` is negative.\n",
    "- Have a look at the table to find out what needs to be changed."
   ]
  },
  {
   "cell_type": "code",
   "execution_count": null,
   "metadata": {
    "pycharm": {
     "metadata": false,
     "name": "#%% cod"
    }
   },
   "outputs": [],
   "source": [
    "cur.execute(\"\"\"\n",
    "UPDATE Planet SET kepler_name = NULL WHERE status != 'CONFIRMED';\n",
    "DELETE FROM Planet WHERE radius < 0;\n",
    "\"\"\")\n",
    "conn.commit()"
   ]
  },
  {
   "cell_type": "markdown",
   "metadata": {
    "pycharm": {
     "metadata": false,
     "name": "#%% m"
    }
   },
   "source": [
    "# Task 2\n",
    "\n",
    "Now you've ready to create your first table. Your task is to set up a new\n",
    "`Planet` table and fill it with the planets listed below.\n",
    "\n",
    "Your table should consist of the following attributes in this order:\n",
    "\n",
    "- `kepler_id`, as type `INTEGER`\n",
    "- `koi_name`, as type `VARCHAR(15)`\n",
    "- `kepler_name`, as type `VARCHAR(15)`\n",
    "- `status`, as type `VARCHAR(20)`\n",
    "- `radius`, as type `FLOAT`\n",
    "\n",
    "Add the following constraints:\n",
    "\n",
    "- make all attributes `NOT NULL` except `kepler_name`;\n",
    "- make the `koi_name` a unique attribute.\n",
    "\n",
    "Finally, insert the following planets into your new table:\n",
    "\n",
    "| kepler_id | koi_name  | kepler_name  | status    | radius  |\n",
    "|-----------|-----------|--------------|-----------|---------|\n",
    "| 6862328   | K00865.01 | NULL         | CANDIDATE | 119.021 |\n",
    "| 10187017  | K00082.05 | Kepler-102 b | CONFIRMED | 5.286   |\n",
    "| 10187017  | K00082.04 | Kepler-102 c | CONFIRMED | 7.071   |\n",
    "\n",
    "Don't forget to use `NULL` for the missing planet name!"
   ]
  },
  {
   "cell_type": "code",
   "execution_count": null,
   "metadata": {
    "pycharm": {
     "metadata": false,
     "name": "#%% cod"
    }
   },
   "outputs": [],
   "source": [
    "cur.execute(\"\"\"\n",
    "DROP TABLE IF EXISTS Planet;\n",
    "\n",
    "CREATE TABLE Planet (\n",
    "  kepler_id INTEGER NOT NULL,\n",
    "  koi_name VARCHAR(15) NOT NULL UNIQUE,\n",
    "  kepler_name VARCHAR(15),\n",
    "  status VARCHAR(20) NOT NULL,\n",
    "  radius FLOAT NOT NULL\n",
    ");\n",
    "INSERT INTO Planet VALUES\n",
    "  (6862328, 'K00865.01', NULL, 'CANDIDATE', 119.021),\n",
    "  (10187017, 'K00082.05', 'Kepler-102 b', 'CONFIRMED', 5.286),\n",
    "  (10187017, 'K00082.04', 'Kepler-102 c', 'CONFIRMED', 7.071);\n",
    "\"\"\")\n",
    "conn.commit()"
   ]
  },
  {
   "cell_type": "markdown",
   "metadata": {
    "pycharm": {
     "metadata": false,
     "name": "#%% m"
    }
   },
   "source": [
    "# Task 3\n",
    "\n",
    "You can now create the `Star` and `Planet` tables that we've been querying\n",
    "throughout these activities and fill the tables using the two CSV files which\n",
    "contain the star and planet data.\n",
    "\n",
    "The tables and CSV files should contain the columns as follows:\n",
    "\n",
    "- `stars.csv`:\n",
    "  - `kepler_id` as an integer and **primary key**;\n",
    "  - `t_eff` as an integer;\n",
    "  - `radius` as a float.\n",
    "- `planets.csv`:\n",
    "  - `kepler_id` as an integer and a **foreign key** referencing `Star` on\n",
    "    `kepler_id`;\n",
    "  - `koi_name` as a variable char (max 20) and **primary key**;\n",
    "  - `kepler_name` as a variable char (max 20);\n",
    "  - `status` as a variable char (max 20);\n",
    "  - `period` as a float;\n",
    "  - `radius` as a float;\n",
    "  - `t_eq` as an integer.\n",
    "  \n",
    "Add the following other constraints to your tables:\n",
    "\n",
    "- Ensure `t_eff` and `radius` in `Star` cannot be `NULL`\n",
    "- Ensure the `status` in `Planet` cannot be `NULL`"
   ]
  },
  {
   "cell_type": "code",
   "execution_count": null,
   "metadata": {
    "pycharm": {
     "metadata": false,
     "name": "#%% cod"
    }
   },
   "outputs": [],
   "source": [
    "cur.execute(\"\"\"\n",
    "DROP TABLE IF EXISTS Star;\n",
    "DROP TABLE IF EXISTS Planet;\n",
    "\n",
    "CREATE TABLE Star (\n",
    "  kepler_id INTEGER PRIMARY KEY,\n",
    "  t_eff INTEGER NOT NULL,\n",
    "  radius FLOAT NOT NULL\n",
    ");\n",
    "\n",
    "CREATE TABLE Planet (\n",
    "  kepler_id INTEGER REFERENCES Star (kepler_id),\n",
    "  koi_name VARCHAR(20) PRIMARY KEY,\n",
    "  kepler_name VARCHAR(20),\n",
    "  status VARCHAR(20) NOT NULL,\n",
    "  period FLOAT,\n",
    "  radius FLOAT,\n",
    "  t_eq INTEGER\n",
    ");\n",
    "\n",
    "COPY Star (kepler_id, t_eff, radius)\n",
    "  FROM '/data/data2/stars.csv' CSV;\n",
    "COPY Planet (kepler_id, koi_name, kepler_name, status, period, radius, t_eq)\n",
    "  FROM '/data/data2/planets.csv' CSV;\n",
    "\"\"\")\n",
    "conn.commit()"
   ]
  },
  {
   "cell_type": "markdown",
   "metadata": {
    "pycharm": {
     "metadata": false,
     "name": "#%% m"
    }
   },
   "source": [
    "# Task 4\n",
    "\n",
    "Your task is to add two columns to the existing `Star` table to hold the\n",
    "equatorial coordinates as RA and declination angles and then fill the new\n",
    "columns with data. Call the attributes `ra` and `decl`.\n",
    "\n",
    "The new stars data, including the equatorial coordinates is stored in\n",
    "`stars_full.csv`. The attributes in this file are ordered as follows:\n",
    "`(kepler_id, t_eff, radius, ra, decl)`.\n",
    "\n",
    "To update the data in the table to fill in values for the new attributes,\n",
    "use the `DELETE` statement to empty the table and then copy the full CSV file\n",
    "in.\n",
    "\n",
    "## Prepare Database"
   ]
  },
  {
   "cell_type": "code",
   "execution_count": null,
   "metadata": {
    "pycharm": {
     "metadata": false,
     "name": "#%% cod"
    }
   },
   "outputs": [],
   "source": [
    "cur.execute(\"\"\"\n",
    "DROP TABLE IF EXISTS Star;\n",
    "\n",
    "CREATE TABLE Star (\n",
    "  kepler_id INTEGER PRIMARY KEY,\n",
    "  t_eff INTEGER,\n",
    "  radius FLOAT\n",
    ");\n",
    "\n",
    "\n",
    "COPY Star (kepler_id, t_eff, radius) FROM '/data/data3/stars.csv' CSV;\n",
    "\"\"\")\n",
    "conn.commit()"
   ]
  },
  {
   "cell_type": "markdown",
   "metadata": {
    "pycharm": {
     "metadata": false,
     "name": "#%% m"
    }
   },
   "source": [
    "## Solution"
   ]
  },
  {
   "cell_type": "code",
   "execution_count": null,
   "metadata": {
    "pycharm": {
     "metadata": false,
     "name": "#%% cod"
    }
   },
   "outputs": [],
   "source": [
    "cur.execute(\"\"\"\n",
    "ALTER TABLE Star\n",
    "  ADD COLUMN ra FLOAT,\n",
    "  ADD COLUMN decl FLOAT;\n",
    "\n",
    "DELETE FROM Star;\n",
    "\n",
    "COPY Star (kepler_id, t_eff, radius, ra, decl)\n",
    "  FROM '/data/data3/stars_full.csv' CSV;\n",
    "\"\"\")\n",
    "conn.commit()"
   ]
  }
 ],
 "metadata": {
  "kernelspec": {
   "display_name": "Python 3",
   "language": "python",
   "name": "python3"
  },
  "language_info": {
   "codemirror_mode": {
    "name": "ipython",
    "version": 3
   },
   "file_extension": ".py",
   "mimetype": "text/x-python",
   "name": "python",
   "nbconvert_exporter": "python",
   "pygments_lexer": "ipython3",
   "version": "3.7.0"
  }
 },
 "nbformat": 4,
 "nbformat_minor": 1
}
