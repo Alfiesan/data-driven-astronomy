{
 "cells": [
  {
   "cell_type": "code",
   "execution_count": 29,
   "metadata": {},
   "outputs": [],
   "source": [
    "import psycopg2\n",
    "import pandas as pd"
   ]
  },
  {
   "cell_type": "markdown",
   "metadata": {
    "pycharm": {
     "metadata": false,
     "name": "#%% m"
    }
   },
   "source": [
    "# Prepare the Database\n",
    "\n",
    "Run `docker-compose up` to get Postgres up and running."
   ]
  },
  {
   "cell_type": "code",
   "execution_count": 30,
   "metadata": {
    "pycharm": {
     "metadata": false,
     "name": "#%% cod"
    }
   },
   "outputs": [],
   "source": [
    "credentials = \"dbname='astronomy' user='user' host='localhost' password='pass'\"\n",
    "conn = psycopg2.connect(credentials)\n",
    "cur = conn.cursor()\n",
    "\n",
    "cur.execute(\"\"\"\n",
    "DROP TABLE IF EXISTS Star;\n",
    "\n",
    "CREATE TABLE Star (\n",
    "  kepler_id INTEGER PRIMARY KEY,\n",
    "  t_eff INTEGER,\n",
    "  radius FLOAT\n",
    ");\n",
    "\n",
    "\n",
    "COPY Star (kepler_id, t_eff, radius) FROM '/data/data1/stars.csv' CSV;\n",
    "\"\"\")\n",
    "conn.commit()"
   ]
  },
  {
   "cell_type": "markdown",
   "metadata": {
    "pycharm": {
     "metadata": false,
     "name": "#%% m"
    }
   },
   "source": [
    "# Task 1\n",
    "As a warm-up, add the following stars to the existing Star table:\n",
    "\n",
    "| kepler_id | t_eff | radius |\n",
    "|-----------|-------|--------|\n",
    "| 7115384   | 3789  | 27.384 |\n",
    "| 8106973   | 5810  | 0.811  |\n",
    "| 9391817   | 6200  | 0.958  |"
   ]
  },
  {
   "cell_type": "code",
   "execution_count": 31,
   "metadata": {
    "pycharm": {
     "metadata": false,
     "name": "#%% cod"
    }
   },
   "outputs": [],
   "source": [
    "cur.execute(\"\"\"\n",
    "INSERT INTO Star (kepler_id, t_eff, radius) VALUES\n",
    "  (7115384, 3789, 27.384),\n",
    "  (8106973, 5810, 0.811),\n",
    "  (9391817, 6200, 0.958);\n",
    "\"\"\")\n",
    "conn.commit()"
   ]
  },
  {
   "cell_type": "markdown",
   "metadata": {
    "pycharm": {
     "metadata": false,
     "name": "#%% m"
    }
   },
   "source": [
    "# Add Planet Table"
   ]
  },
  {
   "cell_type": "code",
   "execution_count": 32,
   "metadata": {
    "pycharm": {
     "metadata": false,
     "name": "#%% cod"
    }
   },
   "outputs": [],
   "source": [
    "cur.execute(\"\"\"\n",
    "DROP TABLE IF EXISTS Planet;\n",
    "\n",
    "CREATE TABLE Planet (\n",
    "  kepler_id INTEGER NOT NULL,\n",
    "  koi_name VARCHAR(20) NOT NULL,\n",
    "  kepler_name VARCHAR(20),\n",
    "  status VARCHAR(20) NOT NULL,\n",
    "  period FLOAT,\n",
    "  radius FLOAT,\n",
    "  t_eq INTEGER\n",
    ");\n",
    "\n",
    "\n",
    "COPY Planet (kepler_id, koi_name, kepler_name, status, period, radius, t_eq)\n",
    "  FROM '/data/data1/planets.csv' CSV;\n",
    "\"\"\")\n",
    "conn.commit()"
   ]
  },
  {
   "cell_type": "markdown",
   "metadata": {
    "pycharm": {
     "metadata": false,
     "name": "#%% m"
    }
   },
   "source": [
    "# Task 2\n",
    "\n",
    "Your task is to fix a `Planet` table has been corrupted.\n",
    "\n",
    "There are two problems: some of the rows were copied with a negative radius\n",
    "and the unconfirmed planets were given fake Kepler names. To fix this, you'll\n",
    "have to:\n",
    "\n",
    "- Update the Kepler names of planets which don't have a confirmed status\n",
    "  (replace the `kepler_name` with `NULL`);\n",
    "- Delete rows where the `radius` is negative.\n",
    "- Have a look at the table to find out what needs to be changed."
   ]
  },
  {
   "cell_type": "code",
   "execution_count": 33,
   "metadata": {
    "pycharm": {
     "metadata": false,
     "name": "#%% cod"
    }
   },
   "outputs": [],
   "source": [
    "cur.execute(\"\"\"\n",
    "UPDATE Planet SET kepler_name = NULL WHERE status != 'CONFIRMED';\n",
    "DELETE FROM Planet WHERE radius < 0;\n",
    "\"\"\")\n",
    "conn.commit()"
   ]
  },
  {
   "cell_type": "markdown",
   "metadata": {
    "pycharm": {
     "metadata": false,
     "name": "#%% m"
    }
   },
   "source": [
    "# Task 2\n",
    "\n",
    "Now you've ready to create your first table. Your task is to set up a new\n",
    "`Planet` table and fill it with the planets listed below.\n",
    "\n",
    "Your table should consist of the following attributes in this order:\n",
    "\n",
    "- `kepler_id`, as type `INTEGER`\n",
    "- `koi_name`, as type `VARCHAR(15)`\n",
    "- `kepler_name`, as type `VARCHAR(15)`\n",
    "- `status`, as type `VARCHAR(20)`\n",
    "- `radius`, as type `FLOAT`\n",
    "\n",
    "Add the following constraints:\n",
    "\n",
    "- make all attributes `NOT NULL` except `kepler_name`;\n",
    "- make the `koi_name` a unique attribute.\n",
    "\n",
    "Finally, insert the following planets into your new table:\n",
    "\n",
    "| kepler_id | koi_name  | kepler_name  | status    | radius  |\n",
    "|-----------|-----------|--------------|-----------|---------|\n",
    "| 6862328   | K00865.01 | NULL         | CANDIDATE | 119.021 |\n",
    "| 10187017  | K00082.05 | Kepler-102 b | CONFIRMED | 5.286   |\n",
    "| 10187017  | K00082.04 | Kepler-102 c | CONFIRMED | 7.071   |\n",
    "\n",
    "Don't forget to use `NULL` for the missing planet name!"
   ]
  },
  {
   "cell_type": "code",
   "execution_count": 34,
   "metadata": {
    "pycharm": {
     "metadata": false,
     "name": "#%% cod"
    }
   },
   "outputs": [],
   "source": [
    "cur.execute(\"\"\"\n",
    "DROP TABLE IF EXISTS Planet;\n",
    "\n",
    "CREATE TABLE Planet (\n",
    "    kepler_id INTEGER NOT NULL,\n",
    "    koi_name VARCHAR(15) NOT NULL UNIQUE,\n",
    "    kepler_name VARCHAR(15),\n",
    "    status VARCHAR(20) NOT NULL,\n",
    "    radius FLOAT NOT NULL\n",
    ");\n",
    "INSERT INTO Planet VALUES\n",
    "  (6862328, 'K00865.01', NULL, 'CANDIDATE', 119.021),\n",
    "  (10187017, 'K00082.05', 'Kepler-102 b', 'CONFIRMED', 5.286),\n",
    "  (10187017, 'K00082.04', 'Kepler-102 c', 'CONFIRMED', 7.071);\n",
    "\"\"\")\n",
    "conn.commit()"
   ]
  }
 ],
 "metadata": {
  "kernelspec": {
   "display_name": "Python 3",
   "language": "python",
   "name": "python3"
  },
  "language_info": {
   "codemirror_mode": {
    "name": "ipython",
    "version": 3
   },
   "file_extension": ".py",
   "mimetype": "text/x-python",
   "name": "python",
   "nbconvert_exporter": "python",
   "pygments_lexer": "ipython3",
   "version": "3.7.0"
  }
 },
 "nbformat": 4,
 "nbformat_minor": 1
}
