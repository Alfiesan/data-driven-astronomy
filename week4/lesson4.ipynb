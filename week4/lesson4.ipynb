{
 "cells": [
  {
   "cell_type": "code",
   "execution_count": 85,
   "metadata": {},
   "outputs": [],
   "source": [
    "from pprint import pprint\n",
    "\n",
    "import psycopg2\n",
    "import numpy as np"
   ]
  },
  {
   "cell_type": "markdown",
   "metadata": {
    "pycharm": {
     "metadata": false
    }
   },
   "source": [
    "# Prepare the Database\n",
    "\n",
    "Run `docker-compose up` to get Postgres up and running."
   ]
  },
  {
   "cell_type": "code",
   "execution_count": 86,
   "metadata": {
    "pycharm": {
     "metadata": false
    }
   },
   "outputs": [],
   "source": [
    "def main():\n",
    "    credentials = \"dbname='astronomy' user='user' host='localhost' \" \\\n",
    "                  \"password='pass'\"\n",
    "    conn = psycopg2.connect(credentials)\n",
    "    cur = conn.cursor()\n",
    "    \n",
    "    cur.execute(\"\"\"\n",
    "    DROP TABLE IF EXISTS Planet;\n",
    "    DROP TABLE IF EXISTS Star;\n",
    "    \n",
    "    CREATE TABLE Star (\n",
    "      Kepler_ID INTEGER NOT NULL,\n",
    "      T_eff INTEGER NOT NULL,\n",
    "      Radius FLOAT NOT NULL,\n",
    "      PRIMARY KEY (Kepler_ID)\n",
    "    );\n",
    "    \n",
    "    CREATE TABLE Planet (\n",
    "      Kepler_ID INTEGER NOT NULL REFERENCES Star(Kepler_ID),\n",
    "      KOI_name VARCHAR(20) NOT NULL,\n",
    "      Kepler_name VARCHAR(20),\n",
    "      Status VARCHAR(20) NOT NULL,\n",
    "      Period FLOAT,\n",
    "      Radius FLOAT,\n",
    "      T_eq INTEGER,\n",
    "      PRIMARY KEY (KOI_name)\n",
    "    );\n",
    "    \n",
    "    \n",
    "    INSERT INTO Star VALUES(2713049,5996,0.956);\n",
    "    INSERT INTO Star VALUES(3114167,5666,0.677);\n",
    "    INSERT INTO Star VALUES(3115833,5995,0.847);\n",
    "    INSERT INTO Star VALUES(3246984,5735,0.973);\n",
    "    INSERT INTO Star VALUES(3342970,6167,1.064);\n",
    "    INSERT INTO Star VALUES(3351888,5717,1.057);\n",
    "    INSERT INTO Star VALUES(3453214,5733,0.77);\n",
    "    INSERT INTO Star VALUES(3641726,5349,0.82);\n",
    "    INSERT INTO Star VALUES(3832474,5485,0.867);\n",
    "    INSERT INTO Star VALUES(3935914,5934,0.893);\n",
    "    INSERT INTO Star VALUES(3940418,5170,0.807);\n",
    "    INSERT INTO Star VALUES(4049131,4905,0.761);\n",
    "    INSERT INTO Star VALUES(4139816,3887,0.48);\n",
    "    INSERT INTO Star VALUES(4275191,5557,0.781);\n",
    "    INSERT INTO Star VALUES(4476123,5413,0.751);\n",
    "    INSERT INTO Star VALUES(5358241,6079,0.945);\n",
    "    INSERT INTO Star VALUES(5358624,5071,0.788);\n",
    "    INSERT INTO Star VALUES(5456651,4980,0.734);\n",
    "    INSERT INTO Star VALUES(6862328,5796,0.871);\n",
    "    INSERT INTO Star VALUES(6922244,6225,1.451);\n",
    "    INSERT INTO Star VALUES(8395660,5881,1.029);\n",
    "    INSERT INTO Star VALUES(9579641,6391,1.332);\n",
    "    INSERT INTO Star VALUES(10187017,4812,0.755);\n",
    "    INSERT INTO Star VALUES(10480982,6117,0.947);\n",
    "    INSERT INTO Star VALUES(10526549,4856,0.696);\n",
    "    INSERT INTO Star VALUES(10583066,4536,0.693);\n",
    "    INSERT INTO Star VALUES(10601284,5559,0.806);\n",
    "    INSERT INTO Star VALUES(10662202,4722,0.527);\n",
    "    INSERT INTO Star VALUES(10666592,6350,1.991);\n",
    "    INSERT INTO Star VALUES(10682541,5339,0.847);\n",
    "    INSERT INTO Star VALUES(10797460,5850,1.04);\n",
    "    INSERT INTO Star VALUES(10811496,5853,0.868);\n",
    "    INSERT INTO Star VALUES(10848459,5795,0.803);\n",
    "    INSERT INTO Star VALUES(10854555,6031,1.046);\n",
    "    INSERT INTO Star VALUES(10872983,6046,0.972);\n",
    "    INSERT INTO Star VALUES(10875245,5851,1.411);\n",
    "    INSERT INTO Star VALUES(10910878,5126,0.742);\n",
    "    INSERT INTO Star VALUES(10984090,5803,1.073);\n",
    "    INSERT INTO Star VALUES(10987985,5015,0.826);\n",
    "    INSERT INTO Star VALUES(11018648,5588,0.796);\n",
    "    INSERT INTO Star VALUES(11138155,6117,1.025);\n",
    "    INSERT INTO Star VALUES(11153539,6075,0.969);\n",
    "    INSERT INTO Star VALUES(11304958,5468,1.046);\n",
    "    INSERT INTO Star VALUES(11391957,5592,0.782);\n",
    "    INSERT INTO Star VALUES(11403044,6174,1.103);\n",
    "    INSERT INTO Star VALUES(11414511,5653,0.965);\n",
    "    INSERT INTO Star VALUES(11460018,5641,0.831);\n",
    "    INSERT INTO Star VALUES(11465813,5520,0.983);\n",
    "    INSERT INTO Star VALUES(11493732,6144,1.091);\n",
    "    INSERT INTO Star VALUES(11507101,5957,0.971);\n",
    "    INSERT INTO Star VALUES(11754553,3898,0.54);\n",
    "    INSERT INTO Star VALUES(11812062,5492,0.812);\n",
    "    INSERT INTO Star VALUES(11818800,5446,0.781);\n",
    "    INSERT INTO Star VALUES(11853255,3741,0.45);\n",
    "    INSERT INTO Star VALUES(11904151,5627,1.056);\n",
    "    INSERT INTO Star VALUES(11918099,4989,0.727);\n",
    "    INSERT INTO Star VALUES(11923270,3672,0.49);\n",
    "    INSERT INTO Star VALUES(11960862,5992,0.989);\n",
    "    INSERT INTO Star VALUES(12020329,5485,0.867);\n",
    "    INSERT INTO Star VALUES(12066335,3767,0.48);\n",
    "    INSERT INTO Star VALUES(12070811,5557,0.752);\n",
    "    INSERT INTO Star VALUES(12110942,5880,0.917);\n",
    "    INSERT INTO Star VALUES(12366084,5841,0.931);\n",
    "    INSERT INTO Star VALUES(12404086,5127,0.775);\n",
    "    INSERT INTO Star VALUES(12470844,5354,0.788);\n",
    "    INSERT INTO Star VALUES(12644822,5795,0.919);\n",
    "    \n",
    "    INSERT INTO Planet VALUES(10666592,'K00002.01','Kepler-2b','CONFIRMED',2.204735365,16.39,2025);\n",
    "    INSERT INTO Planet VALUES(6922244,'K00010.01','Kepler-8b','CONFIRMED',3.522498573,14.83,1521);\n",
    "    INSERT INTO Planet VALUES(11904151,'K00072.01','Kepler-10b','CONFIRMED',0.837491331,1.45,1968);\n",
    "    INSERT INTO Planet VALUES(10187017,'K00082.04','Kepler-102c','CONFIRMED',7.07136076,0.58,723);\n",
    "    INSERT INTO Planet VALUES(10187017,'K00082.05','Kepler-102b','CONFIRMED',5.28695437,0.49,797);\n",
    "    INSERT INTO Planet VALUES(10984090,'K00112.02','Kepler-466c','CONFIRMED',3.709213846,1.24,1236);\n",
    "    INSERT INTO Planet VALUES(9579641,'K00115.01','Kepler-105b','CONFIRMED',5.41220713,3.28,1306);\n",
    "    INSERT INTO Planet VALUES(9579641,'K00115.02','Kepler-105c','CONFIRMED',7.12594591,1.88,1191);\n",
    "    INSERT INTO Planet VALUES(9579641,'K00115.03',NULL,'CANDIDATE',3.4358789,0.65,1519);\n",
    "    INSERT INTO Planet VALUES(8395660,'K00116.01','Kepler-106c','CONFIRMED',13.57076622,2.35,796);\n",
    "    INSERT INTO Planet VALUES(8395660,'K00116.02','Kepler-106e','CONFIRMED',43.84444353,2.58,538);\n",
    "    INSERT INTO Planet VALUES(8395660,'K00116.03','Kepler-106b','CONFIRMED',6.16491696,0.85,1035);\n",
    "    INSERT INTO Planet VALUES(8395660,'K00116.04','Kepler-106d','CONFIRMED',23.9802348,0.99,658);\n",
    "    INSERT INTO Planet VALUES(10875245,'K00117.02','Kepler-107c','CONFIRMED',4.90143807,1.84,1263);\n",
    "    INSERT INTO Planet VALUES(10480982,'K00744.01',NULL,'CANDIDATE',19.221386154,51.4,698);\n",
    "    INSERT INTO Planet VALUES(10526549,'K00746.01','Kepler-660b','CONFIRMED',9.27358194,2.52,649);\n",
    "    INSERT INTO Planet VALUES(10583066,'K00747.01','Kepler-661b','CONFIRMED',6.029301321,3.14,685);\n",
    "    INSERT INTO Planet VALUES(10601284,'K00749.01','Kepler-226c','CONFIRMED',5.34955671,2.7,918);\n",
    "    INSERT INTO Planet VALUES(10601284,'K00749.02','Kepler-226b','CONFIRMED',3.94104632,1.59,1017);\n",
    "    INSERT INTO Planet VALUES(10601284,'K00749.03','Kepler-226d','CONFIRMED',8.10904671,1.19,799);\n",
    "    INSERT INTO Planet VALUES(10662202,'K00750.01','Kepler-662b','CONFIRMED',21.67697486,1.54,430);\n",
    "    INSERT INTO Planet VALUES(10682541,'K00751.01','Kepler-663b','CONFIRMED',4.99678284,2.7,917);\n",
    "    INSERT INTO Planet VALUES(10797460,'K00752.01','Kepler-227b','CONFIRMED',9.48803146,3.1,881);\n",
    "    INSERT INTO Planet VALUES(10797460,'K00752.02','Kepler-227c','CONFIRMED',54.418464,3.1,492);\n",
    "    INSERT INTO Planet VALUES(10811496,'K00753.01',NULL,'CANDIDATE',19.899139805,3462.25,639);\n",
    "    INSERT INTO Planet VALUES(10848459,'K00754.01',NULL,'CANDIDATE',1.736952479,34.04,1404);\n",
    "    INSERT INTO Planet VALUES(10854555,'K00755.01','Kepler-664b','CONFIRMED',2.525593315,2.71,1407);\n",
    "    INSERT INTO Planet VALUES(10872983,'K00756.01','Kepler-228d','CONFIRMED',11.09431923,4.02,835);\n",
    "    INSERT INTO Planet VALUES(10872983,'K00756.02','Kepler-228c','CONFIRMED',4.13443005,3.02,1160);\n",
    "    INSERT INTO Planet VALUES(10872983,'K00756.03','Kepler-228b','CONFIRMED',2.56659092,1.56,1360);\n",
    "    INSERT INTO Planet VALUES(10910878,'K00757.01','Kepler-229c','CONFIRMED',16.06862959,5.27,571);\n",
    "    INSERT INTO Planet VALUES(10910878,'K00757.02','Kepler-229d','CONFIRMED',41.1970874,3.62,417);\n",
    "    INSERT INTO Planet VALUES(10910878,'K00757.03','Kepler-229b','CONFIRMED',6.252964898,2.41,782);\n",
    "    INSERT INTO Planet VALUES(10987985,'K00758.01','Kepler-665b','CONFIRMED',16.01310205,2.86,593);\n",
    "    INSERT INTO Planet VALUES(11018648,'K00759.01','Kepler-230b','CONFIRMED',32.62882975,3791.05,506);\n",
    "    INSERT INTO Planet VALUES(11018648,'K00759.02','Kepler-230c','CONFIRMED',91.77221,2.13,358);\n",
    "    INSERT INTO Planet VALUES(11138155,'K00760.01',NULL,'CANDIDATE',4.959319451,11.88,1128);\n",
    "    INSERT INTO Planet VALUES(11153539,'K00762.01','Kepler-666b','CONFIRMED',4.49876092,2.21,1133);\n",
    "    INSERT INTO Planet VALUES(11304958,'K00764.01','Kepler-667b','CONFIRMED',41.43962808,5.73,516);\n",
    "    INSERT INTO Planet VALUES(11391957,'K00765.01','Kepler-668b','CONFIRMED',8.35390639,2.54,789);\n",
    "    INSERT INTO Planet VALUES(11403044,'K00766.01','Kepler-669b','CONFIRMED',4.125546869,4.46,1244);\n",
    "    INSERT INTO Planet VALUES(11414511,'K00767.01','Kepler-670b','CONFIRMED',2.816504852,12.82,1253);\n",
    "    INSERT INTO Planet VALUES(11460018,'K00769.01','Kepler-671b','CONFIRMED',4.280958588,2.33,1014);\n",
    "    INSERT INTO Planet VALUES(11465813,'K00771.01',NULL,'CANDIDATE',670.645246,14.41,196);\n",
    "    INSERT INTO Planet VALUES(11493732,'K00772.01',NULL,'CANDIDATE',61.2563443,64.23,505);\n",
    "    INSERT INTO Planet VALUES(11507101,'K00773.01','Kepler-672b','CONFIRMED',38.3774623,2.7,541);\n",
    "    INSERT INTO Planet VALUES(11754553,'K00775.01','Kepler-52c','CONFIRMED',16.38485646,1.81,392);\n",
    "    INSERT INTO Planet VALUES(11754553,'K00775.02','Kepler-52b','CONFIRMED',7.87740709,2.33,500);\n",
    "    INSERT INTO Planet VALUES(11754553,'K00775.03','Kepler-52d','CONFIRMED',36.4451982,1.8,300);\n",
    "    INSERT INTO Planet VALUES(11812062,'K00776.01','Kepler-673b','CONFIRMED',3.728731093,6.27,1022);\n",
    "    INSERT INTO Planet VALUES(11818800,'K00777.01',NULL,'CANDIDATE',40.41958501,8.02,468);\n",
    "    INSERT INTO Planet VALUES(11853255,'K00778.01','Kepler-674b','CONFIRMED',2.243381847,1.32,685);\n",
    "    INSERT INTO Planet VALUES(11918099,'K00780.01','Kepler-675b','CONFIRMED',2.33743801,2.38,1054);\n",
    "    INSERT INTO Planet VALUES(11918099,'K00780.02',NULL,'CANDIDATE',7.2406514,5.32,723);\n",
    "    INSERT INTO Planet VALUES(11923270,'K00781.01','Kepler-676b','CONFIRMED',11.59822172,3.07,400);\n",
    "    INSERT INTO Planet VALUES(11960862,'K00782.01','Kepler-677b','CONFIRMED',6.57531678,5.38,1015);\n",
    "    INSERT INTO Planet VALUES(12020329,'K00783.01','Kepler-678b','CONFIRMED',7.27503724,4.91,833);\n",
    "    INSERT INTO Planet VALUES(12066335,'K00784.01','Kepler-231c','CONFIRMED',19.2715468,1.73,343);\n",
    "    INSERT INTO Planet VALUES(12066335,'K00784.02','Kepler-231b','CONFIRMED',10.06525843,1.61,426);\n",
    "    INSERT INTO Planet VALUES(12070811,'K00785.01','Kepler-679b','CONFIRMED',12.39358604,2.69,680);\n",
    "    INSERT INTO Planet VALUES(12110942,'K00786.01','Kepler-680b','CONFIRMED',3.689926291,1.96,1147);\n",
    "    INSERT INTO Planet VALUES(12366084,'K00787.01','Kepler-232b','CONFIRMED',4.431242593,3.07,1074);\n",
    "    INSERT INTO Planet VALUES(12366084,'K00787.02','Kepler-232c','CONFIRMED',11.37938071,3.74,784);\n",
    "    INSERT INTO Planet VALUES(12404086,'K00788.01','Kepler-681b','CONFIRMED',26.39435646,3.16,491);\n",
    "    INSERT INTO Planet VALUES(12470844,'K00790.01','Kepler-233b','CONFIRMED',8.47237844,2.71,752);\n",
    "    INSERT INTO Planet VALUES(12470844,'K00790.02','Kepler-233c','CONFIRMED',60.4186137,2.72,390);\n",
    "    INSERT INTO Planet VALUES(12644822,'K00791.01','Kepler-682b','CONFIRMED',12.611906672,7.66,753);\n",
    "    INSERT INTO Planet VALUES(2713049,'K00794.01','Kepler-683b','CONFIRMED',2.539183179,1.97,1348);\n",
    "    INSERT INTO Planet VALUES(3114167,'K00795.01','Kepler-684b','CONFIRMED',6.770302008,2.66,813);\n",
    "    INSERT INTO Planet VALUES(3115833,'K00797.01',NULL,'CANDIDATE',10.181581555,8.18,819);\n",
    "    INSERT INTO Planet VALUES(3246984,'K00799.01',NULL,'CANDIDATE',1.626629735,447.32,1548);\n",
    "    INSERT INTO Planet VALUES(3342970,'K00800.01','Kepler-234b','CONFIRMED',2.711502579,3.62,1405);\n",
    "    INSERT INTO Planet VALUES(3342970,'K00800.02','Kepler-234c','CONFIRMED',7.21204152,3.51,1015);\n",
    "    INSERT INTO Planet VALUES(3351888,'K00801.01','Kepler-685b','CONFIRMED',1.6255222,9.74,1572);\n",
    "    INSERT INTO Planet VALUES(3453214,'K00802.01',NULL,'CANDIDATE',19.620347388,12.0,605);\n",
    "    INSERT INTO Planet VALUES(3641726,'K00804.01',NULL,'CANDIDATE',9.0293089,2.72,757);\n",
    "    INSERT INTO Planet VALUES(3832474,'K00806.01','Kepler-30d','CONFIRMED',143.2063518,9.36,308);\n",
    "    INSERT INTO Planet VALUES(3832474,'K00806.02','Kepler-30c','CONFIRMED',60.32488611,12.88,411);\n",
    "    INSERT INTO Planet VALUES(3832474,'K00806.03','Kepler-30b','CONFIRMED',29.1598615,1.91,524);\n",
    "    INSERT INTO Planet VALUES(3935914,'K00809.01','Kepler-686b','CONFIRMED',1.594745463,11.77,1540);\n",
    "    INSERT INTO Planet VALUES(3940418,'K00810.01',NULL,'CANDIDATE',4.78300451,2.76,886);\n",
    "    INSERT INTO Planet VALUES(4049131,'K00811.01','Kepler-687b','CONFIRMED',20.50586978,3.62,518);\n",
    "    INSERT INTO Planet VALUES(4139816,'K00812.01','Kepler-235b','CONFIRMED',3.34021995,2.18,635);\n",
    "    INSERT INTO Planet VALUES(4139816,'K00812.02','Kepler-235d','CONFIRMED',20.06037454,1.99,350);\n",
    "    INSERT INTO Planet VALUES(4139816,'K00812.03','Kepler-235e','CONFIRMED',46.18415,1.94,265);\n",
    "    INSERT INTO Planet VALUES(4139816,'K00812.04','Kepler-235c','CONFIRMED',7.82501206,1.22,478);\n",
    "    INSERT INTO Planet VALUES(4275191,'K00813.01','Kepler-688b','CONFIRMED',3.895936844,7.92,1011);\n",
    "    INSERT INTO Planet VALUES(4476123,'K00814.01','Kepler-689b','CONFIRMED',22.36656079,2.45,544);\n",
    "    INSERT INTO Planet VALUES(5358241,'K00829.01','Kepler-53b','CONFIRMED',18.64929678,2.9,700);\n",
    "    INSERT INTO Planet VALUES(5358241,'K00829.02','Kepler-53d','CONFIRMED',9.75193182,2.44,869);\n",
    "    INSERT INTO Planet VALUES(5358241,'K00829.03','Kepler-53c','CONFIRMED',38.5575914,3.57,550);\n",
    "    INSERT INTO Planet VALUES(5358624,'K00830.01','Kepler-428b','CONFIRMED',3.525632561,11.87,955);\n",
    "    INSERT INTO Planet VALUES(5456651,'K00835.01','Kepler-239b','CONFIRMED',11.76305946,2.36,614);\n",
    "    INSERT INTO Planet VALUES(5456651,'K00835.02','Kepler-239c','CONFIRMED',56.2279697,2.19,365);\n",
    "    INSERT INTO Planet VALUES(6862328,'K00865.01',NULL,'CANDIDATE',119.0206251,7.58,348);\n",
    "    \"\"\")\n",
    "    conn.commit()\n",
    "\n",
    "\n",
    "if __name__ == '__main__':\n",
    "    main()"
   ]
  },
  {
   "cell_type": "markdown",
   "metadata": {
    "pycharm": {
     "metadata": false,
     "name": "#%% m"
    }
   },
   "source": [
    "# Task 1"
   ]
  },
  {
   "cell_type": "code",
   "execution_count": 87,
   "metadata": {
    "pycharm": {
     "metadata": false,
     "name": "#%% cod"
    }
   },
   "outputs": [
    {
     "name": "stdout",
     "output_type": "stream",
     "text": [
      "[(2713049, 5996, 0.956),\n",
      " (3114167, 5666, 0.677),\n",
      " (3115833, 5995, 0.847),\n",
      " (3246984, 5735, 0.973),\n",
      " (3342970, 6167, 1.064)]\n"
     ]
    }
   ],
   "source": [
    "def select_all(table):\n",
    "    credentials = \"dbname='astronomy' user='user' host='localhost' \" \\\n",
    "                  \"password='pass'\"\n",
    "    conn = psycopg2.connect(credentials)\n",
    "    cur = conn.cursor()\n",
    "    cur.execute('SELECT * FROM %s;' % table)\n",
    "    return cur.fetchall()\n",
    "\n",
    "\n",
    "if __name__ == '__main__':\n",
    "    pprint(select_all('Star')[:5])"
   ]
  },
  {
   "cell_type": "markdown",
   "metadata": {
    "pycharm": {
     "metadata": false,
     "name": "#%% m"
    }
   },
   "source": [
    "# Task 2"
   ]
  },
  {
   "cell_type": "code",
   "execution_count": 88,
   "metadata": {
    "pycharm": {
     "metadata": false,
     "name": "#%% cod"
    }
   },
   "outputs": [
    {
     "name": "stdout",
     "output_type": "stream",
     "text": [
      "(5490.681818181818, 5634.0)\n"
     ]
    }
   ],
   "source": [
    "def column_stats(table, column):\n",
    "    credentials = \"dbname='astronomy' user='user' host='localhost' \" \\\n",
    "                  \"password='pass'\"\n",
    "    conn = psycopg2.connect(credentials)\n",
    "    cur = conn.cursor()\n",
    "    cur.execute('SELECT %s FROM %s' % (column, table))\n",
    "    array = np.array(cur.fetchall())\n",
    "    return np.mean(array), np.median(array)\n",
    "\n",
    "\n",
    "if __name__ == '__main__':\n",
    "    pprint(column_stats('Star', 't_eff'))"
   ]
  },
  {
   "cell_type": "markdown",
   "metadata": {
    "pycharm": {
     "metadata": false,
     "name": "#%% m"
    }
   },
   "source": [
    "# Task 3"
   ]
  },
  {
   "cell_type": "code",
   "execution_count": 89,
   "metadata": {
    "pycharm": {
     "metadata": false,
     "name": "#%% cod"
    }
   },
   "outputs": [
    {
     "name": "stdout",
     "output_type": "stream",
     "text": [
      "array([[3.3429700e+06, 1.0640000e+00],\n",
      "       [3.3518880e+06, 1.0570000e+00],\n",
      "       [6.9222440e+06, 1.4510000e+00],\n",
      "       [8.3956600e+06, 1.0290000e+00],\n",
      "       [9.5796410e+06, 1.3320000e+00],\n",
      "       [1.0666592e+07, 1.9910000e+00],\n",
      "       [1.0797460e+07, 1.0400000e+00],\n",
      "       [1.0854555e+07, 1.0460000e+00],\n",
      "       [1.0875245e+07, 1.4110000e+00],\n",
      "       [1.0984090e+07, 1.0730000e+00],\n",
      "       [1.1138155e+07, 1.0250000e+00],\n",
      "       [1.1304958e+07, 1.0460000e+00],\n",
      "       [1.1403044e+07, 1.1030000e+00],\n",
      "       [1.1493732e+07, 1.0910000e+00],\n",
      "       [1.1904151e+07, 1.0560000e+00]])\n"
     ]
    }
   ],
   "source": [
    "def query(file):\n",
    "    \"\"\"Select kepler_id and radius where radius > 1.\"\"\"\n",
    "    data = np.loadtxt(file, delimiter=',', usecols=(0, 2))\n",
    "    return data[data[:, 1] > 1, :]\n",
    "\n",
    "\n",
    "if __name__ == '__main__':\n",
    "    pprint(query('data4/stars.csv'))"
   ]
  },
  {
   "cell_type": "markdown",
   "metadata": {
    "pycharm": {
     "metadata": false,
     "name": "#%% m"
    }
   },
   "source": [
    "# Task 4"
   ]
  },
  {
   "cell_type": "code",
   "execution_count": 90,
   "metadata": {
    "pycharm": {
     "metadata": false,
     "name": "#%% cod"
    }
   },
   "outputs": [
    {
     "name": "stdout",
     "output_type": "stream",
     "text": [
      "array([[1.1138155e+07, 1.0250000e+00],\n",
      "       [8.3956600e+06, 1.0290000e+00],\n",
      "       [1.0797460e+07, 1.0400000e+00],\n",
      "       [1.0854555e+07, 1.0460000e+00],\n",
      "       [1.1304958e+07, 1.0460000e+00],\n",
      "       [1.1904151e+07, 1.0560000e+00],\n",
      "       [3.3518880e+06, 1.0570000e+00],\n",
      "       [3.3429700e+06, 1.0640000e+00],\n",
      "       [1.0984090e+07, 1.0730000e+00],\n",
      "       [1.1493732e+07, 1.0910000e+00],\n",
      "       [1.1403044e+07, 1.1030000e+00],\n",
      "       [9.5796410e+06, 1.3320000e+00],\n",
      "       [1.0875245e+07, 1.4110000e+00],\n",
      "       [6.9222440e+06, 1.4510000e+00],\n",
      "       [1.0666592e+07, 1.9910000e+00]])\n"
     ]
    }
   ],
   "source": [
    "def query(file):\n",
    "    data = np.loadtxt(file, delimiter=',', usecols=(0, 2))\n",
    "    data = data[data[:, 1] > 1, :]\n",
    "    return data[np.argsort(data[:,1]), :]\n",
    "\n",
    "\n",
    "if __name__ == '__main__':\n",
    "    pprint(query('data4/stars.csv'))"
   ]
  },
  {
   "cell_type": "markdown",
   "metadata": {
    "pycharm": {
     "metadata": false,
     "name": "#%% m"
    }
   },
   "source": [
    "# Task 5"
   ]
  },
  {
   "cell_type": "code",
   "execution_count": 91,
   "metadata": {
    "pycharm": {
     "metadata": false,
     "name": "#%% cod"
    }
   },
   "outputs": [
    {
     "name": "stdout",
     "output_type": "stream",
     "text": [
      "array([[ 0.48798799],\n",
      "       [ 0.8260447 ],\n",
      "       [ 0.96209913],\n",
      "       [ 1.1556384 ],\n",
      "       [ 1.30403969],\n",
      "       [ 1.37310606],\n",
      "       [ 1.41141141],\n",
      "       [ 2.28377065],\n",
      "       [ 2.46246246],\n",
      "       [ 2.50728863],\n",
      "       [ 2.59082218],\n",
      "       [ 2.98076923],\n",
      "       [ 2.98076923],\n",
      "       [ 3.29887218],\n",
      "       [ 3.40225564],\n",
      "       [ 4.04351768],\n",
      "       [ 5.47801147],\n",
      "       [ 8.2320442 ],\n",
      "       [ 9.21475875],\n",
      "       [10.22053756],\n",
      "       [11.5902439 ],\n",
      "       [58.87259395]])\n"
     ]
    }
   ],
   "source": [
    "def query(stars_file, planets_file):\n",
    "    stars = np.loadtxt(stars_file, delimiter=',', usecols=(0, 2))\n",
    "    planets = np.loadtxt(planets_file, delimiter=',', usecols=(0, 5))\n",
    "    \n",
    "    stars = stars[stars[:, 1] > 1, :]\n",
    "    stars = stars[np.argsort(stars[:, 1]), :]\n",
    "    \n",
    "    results = np.zeros((1, 1))\n",
    "    for i in range(stars.shape[0]):\n",
    "        kepler_id = stars[i, 0]\n",
    "        star_radius = stars[i, 1]\n",
    "        matching_planets = planets[np.where(planets[:, 0] == kepler_id), 1].T\n",
    "        results = np.concatenate((results, matching_planets/star_radius))\n",
    "    \n",
    "    return np.sort(results[1:], axis=0)\n",
    "\n",
    "\n",
    "if __name__ == '__main__':\n",
    "    pprint(query('data4/stars.csv', 'data4/planets.csv'))"
   ]
  }
 ],
 "metadata": {
  "kernelspec": {
   "display_name": "Python 3",
   "language": "python",
   "name": "python3"
  },
  "language_info": {
   "codemirror_mode": {
    "name": "ipython",
    "version": 3
   },
   "file_extension": ".py",
   "mimetype": "text/x-python",
   "name": "python",
   "nbconvert_exporter": "python",
   "pygments_lexer": "ipython3",
   "version": "3.7.0"
  }
 },
 "nbformat": 4,
 "nbformat_minor": 1
}
