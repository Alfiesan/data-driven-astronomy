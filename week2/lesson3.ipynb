{
 "cells": [
  {
   "cell_type": "code",
   "execution_count": 39,
   "metadata": {
    "pycharm": {
     "metadata": false,
     "name": "#%% cod"
    }
   },
   "outputs": [],
   "source": [
    "import numpy as np"
   ]
  },
  {
   "cell_type": "markdown",
   "metadata": {
    "pycharm": {
     "metadata": false,
     "name": "#%% m"
    }
   },
   "source": [
    "# Convert HMS to degrees"
   ]
  },
  {
   "cell_type": "code",
   "execution_count": 40,
   "metadata": {
    "pycharm": {
     "metadata": false,
     "name": "#%% cod"
    }
   },
   "outputs": [
    {
     "data": {
      "text/plain": [
       "348.025"
      ]
     },
     "execution_count": 40,
     "metadata": {},
     "output_type": "execute_result"
    }
   ],
   "source": [
    "def hms2dec(hours, minutes, seconds):\n",
    "    # 1 hour is 15 degrees\n",
    "    return 15*(hours + minutes/60 + seconds/(60*60))\n",
    "\n",
    "\n",
    "hms2dec(23, 12, 6)"
   ]
  },
  {
   "cell_type": "markdown",
   "metadata": {
    "pycharm": {
     "metadata": false,
     "name": "#%% m"
    }
   },
   "source": [
    "# Convert DMS to decimal degrees"
   ]
  },
  {
   "cell_type": "code",
   "execution_count": 41,
   "metadata": {
    "pycharm": {
     "metadata": false,
     "name": "#%% cod"
    }
   },
   "outputs": [
    {
     "name": "stdout",
     "output_type": "stream",
     "text": [
      "22.955\n",
      "-66.08475\n"
     ]
    }
   ],
   "source": [
    "def dms2dec(degrees, arcminutes, arcseconds):\n",
    "    angle = abs(degrees) + arcminutes/60 + arcseconds/(60*60)\n",
    "    return angle if degrees > 0 else -angle\n",
    "\n",
    "\n",
    "print(dms2dec(22, 57, 18))\n",
    "print(dms2dec(-66, 5, 5.1))"
   ]
  },
  {
   "cell_type": "markdown",
   "metadata": {
    "pycharm": {
     "metadata": false,
     "name": "#%% m"
    }
   },
   "source": [
    "# HMS to DMS\n",
    "\n",
    "A minute in HMS is equal to 15 arcminutes in DMS and a second is equal to 15\n",
    "arcseconds."
   ]
  },
  {
   "cell_type": "markdown",
   "metadata": {
    "pycharm": {
     "metadata": false,
     "name": "#%% m"
    }
   },
   "source": [
    "# Angular Distance"
   ]
  },
  {
   "cell_type": "code",
   "execution_count": 42,
   "metadata": {
    "pycharm": {
     "metadata": false,
     "name": "#%% cod"
    }
   },
   "outputs": [
    {
     "name": "stdout",
     "output_type": "stream",
     "text": [
      "8.100392318146506\n",
      "29.208498180546595\n"
     ]
    }
   ],
   "source": [
    "def angular_dist(r1, d1, r2, d2):\n",
    "    r1, d1, r2, d2 = map(np.radians, [r1, d1, r2, d2])\n",
    "    a = np.sin(np.abs(d1 - d2)/2)**2\n",
    "    b = np.cos(d1)*np.cos(d2)*np.sin(np.abs(r1 - r2)/2)**2\n",
    "    d = 2*np.arcsin(np.sqrt(a + b))\n",
    "    return np.degrees(d)\n",
    "    \n",
    "\n",
    "print(angular_dist(21.07, 0.1, 21.15, 8.2))\n",
    "print(angular_dist(10.3, -3, 24.3, -29))"
   ]
  },
  {
   "cell_type": "markdown",
   "metadata": {
    "pycharm": {
     "metadata": false,
     "name": "#%% m"
    }
   },
   "source": [
    "# Loading Data"
   ]
  },
  {
   "cell_type": "code",
   "execution_count": 43,
   "metadata": {
    "pycharm": {
     "metadata": false,
     "name": "#%% cod"
    }
   },
   "outputs": [
    {
     "name": "stdout",
     "output_type": "stream",
     "text": [
      "[(1, 1.1485416666666666, -47.60530555555556), (2, 2.6496666666666666, -30.463416666666667), (3, 2.7552916666666665, -26.209194444444442)]\n",
      "[(1, 1.0583407, -52.9162402), (2, 2.6084425, -41.5005753), (3, 2.7302499, -27.706955)]\n"
     ]
    }
   ],
   "source": [
    "def import_bss(file='data1/bss.dat'):\n",
    "    result = []\n",
    "    data = np.loadtxt(file, usecols=range(1, 7))\n",
    "    for i, row in enumerate(data, 1):\n",
    "        ascension = hms2dec(row[0], row[1], row[2])\n",
    "        declination = dms2dec(row[3], row[4], row[5])\n",
    "        result.append((i, ascension, declination))\n",
    "    return result\n",
    "\n",
    "\n",
    "def import_super(file='data1/super.csv'):\n",
    "    result = []\n",
    "    data = np.loadtxt(file, delimiter=',', skiprows=1,\n",
    "                      usecols=[0, 1])\n",
    "    for i, row in enumerate(data, 1):\n",
    "        ascension = row[0]\n",
    "        declination = row[1]\n",
    "        result.append((i, ascension, declination))\n",
    "    return result\n",
    "\n",
    "\n",
    "bss_cat = import_bss()\n",
    "super_cat = import_super()\n",
    "\n",
    "print(bss_cat)\n",
    "print(super_cat)"
   ]
  },
  {
   "cell_type": "markdown",
   "metadata": {
    "pycharm": {
     "metadata": false,
     "name": "#%% m"
    }
   },
   "source": [
    "# Find closest Point"
   ]
  },
  {
   "cell_type": "code",
   "execution_count": 44,
   "metadata": {
    "pycharm": {
     "metadata": false,
     "name": "#%% cod"
    }
   },
   "outputs": [
    {
     "name": "stdout",
     "output_type": "stream",
     "text": [
      "(156, 3.7670580226469053)\n",
      "(26, 57.729135775621295)\n"
     ]
    }
   ],
   "source": [
    "def find_closest(catalogue, ascension, declination):\n",
    "    closest = ()\n",
    "    for item in catalogue:\n",
    "        distance = angular_dist(ascension, declination, item[1], item[2])\n",
    "        if not closest or distance < closest[1]:\n",
    "            closest = (item[0], distance)\n",
    "    return closest\n",
    "\n",
    "\n",
    "cat = import_bss('data2/bss.dat')\n",
    "print(find_closest(cat, 175.3, -32.5))\n",
    "\n",
    "cat = import_bss('data2/bss.dat')\n",
    "print(find_closest(cat, 32.2, 40.7))"
   ]
  }
 ],
 "metadata": {
  "kernelspec": {
   "display_name": "Python 3",
   "language": "python",
   "name": "python3"
  },
  "language_info": {
   "codemirror_mode": {
    "name": "ipython",
    "version": 3
   },
   "file_extension": ".py",
   "mimetype": "text/x-python",
   "name": "python",
   "nbconvert_exporter": "python",
   "pygments_lexer": "ipython3",
   "version": "3.7.0"
  },
  "stem_cell": {
   "cell_type": "raw",
   "metadata": {
    "pycharm": {
     "metadata": false
    }
   },
   "source": ""
  }
 },
 "nbformat": 4,
 "nbformat_minor": 1
}
