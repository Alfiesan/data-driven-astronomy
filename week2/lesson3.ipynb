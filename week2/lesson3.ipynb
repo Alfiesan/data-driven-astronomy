{
  "cells": [
    {
      "cell_type": "code",
      "execution_count": 87,
      "metadata": {
        "pycharm": {
          "metadata": false,
          "name": "#%% cod"
        }
      },
      "outputs": [],
      "source": [
        "import numpy as np"
      ]
    },
    {
      "cell_type": "markdown",
      "metadata": {
        "pycharm": {
          "metadata": false,
          "name": "#%% m"
        }
      },
      "source": [
        "# Convert HMS to degrees"
      ]
    },
    {
      "cell_type": "code",
      "execution_count": 88,
      "metadata": {
        "pycharm": {
          "metadata": false,
          "name": "#%% cod"
        }
      },
      "outputs": [
        {
          "data": {
            "text/plain": [
              "348.025"
            ]
          },
          "execution_count": 88,
          "metadata": {},
          "output_type": "execute_result"
        }
      ],
      "source": [
        "def hms2dec(hours, minutes, seconds):\n",
        "    # 1 hour is 15 degrees\n",
        "    return 15*(hours + minutes/60 + seconds/(60*60))\n",
        "\n",
        "\n",
        "hms2dec(23, 12, 6)"
      ]
    },
    {
      "cell_type": "markdown",
      "metadata": {
        "pycharm": {
          "metadata": false,
          "name": "#%% m"
        }
      },
      "source": [
        "# Convert DMS to decimal degrees"
      ]
    },
    {
      "cell_type": "code",
      "execution_count": 89,
      "metadata": {
        "pycharm": {
          "metadata": false,
          "name": "#%% cod"
        }
      },
      "outputs": [
        {
          "name": "stdout",
          "output_type": "stream",
          "text": [
            "22.955\n",
            "-66.08475\n"
          ]
        }
      ],
      "source": [
        "def dms2dec(degrees, arcminutes, arcseconds):\n",
        "    angle \u003d abs(degrees) + arcminutes/60 + arcseconds/(60*60)\n",
        "    return angle if degrees \u003e 0 else -angle\n",
        "\n",
        "\n",
        "print(dms2dec(22, 57, 18))\n",
        "print(dms2dec(-66, 5, 5.1))"
      ]
    },
    {
      "cell_type": "markdown",
      "metadata": {
        "pycharm": {
          "metadata": false,
          "name": "#%% m"
        }
      },
      "source": [
        "# HMS to DMS\n",
        "\n",
        "A minute in HMS is equal to 15 arcminutes in DMS and a second is equal to 15\n",
        "arcseconds."
      ]
    },
    {
      "cell_type": "markdown",
      "metadata": {
        "pycharm": {
          "metadata": false,
          "name": "#%% m"
        }
      },
      "source": [
        "# Angular Distance"
      ]
    },
    {
      "cell_type": "code",
      "execution_count": 90,
      "metadata": {
        "pycharm": {
          "metadata": false,
          "name": "#%% cod"
        }
      },
      "outputs": [
        {
          "name": "stdout",
          "output_type": "stream",
          "text": [
            "8.100392318146506\n",
            "29.208498180546595\n"
          ]
        }
      ],
      "source": [
        "def angular_dist(r1, d1, r2, d2):\n",
        "    r1, d1, r2, d2 \u003d map(np.radians, [r1, d1, r2, d2])\n",
        "    a \u003d np.sin(np.abs(d1 - d2)/2)**2\n",
        "    b \u003d np.cos(d1)*np.cos(d2)*np.sin(np.abs(r1 - r2)/2)**2\n",
        "    d \u003d 2*np.arcsin(np.sqrt(a + b))\n",
        "    return np.degrees(d)\n",
        "    \n",
        "\n",
        "print(angular_dist(21.07, 0.1, 21.15, 8.2))\n",
        "print(angular_dist(10.3, -3, 24.3, -29))"
      ]
    },
    {
      "cell_type": "markdown",
      "metadata": {
        "pycharm": {
          "metadata": false,
          "name": "#%% m"
        }
      },
      "source": [
        "# Loading Data"
      ]
    },
    {
      "cell_type": "code",
      "execution_count": 91,
      "metadata": {
        "pycharm": {
          "metadata": false,
          "name": "#%% cod"
        }
      },
      "outputs": [
        {
          "name": "stdout",
          "output_type": "stream",
          "text": [
            "[(1, 1.1485416666666666, -47.60530555555556), (2, 2.6496666666666666, -30.463416666666667), (3, 2.7552916666666665, -26.209194444444442)]\n",
            "[(1, 1.0583407, -52.9162402), (2, 2.6084425, -41.5005753), (3, 2.7302499, -27.706955)]\n"
          ]
        }
      ],
      "source": [
        "def import_bss(file\u003d\u0027data1/bss.dat\u0027):\n",
        "    result \u003d []\n",
        "    data \u003d np.loadtxt(file, usecols\u003drange(1, 7))\n",
        "    for i, row in enumerate(data, 1):\n",
        "        ascension \u003d hms2dec(row[0], row[1], row[2])\n",
        "        declination \u003d dms2dec(row[3], row[4], row[5])\n",
        "        result.append((i, ascension, declination))\n",
        "    return result\n",
        "\n",
        "\n",
        "def import_super(file\u003d\u0027data1/super.csv\u0027):\n",
        "    result \u003d []\n",
        "    data \u003d np.loadtxt(file, delimiter\u003d\u0027,\u0027, skiprows\u003d1,\n",
        "                      usecols\u003d[0, 1])\n",
        "    for i, row in enumerate(data, 1):\n",
        "        ascension \u003d row[0]\n",
        "        declination \u003d row[1]\n",
        "        result.append((i, ascension, declination))\n",
        "    return result\n",
        "\n",
        "\n",
        "bss_cat \u003d import_bss()\n",
        "super_cat \u003d import_super()\n",
        "\n",
        "print(bss_cat)\n",
        "print(super_cat)"
      ]
    },
    {
      "cell_type": "markdown",
      "metadata": {
        "pycharm": {
          "metadata": false,
          "name": "#%% m"
        }
      },
      "source": [
        "# Find closest Point"
      ]
    },
    {
      "cell_type": "code",
      "execution_count": 92,
      "metadata": {
        "pycharm": {
          "metadata": false,
          "name": "#%% cod"
        }
      },
      "outputs": [
        {
          "name": "stdout",
          "output_type": "stream",
          "text": [
            "(156, 3.7670580226469053)\n",
            "(26, 57.729135775621295)\n"
          ]
        }
      ],
      "source": [
        "def find_closest(catalogue, ascension, declination):\n",
        "    closest \u003d (None, np.inf)\n",
        "    for item in catalogue:\n",
        "        distance \u003d angular_dist(ascension, declination, item[1], item[2])\n",
        "        if distance \u003c closest[1]:\n",
        "            closest \u003d (item[0], distance)\n",
        "    return closest\n",
        "\n",
        "\n",
        "cat \u003d import_bss(\u0027data2/bss.dat\u0027)\n",
        "print(find_closest(cat, 175.3, -32.5))\n",
        "\n",
        "cat \u003d import_bss(\u0027data2/bss.dat\u0027)\n",
        "print(find_closest(cat, 32.2, 40.7))"
      ]
    },
    {
      "cell_type": "markdown",
      "metadata": {
        "pycharm": {
          "metadata": false,
          "name": "#%% md "
        }
      },
      "source": [
        "# Cross-matching"
      ]
    },
    {
      "cell_type": "code",
      "execution_count": 96,
      "metadata": {
        "pycharm": {
          "metadata": false,
          "name": "#%% cod"
        }
      },
      "outputs": [
        {
          "name": "stdout",
          "output_type": "stream",
          "text": [
            "[(1, 2, 0.00010988610938710059), (2, 4, 0.0007649845967242494), (3, 5, 0.00020863352870707666)]\n",
            "[5, 6, 11]\n",
            "9\n",
            "[(1, 2, 0.00010988610938710059), (2, 4, 0.0007649845967242494), (3, 5, 0.00020863352870707666)]\n",
            "[5, 6, 11]\n",
            "40\n"
          ]
        }
      ],
      "source": "def crossmatch(catalogue1, catalogue2, max_dist):\n    matches \u003d []\n    no_matches \u003d []\n    for item1 in catalogue1:\n        closest \u003d find_closest(catalogue2, item1[1], item1[2])\n        if closest[1] \u003e max_dist:\n            no_matches.append(item1[0])\n        else:\n            matches.append((item1[0], closest[0], closest[1]))\n    return matches, no_matches\n\n\nbss_cat \u003d import_bss(\u0027data3/bss.dat\u0027)\nsuper_cat \u003d import_super(\u0027data3/super.csv\u0027)\nmax_distance \u003d 40/3600  # 40 arcsecond\nmatch, no_match \u003d crossmatch(bss_cat, super_cat, max_distance)\nprint(match[:3])\nprint(no_match[:3])\nprint(len(no_match))\n\nmax_distance \u003d 5/3600  # 5 arcsecond\nmatch, no_match \u003d crossmatch(bss_cat, super_cat, max_distance)\nprint(match[:3])\nprint(no_match[:3])\nprint(len(no_match))"
    }
  ],
  "metadata": {
    "kernelspec": {
      "display_name": "Python 3",
      "language": "python",
      "name": "python3"
    },
    "language_info": {
      "codemirror_mode": {
        "name": "ipython",
        "version": 3
      },
      "file_extension": ".py",
      "mimetype": "text/x-python",
      "name": "python",
      "nbconvert_exporter": "python",
      "pygments_lexer": "ipython3",
      "version": "3.7.0"
    },
    "stem_cell": {
      "cell_type": "raw",
      "metadata": {
        "pycharm": {
          "metadata": false
        }
      },
      "source": ""
    }
  },
  "nbformat": 4,
  "nbformat_minor": 1
}