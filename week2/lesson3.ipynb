{
 "cells": [
  {
   "cell_type": "markdown",
   "metadata": {
    "pycharm": {
     "metadata": false,
     "name": "#%% m"
    }
   },
   "source": [
    "# Convert HMS to degrees"
   ]
  },
  {
   "cell_type": "code",
   "execution_count": 3,
   "metadata": {
    "pycharm": {
     "metadata": false,
     "name": "#%% cod"
    }
   },
   "outputs": [
    {
     "data": {
      "text/plain": [
       "348.025"
      ]
     },
     "execution_count": 3,
     "metadata": {},
     "output_type": "execute_result"
    }
   ],
   "source": [
    "def hms2dec(hours, minutes, seconds):\n",
    "    # 1 hour is 15 degrees\n",
    "    return 15*(hours + minutes/60 + seconds/(60*60))\n",
    "\n",
    "\n",
    "hms2dec(23, 12, 6)"
   ]
  },
  {
   "cell_type": "markdown",
   "metadata": {
    "pycharm": {
     "metadata": false,
     "name": "#%% m"
    }
   },
   "source": [
    "# Convert DMS to decimal degrees"
   ]
  },
  {
   "cell_type": "code",
   "execution_count": 5,
   "metadata": {
    "pycharm": {
     "metadata": false,
     "name": "#%% cod"
    }
   },
   "outputs": [
    {
     "name": "stdout",
     "output_type": "stream",
     "text": [
      "22.955\n",
      "-66.08475\n"
     ]
    }
   ],
   "source": [
    "def dms2dec(degrees, arcminutes, arcseconds):\n",
    "    angle = abs(degrees) + arcminutes/60 + arcseconds/(60*60)\n",
    "    return angle if degrees > 0 else -angle\n",
    "\n",
    "\n",
    "print(dms2dec(22, 57, 18))\n",
    "print(dms2dec(-66, 5, 5.1))"
   ]
  },
  {
   "cell_type": "markdown",
   "metadata": {
    "pycharm": {
     "metadata": false,
     "name": "#%% m"
    }
   },
   "source": [
    "# HMS to DMS\n",
    "\n",
    "A minute in HMS is equal to 15 arcminutes in DMS and a second is equal to 15\n",
    "arcseconds."
   ]
  }
 ],
 "metadata": {
  "kernelspec": {
   "display_name": "Python 3",
   "language": "python",
   "name": "python3"
  },
  "language_info": {
   "codemirror_mode": {
    "name": "ipython",
    "version": 3
   },
   "file_extension": ".py",
   "mimetype": "text/x-python",
   "name": "python",
   "nbconvert_exporter": "python",
   "pygments_lexer": "ipython3",
   "version": "3.7.0"
  },
  "stem_cell": {
   "cell_type": "raw",
   "metadata": {
    "pycharm": {
     "metadata": false
    }
   },
   "source": ""
  }
 },
 "nbformat": 4,
 "nbformat_minor": 1
}
