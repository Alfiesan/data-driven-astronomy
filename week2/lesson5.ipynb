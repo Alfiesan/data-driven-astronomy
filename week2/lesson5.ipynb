{
 "cells": [
  {
   "cell_type": "markdown",
   "metadata": {
    "pycharm": {
     "name": "#%% m"
    }
   },
   "source": [
    "# Covert Degrees in Advance"
   ]
  },
  {
   "cell_type": "code",
   "execution_count": 45,
   "metadata": {
    "pycharm": {
     "metadata": false,
     "name": "#%% cod"
    }
   },
   "outputs": [],
   "source": [
    "import time\n",
    "\n",
    "import numpy as np"
   ]
  },
  {
   "cell_type": "code",
   "execution_count": 46,
   "metadata": {
    "pycharm": {
     "metadata": false,
     "name": "#%% code "
    }
   },
   "outputs": [],
   "source": [
    "def hms2dec(hours, minutes, seconds):\n",
    "    return 15*(hours + minutes/60 + seconds/(60*60))\n",
    "\n",
    "\n",
    "def dms2dec(degrees, arcminutes, arcseconds):\n",
    "    angle = abs(degrees) + arcminutes/60 + arcseconds/(60*60)\n",
    "    return angle if degrees > 0 else -angle\n",
    "\n",
    "\n",
    "def angular_dist(ra1, dec1, ra2, dec2):\n",
    "    a = np.sin(np.abs(dec1 - dec2)/2)**2\n",
    "    b = np.cos(dec1)*np.cos(dec2)*np.sin(np.abs(ra1 - ra2)/2)**2\n",
    "    d = 2*np.arcsin(np.sqrt(a + b))\n",
    "    return np.degrees(d)\n",
    "\n",
    "\n",
    "def find_closest(catalogue, ra1, dec1):\n",
    "    closest = (None, np.inf)\n",
    "    for i, (ra2, dec2) in enumerate(catalogue):\n",
    "        distance = angular_dist(ra1, dec1, ra2, dec2)\n",
    "        if distance < closest[1]:\n",
    "            closest = (i, distance)\n",
    "    return closest\n",
    "\n",
    "\n",
    "def crossmatch(catalogue1, catalogue2, max_dist):\n",
    "    start = time.perf_counter()\n",
    "    \n",
    "    matches = []\n",
    "    no_matches = []\n",
    "    \n",
    "    catalogue1 = np.radians(catalogue1)\n",
    "    catalogue2 = np.radians(catalogue2)\n",
    "    \n",
    "    for i, (ra1, dec1) in enumerate(catalogue1):\n",
    "        j, closest_dist = find_closest(catalogue2, ra1, dec1)\n",
    "        if closest_dist > max_dist:\n",
    "            no_matches.append(i)\n",
    "        else:\n",
    "            matches.append((i, j, closest_dist))\n",
    "\n",
    "    time_taken = time.perf_counter() - start\n",
    "    return matches, no_matches, time_taken"
   ]
  },
  {
   "cell_type": "code",
   "execution_count": 47,
   "metadata": {
    "pycharm": {
     "metadata": false,
     "name": "#%% cod"
    }
   },
   "outputs": [
    {
     "name": "stdout",
     "output_type": "stream",
     "text": [
      "matches: [(0, 0, 2.0000000000000027), (2, 2, 1.7420109046547023)]\n",
      "unmatched: [1]\n",
      "time taken: 0.00018625299981067656\n"
     ]
    }
   ],
   "source": [
    "def main():\n",
    "    cat1 = np.array([[180, 30], [45, 10], [300, -45]])\n",
    "    cat2 = np.array([[180, 32], [55, 10], [302, -44]])\n",
    "    matches, no_matches, time_taken = crossmatch(cat1, cat2, 5)\n",
    "    print('matches:', matches)\n",
    "    print('unmatched:', no_matches)\n",
    "    print('time taken:', time_taken)\n",
    "\n",
    "\n",
    "if __name__ == '__main__':\n",
    "    main()"
   ]
  },
  {
   "cell_type": "markdown",
   "metadata": {
    "pycharm": {
     "metadata": false,
     "name": "#%% m"
    }
   },
   "source": [
    "# Vectorisation"
   ]
  },
  {
   "cell_type": "code",
   "execution_count": 48,
   "metadata": {
    "pycharm": {
     "metadata": false,
     "name": "#%% cod"
    }
   },
   "outputs": [],
   "source": [
    "def hms2dec(hours, minutes, seconds):\n",
    "    return 15*(hours + minutes/60 + seconds/(60*60))\n",
    "\n",
    "\n",
    "def dms2dec(degrees, arcminutes, arcseconds):\n",
    "    angle = abs(degrees) + arcminutes/60 + arcseconds/(60*60)\n",
    "    return angle if degrees > 0 else -angle\n",
    "\n",
    "\n",
    "def angular_dist(ra1, dec1, ra2, dec2):\n",
    "    a = np.sin(np.abs(dec1 - dec2)/2)**2\n",
    "    b = np.cos(dec1)*np.cos(dec2)*np.sin(np.abs(ra1 - ra2)/2)**2\n",
    "    return 2*np.arcsin(np.sqrt(a + b))\n",
    "\n",
    "\n",
    "def find_closest(cat2, ra1, dec1):    \n",
    "    ra2s = cat2[:, 0]\n",
    "    dec2s = cat2[:, 1]\n",
    "    dists = angular_dist(ra1, dec1, ra2s, dec2s)\n",
    "    closest_id = np.argmin(dists)\n",
    "    return closest_id, dists[closest_id]\n",
    "\n",
    "\n",
    "def crossmatch(catalogue1, catalogue2, max_dist):\n",
    "    start = time.perf_counter()\n",
    "    \n",
    "    matches = []\n",
    "    no_matches = []\n",
    "    \n",
    "    max_dist = np.radians(max_dist)\n",
    "    catalogue1 = np.radians(catalogue1)\n",
    "    catalogue2 = np.radians(catalogue2)\n",
    "    \n",
    "    for i, (ra1, dec1) in enumerate(catalogue1):\n",
    "        j, closest_dist = find_closest(catalogue2, ra1, dec1)\n",
    "        if closest_dist > max_dist:\n",
    "            no_matches.append(i)\n",
    "        else:\n",
    "            matches.append((i, j, closest_dist))\n",
    "\n",
    "    time_taken = time.perf_counter() - start\n",
    "    return matches, no_matches, time_taken"
   ]
  },
  {
   "cell_type": "code",
   "execution_count": 49,
   "metadata": {
    "pycharm": {
     "metadata": false,
     "name": "#%% cod"
    }
   },
   "outputs": [
    {
     "name": "stdout",
     "output_type": "stream",
     "text": [
      "[  2.         113.72587199 132.64478705]\n",
      "matches: [(0, 0, 0.03490658503988664), (2, 2, 0.03040382589186957)]\n",
      "unmatched: [1]\n",
      "time taken: 0.0001228339997396688\n"
     ]
    }
   ],
   "source": [
    "def main():\n",
    "    ra1, dec1 = np.radians([180, 30])\n",
    "    cat2 = [[180, 32], [55, 10], [302, -44]]\n",
    "    cat2 = np.radians(cat2)\n",
    "    ra2s, dec2s = cat2[:,0], cat2[:,1]\n",
    "    dists = angular_dist(ra1, dec1, ra2s, dec2s)\n",
    "    print(np.degrees(dists))\n",
    "    \n",
    "    cat1 = np.array([[180, 30], [45, 10], [300, -45]])\n",
    "    cat2 = np.array([[180, 32], [55, 10], [302, -44]])\n",
    "    matches, no_matches, time_taken = crossmatch(cat1, cat2, 5)\n",
    "    print('matches:', matches)\n",
    "    print('unmatched:', no_matches)\n",
    "    print('time taken:', time_taken)\n",
    "\n",
    "\n",
    "if __name__ == '__main__':\n",
    "    main()"
   ]
  }
 ],
 "metadata": {
  "kernelspec": {
   "display_name": "Python 3",
   "language": "python",
   "name": "python3"
  },
  "language_info": {
   "codemirror_mode": {
    "name": "ipython",
    "version": 3
   },
   "file_extension": ".py",
   "mimetype": "text/x-python",
   "name": "python",
   "nbconvert_exporter": "python",
   "pygments_lexer": "ipython3",
   "version": "3.7.0"
  }
 },
 "nbformat": 4,
 "nbformat_minor": 1
}
