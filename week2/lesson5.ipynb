{
  "cells": [
    {
      "cell_type": "markdown",
      "metadata": {
        "pycharm": {
          "name": "#%% m"
        }
      },
      "source": [
        "# Covert Degrees in Advance"
      ]
    },
    {
      "cell_type": "code",
      "execution_count": 45,
      "metadata": {
        "pycharm": {
          "metadata": false,
          "name": "#%% cod"
        }
      },
      "outputs": [],
      "source": [
        "import time\n",
        "\n",
        "import numpy as np"
      ]
    },
    {
      "cell_type": "code",
      "execution_count": 46,
      "metadata": {
        "pycharm": {
          "metadata": false,
          "name": "#%% code "
        }
      },
      "outputs": [],
      "source": [
        "def hms2dec(hours, minutes, seconds):\n",
        "    return 15*(hours + minutes/60 + seconds/(60*60))\n",
        "\n",
        "\n",
        "def dms2dec(degrees, arcminutes, arcseconds):\n",
        "    angle \u003d abs(degrees) + arcminutes/60 + arcseconds/(60*60)\n",
        "    return angle if degrees \u003e 0 else -angle\n",
        "\n",
        "\n",
        "def angular_dist(ra1, dec1, ra2, dec2):\n",
        "    a \u003d np.sin(np.abs(dec1 - dec2)/2)**2\n",
        "    b \u003d np.cos(dec1)*np.cos(dec2)*np.sin(np.abs(ra1 - ra2)/2)**2\n",
        "    d \u003d 2*np.arcsin(np.sqrt(a + b))\n",
        "    return np.degrees(d)\n",
        "\n",
        "\n",
        "def find_closest(catalogue, ra1, dec1):\n",
        "    closest \u003d (None, np.inf)\n",
        "    for i, (ra2, dec2) in enumerate(catalogue):\n",
        "        distance \u003d angular_dist(ra1, dec1, ra2, dec2)\n",
        "        if distance \u003c closest[1]:\n",
        "            closest \u003d (i, distance)\n",
        "    return closest\n",
        "\n",
        "\n",
        "def crossmatch(catalogue1, catalogue2, max_dist):\n",
        "    start \u003d time.perf_counter()\n",
        "    \n",
        "    matches \u003d []\n",
        "    no_matches \u003d []\n",
        "    \n",
        "    catalogue1 \u003d np.radians(catalogue1)\n",
        "    catalogue2 \u003d np.radians(catalogue2)\n",
        "    \n",
        "    for i, (ra1, dec1) in enumerate(catalogue1):\n",
        "        j, closest_dist \u003d find_closest(catalogue2, ra1, dec1)\n",
        "        if closest_dist \u003e max_dist:\n",
        "            no_matches.append(i)\n",
        "        else:\n",
        "            matches.append((i, j, closest_dist))\n",
        "\n",
        "    time_taken \u003d time.perf_counter() - start\n",
        "    return matches, no_matches, time_taken"
      ]
    },
    {
      "cell_type": "code",
      "execution_count": 47,
      "metadata": {
        "pycharm": {
          "metadata": false,
          "name": "#%% cod"
        }
      },
      "outputs": [
        {
          "name": "stdout",
          "output_type": "stream",
          "text": [
            "matches: [(0, 0, 2.0000000000000027), (2, 2, 1.7420109046547023)]\n",
            "unmatched: [1]\n",
            "time taken: 0.00018625299981067656\n"
          ]
        }
      ],
      "source": [
        "def main():\n",
        "    cat1 \u003d np.array([[180, 30], [45, 10], [300, -45]])\n",
        "    cat2 \u003d np.array([[180, 32], [55, 10], [302, -44]])\n",
        "    matches, no_matches, time_taken \u003d crossmatch(cat1, cat2, 5)\n",
        "    print(\u0027matches:\u0027, matches)\n",
        "    print(\u0027unmatched:\u0027, no_matches)\n",
        "    print(\u0027time taken:\u0027, time_taken)\n",
        "\n",
        "\n",
        "if __name__ \u003d\u003d \u0027__main__\u0027:\n",
        "    main()"
      ]
    },
    {
      "cell_type": "markdown",
      "metadata": {
        "pycharm": {
          "metadata": false,
          "name": "#%% m"
        }
      },
      "source": [
        "# Vectorisation"
      ]
    },
    {
      "cell_type": "code",
      "execution_count": 48,
      "metadata": {
        "pycharm": {
          "metadata": false,
          "name": "#%% cod"
        }
      },
      "outputs": [],
      "source": [
        "def hms2dec(hours, minutes, seconds):\n",
        "    return 15*(hours + minutes/60 + seconds/(60*60))\n",
        "\n",
        "\n",
        "def dms2dec(degrees, arcminutes, arcseconds):\n",
        "    angle \u003d abs(degrees) + arcminutes/60 + arcseconds/(60*60)\n",
        "    return angle if degrees \u003e 0 else -angle\n",
        "\n",
        "\n",
        "def angular_dist(ra1, dec1, ra2, dec2):\n",
        "    a \u003d np.sin(np.abs(dec1 - dec2)/2)**2\n",
        "    b \u003d np.cos(dec1)*np.cos(dec2)*np.sin(np.abs(ra1 - ra2)/2)**2\n",
        "    return 2*np.arcsin(np.sqrt(a + b))\n",
        "\n",
        "\n",
        "def find_closest(cat2, ra1, dec1):    \n",
        "    ra2s \u003d cat2[:, 0]\n",
        "    dec2s \u003d cat2[:, 1]\n",
        "    dists \u003d angular_dist(ra1, dec1, ra2s, dec2s)\n",
        "    closest_id \u003d np.argmin(dists)\n",
        "    return closest_id, dists[closest_id]\n",
        "\n",
        "\n",
        "def crossmatch(catalogue1, catalogue2, max_dist):\n",
        "    start \u003d time.perf_counter()\n",
        "    \n",
        "    matches \u003d []\n",
        "    no_matches \u003d []\n",
        "    \n",
        "    max_dist \u003d np.radians(max_dist)\n",
        "    catalogue1 \u003d np.radians(catalogue1)\n",
        "    catalogue2 \u003d np.radians(catalogue2)\n",
        "    \n",
        "    for i, (ra1, dec1) in enumerate(catalogue1):\n",
        "        j, closest_dist \u003d find_closest(catalogue2, ra1, dec1)\n",
        "        if closest_dist \u003e max_dist:\n",
        "            no_matches.append(i)\n",
        "        else:\n",
        "            matches.append((i, j, closest_dist))\n",
        "\n",
        "    time_taken \u003d time.perf_counter() - start\n",
        "    return matches, no_matches, time_taken"
      ]
    },
    {
      "cell_type": "code",
      "execution_count": 49,
      "metadata": {
        "pycharm": {
          "metadata": false,
          "name": "#%% cod"
        }
      },
      "outputs": [
        {
          "name": "stdout",
          "output_type": "stream",
          "text": [
            "[  2.         113.72587199 132.64478705]\n",
            "matches: [(0, 0, 0.03490658503988664), (2, 2, 0.03040382589186957)]\n",
            "unmatched: [1]\n",
            "time taken: 0.0001228339997396688\n"
          ]
        }
      ],
      "source": "def main():\n    ra1, dec1 \u003d np.radians([180, 30])\n    cat2 \u003d [[180, 32], [55, 10], [302, -44]]\n    cat2 \u003d np.radians(cat2)\n    ra2s, dec2s \u003d cat2[:,0], cat2[:,1]\n    dists \u003d angular_dist(ra1, dec1, ra2s, dec2s)\n    print(np.degrees(dists))\n    \n    cat1 \u003d np.array([[180, 30], [45, 10], [300, -45]])\n    cat2 \u003d np.array([[180, 32], [55, 10], [302, -44]])\n    matches, no_matches, time_taken \u003d crossmatch(cat1, cat2, 5)\n    print(\u0027matches:\u0027, matches)\n    print(\u0027unmatched:\u0027, no_matches)\n    print(\u0027time taken:\u0027, time_taken)\n\n\nif __name__ \u003d\u003d \u0027__main__\u0027:\n    main()"
    },
    {
      "cell_type": "markdown",
      "source": "# Skip Points",
      "metadata": {
        "pycharm": {
          "metadata": false,
          "name": "#%% m"
        }
      }
    },
    {
      "cell_type": "code",
      "source": "def hms2dec(hours, minutes, seconds):\n    return 15*(hours + minutes/60 + seconds/(60*60))\n\n\ndef dms2dec(degrees, arcminutes, arcseconds):\n    angle \u003d abs(degrees) + arcminutes/60 + arcseconds/(60*60)\n    return angle if degrees \u003e 0 else -angle\n\n\ndef angular_dist(ra1, dec1, ra2, dec2):\n    a \u003d np.sin(np.abs(dec1 - dec2)/2)**2\n    b \u003d np.cos(dec1)*np.cos(dec2)*np.sin(np.abs(ra1 - ra2)/2)**2\n    return 2*np.arcsin(np.sqrt(a + b))\n\n\ndef find_closest(cat2, ra1, dec1, max_dist):\n    # cat2 is expected to be sorted\n    closest \u003d (None, np.inf)\n    for i, (ra2, dec2) in enumerate(cat2):\n        if dec2 \u003e dec1 + max_dist:\n            break  # if we are too far away already\n        distance \u003d angular_dist(ra1, dec1, ra2, dec2)\n        if distance \u003c closest[1]:\n            closest \u003d (i, distance)\n    return closest\n\n\ndef crossmatch(cat1, cat2, max_dist):\n    start \u003d time.perf_counter()\n    \n    matches \u003d []\n    no_matches \u003d []\n    \n    max_dist \u003d np.radians(max_dist)\n    cat1 \u003d np.radians(cat1)\n    cat2 \u003d np.radians(cat2)\n    \n    cat2_sorted_ids \u003d np.argsort(cat2[:,1])\n    cat2_sorted \u003d cat2[cat2_sorted_ids]\n    \n    for i, (ra1, dec1) in enumerate(cat1):\n        j, closest_dist \u003d find_closest(cat2_sorted, ra1, dec1, max_dist)\n        if closest_dist \u003e max_dist:\n            no_matches.append(i)\n        else:\n            old_j \u003d cat2_sorted_ids[j]\n            matches.append((i, old_j, closest_dist))\n\n    time_taken \u003d time.perf_counter() - start\n    return matches, no_matches, time_taken",
      "metadata": {
        "pycharm": {
          "metadata": false,
          "name": "#%% cod"
        }
      },
      "execution_count": null,
      "outputs": []
    },
    {
      "cell_type": "code",
      "source": "def main():\n    cat1 \u003d np.array([[180, 30], [45, 10], [300, -45]])\n    cat2 \u003d np.array([[180, 32], [55, 10], [302, -44]])\n    matches, no_matches, time_taken \u003d crossmatch(cat1, cat2, 5)\n    print(\u0027matches:\u0027, matches)\n    print(\u0027unmatched:\u0027, no_matches)\n    print(\u0027time taken:\u0027, time_taken)\n\n    def create_cat(n):\n        \"\"\"Create random catalogue.\"\"\"\n        ras \u003d np.random.uniform(0, 360, size\u003d(n, 1))\n        decs \u003d np.random.uniform(-90, 90, size\u003d(n, 1))\n        return np.hstack((ras, decs))\n\n    # Test on random inputs\n    np.random.seed(0)\n    cat1 \u003d create_cat(10)\n    cat2 \u003d create_cat(20)\n    matches, no_matches, time_taken \u003d crossmatch(cat1, cat2, 5)\n    print(\u0027matches:\u0027, matches)\n    print(\u0027unmatched:\u0027, no_matches)\n    print(\u0027time taken:\u0027, time_taken)\n\nif __name__ \u003d\u003d \u0027__main__\u0027:\n    main()",
      "metadata": {
        "pycharm": {
          "metadata": false,
          "name": "#%% cod"
        }
      },
      "execution_count": null,
      "outputs": []
    }
  ],
  "metadata": {
    "kernelspec": {
      "display_name": "Python 3",
      "language": "python",
      "name": "python3"
    },
    "language_info": {
      "codemirror_mode": {
        "name": "ipython",
        "version": 3
      },
      "file_extension": ".py",
      "mimetype": "text/x-python",
      "name": "python",
      "nbconvert_exporter": "python",
      "pygments_lexer": "ipython3",
      "version": "3.7.0"
    }
  },
  "nbformat": 4,
  "nbformat_minor": 1
}