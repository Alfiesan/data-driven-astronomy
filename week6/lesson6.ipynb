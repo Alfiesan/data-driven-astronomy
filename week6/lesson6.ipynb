{
 "cells": [
  {
   "cell_type": "code",
   "execution_count": 1,
   "metadata": {
    "collapsed": true,
    "pycharm": {
     "is_executing": false
    }
   },
   "outputs": [],
   "source": [
    "import itertools\n",
    "\n",
    "import numpy as np\n",
    "from sklearn.tree import DecisionTreeClassifier\n",
    "from matplotlib import pyplot as plt\n",
    "from sklearn.metrics import confusion_matrix\n",
    "from sklearn.model_selection import cross_val_predict\n",
    "from sklearn.ensemble import RandomForestClassifier"
   ]
  },
  {
   "cell_type": "markdown",
   "source": [
    "# Task 1\n",
    "\n",
    "Split the data"
   ],
   "metadata": {
    "pycharm": {
     "metadata": false,
     "name": "#%% md\n"
    }
   }
  },
  {
   "cell_type": "code",
   "source": "def splitdata_train_test(data, fraction_training):\n    # Shuffle the data\n    np.random.shuffle(data)\n    \n    # Split the data\n    limit = int(len(data)*fraction_training)\n    training = data[0:limit]\n    testing = data[limit:]\n    \n    return training, testing\n\n\ndef main():\n    data = np.load('data1/galaxy_catalogue.npy')\n\n    # set the fraction of data which should be in the training set\n    fraction_training = 0.7\n\n    # split the data using your function\n    training, testing = splitdata_train_test(data, fraction_training)\n\n    # print the key values\n    print('Number data galaxies:', len(data))\n    print('Train fraction:', fraction_training)\n    print('Number of galaxies in training set:', len(training))\n    print('Number of galaxies in testing set:', len(testing))\n\n\nmain()",
   "metadata": {
    "pycharm": {
     "metadata": false,
     "name": "#%%\n",
     "is_executing": false
    }
   },
   "execution_count": 2,
   "outputs": [
    {
     "name": "stdout",
     "text": [
      "Number data galaxies: 780\nTrain fraction: 0.7\nNumber of galaxies in training set: 546\nNumber of galaxies in testing set: 234\n"
     ],
     "output_type": "stream"
    }
   ]
  },
  {
   "cell_type": "markdown",
   "source": "# Task 2\n\nGenerate feature targets",
   "metadata": {
    "pycharm": {
     "metadata": false,
     "name": "#%% md\n"
    }
   }
  },
  {
   "cell_type": "code",
   "source": "def generate_features_targets(data):\n    targets = data['class']\n\n    features = np.empty(shape=(len(data), 13))\n    features[:, 0] = data['u-g']\n    features[:, 1] = data['g-r']\n    features[:, 2] = data['r-i']\n    features[:, 3] = data['i-z']\n    features[:, 4] = data['ecc']\n    features[:, 5] = data['m4_u']\n    features[:, 6] = data['m4_g']\n    features[:, 7] = data['m4_r']\n    features[:, 8] = data['m4_i']\n    features[:, 9] = data['m4_z']\n\n    # concentration in u filter\n    features[:, 10] = data['petroR50_u']/data['petroR90_u']\n    # concentration in r filter\n    features[:, 11] = data['petroR50_r']/data['petroR90_r']\n    # concentration in z filter\n    features[:, 12] = data['petroR50_z']/data['petroR90_z']\n\n    return features, targets\n\n\ndef main():\n  data = np.load('data1/galaxy_catalogue.npy')\n\n  features, targets = generate_features_targets(data)\n\n  # The shape of each array to check the arrays are the correct dimensions \n  print(\"Features shape:\", features.shape)\n  print(\"Targets shape:\", targets.shape)\n\n\nmain()",
   "metadata": {
    "pycharm": {
     "metadata": false,
     "name": "#%%\n",
     "is_executing": false
    }
   },
   "execution_count": 3,
   "outputs": [
    {
     "name": "stdout",
     "text": [
      "Features shape: (780, 13)\nTargets shape: (780,)\n"
     ],
     "output_type": "stream"
    }
   ]
  },
  {
   "cell_type": "markdown",
   "source": "# Task 3\n\nTrain the decision tree classifier",
   "metadata": {
    "pycharm": {
     "metadata": false,
     "name": "#%% md\n"
    }
   }
  },
  {
   "cell_type": "code",
   "source": "def dtc_predict_actual(data):\n    # split the data into training and testing sets using a training\n    # fraction of 0.7\n    training, testing = splitdata_train_test(data, 0.7)\n\n    # generate the feature and targets for the training and test sets\n    # i.e. train_features, train_targets, test_features, test_targets\n    train_features, train_targets = generate_features_targets(training)\n    test_features, test_targets = generate_features_targets(testing)\n\n    # instantiate a decision tree classifier\n    dtr = DecisionTreeClassifier()\n\n    # train the classifier with the train_features and train_targets\n    dtr.fit(train_features, train_targets)\n\n    # get predictions for the test_features\n    predictions = dtr.predict(test_features)\n\n    # return the predictions and the test_targets\n    return predictions, test_targets\n\n\ndef main():\n    data = np.load('data1/galaxy_catalogue.npy')\n    \n    predicted_class, actual_class = dtc_predict_actual(data)\n\n    # Print some of the initial results\n    print(\"Some initial results...\\n   predicted,  actual\")\n    for i in range(10):\n        print(\"{}. {}, {}\".format(i, predicted_class[i], actual_class[i]))\n\n\nmain()",
   "metadata": {
    "pycharm": {
     "metadata": false,
     "name": "#%%\n",
     "is_executing": false
    }
   },
   "execution_count": 4,
   "outputs": [
    {
     "name": "stdout",
     "text": [
      "Some initial results...\n   predicted,  actual\n0. spiral, spiral\n1. spiral, spiral\n2. spiral, merger\n3. elliptical, elliptical\n4. spiral, merger\n5. elliptical, elliptical\n6. spiral, spiral\n7. merger, spiral\n8. elliptical, elliptical\n9. elliptical, merger\n"
     ],
     "output_type": "stream"
    }
   ]
  },
  {
   "cell_type": "markdown",
   "source": "# Task 4",
   "metadata": {
    "pycharm": {
     "metadata": false,
     "name": "#%% md\n"
    }
   }
  },
  {
   "cell_type": "code",
   "source": "def plot_confusion_matrix(cm, classes,\n                          normalize=False,\n                          title='Confusion matrix',\n                          cmap=plt.cm.Blues):\n    \"\"\"\n    This function prints and plots the confusion matrix.\n    Normalization can be applied by setting `normalize=True`.\n    \"\"\"\n    plt.imshow(cm, interpolation='nearest', cmap=cmap)\n    plt.title(title)\n    plt.colorbar()\n    tick_marks = np.arange(len(classes))\n    plt.xticks(tick_marks, classes, rotation=45)\n    plt.yticks(tick_marks, classes)\n\n    if normalize:\n        cm = cm.astype('float') / cm.sum(axis=1)[:, np.newaxis]\n        print(\"Normalized confusion matrix\")\n    else:\n        print('Confusion matrix, without normalization')\n\n    print(cm)\n\n    thresh = cm.max() / 2.\n    for i, j in itertools.product(range(cm.shape[0]), range(cm.shape[1])):\n        plt.text(j, i, \"{}\".format(cm[i, j]),\n                 horizontalalignment=\"center\",\n                 color=\"white\" if cm[i, j] > thresh else \"black\")\n\n    plt.tight_layout()\n    plt.ylabel('True Class')\n    plt.xlabel('Predicted Class')\n\n\ndef calculate_accuracy(predicted, actual):\n    correct = sum(predicted == actual)\n    return correct/(len(predicted))\n\n\ndef main():\n    data = np.load('data1/galaxy_catalogue.npy')\n\n    # split the data\n    features, targets = generate_features_targets(data)\n\n    # train the model to get predicted and actual classes\n    dtc = DecisionTreeClassifier()\n    predicted = cross_val_predict(dtc, features, targets, cv=10)\n\n    # calculate the model score using your function\n    model_score = calculate_accuracy(predicted, targets)\n    print(\"Our accuracy score:\", model_score)\n\n    # calculate the models confusion matrix using sklearns confusion_matrix\n    class_labels = list(set(targets))\n    model_cm = confusion_matrix(y_true=targets, y_pred=predicted,\n                                labels=class_labels)\n\n    # Plot the confusion matrix using the provided functions.\n    plt.figure()\n    plot_confusion_matrix(model_cm, classes=class_labels, normalize=False)\n    plt.show()\n\n\nmain()",
   "metadata": {
    "pycharm": {
     "metadata": false,
     "name": "#%%\n",
     "is_executing": false
    }
   },
   "execution_count": 5,
   "outputs": [
    {
     "name": "stdout",
     "text": [
      "Our accuracy score: 0.7897435897435897\nConfusion matrix, without normalization\n[[232   3  25]\n [  5 200  55]\n [ 23  53 184]]\n"
     ],
     "output_type": "stream"
    },
    {
     "data": {
      "text/plain": "<Figure size 432x288 with 2 Axes>",
      "image/png": "[encoded data removed]"
     },
     "metadata": {
      "needs_background": "light"
     },
     "output_type": "display_data"
    }
   ]
  },
  {
   "cell_type": "markdown",
   "source": "# Task 5",
   "metadata": {
    "pycharm": {
     "metadata": false,
     "name": "#%% md\n"
    }
   }
  },
  {
   "cell_type": "code",
   "source": "def rf_predict_actual(data, n_estimators):\n    # generate the features and targets\n    features, targets = generate_features_targets(data)\n\n    # instantiate a random forest classifier using n estimators\n    rfc = RandomForestClassifier(n_estimators=n_estimators)\n  \n    # get predictions using 10-fold cross validation with cross_val_predict\n    predicted = cross_val_predict(rfc, features, targets, cv=10)\n\n    # return the predictions and their actual classes\n    return predicted, targets\n\n\ndef main():\n    data = np.load('data1/galaxy_catalogue.npy')\n\n    # get the predicted and actual classes\n    number_estimators = 50              # Number of trees\n    predicted, actual = rf_predict_actual(data, number_estimators)\n\n    # calculate the model score using your function\n    accuracy = calculate_accuracy(predicted, actual)\n    print(\"Accuracy score:\", accuracy)\n\n    # calculate the models confusion matrix using sklearns confusion_matrix\n    class_labels = list(set(actual))\n    model_cm = confusion_matrix(y_true=actual, y_pred=predicted,\n                                labels=class_labels)\n\n    # plot the confusion matrix using the provided functions.\n    plt.figure()\n    plot_confusion_matrix(model_cm, classes=class_labels, normalize=False)\n    plt.show()\n\n\nmain()",
   "metadata": {
    "pycharm": {
     "metadata": false,
     "name": "#%%\n",
     "is_executing": false
    }
   },
   "execution_count": 6,
   "outputs": [
    {
     "name": "stdout",
     "text": [
      "Accuracy score: 0.8615384615384616\nConfusion matrix, without normalization\n[[245   1  14]\n [  3 218  39]\n [ 16  35 209]]\n"
     ],
     "output_type": "stream"
    },
    {
     "data": {
      "text/plain": "<Figure size 432x288 with 2 Axes>",
      "image/png": "[encoded data removed]"
     },
     "metadata": {
      "needs_background": "light"
     },
     "output_type": "display_data"
    }
   ]
  }
 ],
 "metadata": {
  "kernelspec": {
   "name": "python3",
   "language": "python",
   "display_name": "Python 3"
  },
  "language_info": {
   "codemirror_mode": {
    "name": "ipython",
    "version": 2
   },
   "file_extension": ".py",
   "mimetype": "text/x-python",
   "name": "python",
   "nbconvert_exporter": "python",
   "pygments_lexer": "ipython2",
   "version": "2.7.6"
  },
  "stem_cell": {
   "cell_type": "raw",
   "source": "",
   "metadata": {
    "pycharm": {
     "metadata": false
    }
   }
  },
  "pycharm": {
   "stem_cell": {
    "cell_type": "raw",
    "source": [],
    "metadata": {
     "collapsed": false
    }
   }
  }
 },
 "nbformat": 4,
 "nbformat_minor": 0
}