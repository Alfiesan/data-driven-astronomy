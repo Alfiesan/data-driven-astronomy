{
  "cells": [
    {
      "cell_type": "code",
      "execution_count": 8,
      "metadata": {
        "collapsed": true
      },
      "outputs": [],
      "source": "import numpy as np"
    },
    {
      "cell_type": "markdown",
      "source": "# Task 1\n\nSplit the data",
      "metadata": {
        "pycharm": {
          "metadata": false,
          "name": "#%% m"
        }
      }
    },
    {
      "cell_type": "code",
      "source": "def splitdata_train_test(data, fraction_training):\n    # Shuffle the data\n    np.random.shuffle(data)\n    \n    # Split the data\n    limit \u003d int(len(data)*fraction_training)\n    training \u003d data[0:limit]\n    testing \u003d data[limit:]\n    \n    return training, testing\n\n\ndef main():\n    data \u003d np.load(\u0027data1/galaxy_catalogue.npy\u0027)\n\n    # set the fraction of data which should be in the training set\n    fraction_training \u003d 0.7\n\n    # split the data using your function\n    training, testing \u003d splitdata_train_test(data, fraction_training)\n\n    # print the key values\n    print(\u0027Number data galaxies:\u0027, len(data))\n    print(\u0027Train fraction:\u0027, fraction_training)\n    print(\u0027Number of galaxies in training set:\u0027, len(training))\n    print(\u0027Number of galaxies in testing set:\u0027, len(testing))\n\n\nif __name__ \u003d\u003d \"__main__\":\n    main()",
      "metadata": {
        "pycharm": {
          "metadata": false,
          "name": "#%% cod"
        }
      },
      "execution_count": 11,
      "outputs": [
        {
          "name": "stdout",
          "text": [
            "Number data galaxies: 780\nTrain fraction: 0.7\nNumber of galaxies in training set: 546\nNumber of galaxies in testing set: 234\n"
          ],
          "output_type": "stream"
        }
      ]
    },
    {
      "cell_type": "markdown",
      "source": "# Task 2\n\nGenerate feature targets",
      "metadata": {
        "pycharm": {
          "metadata": false,
          "name": "#%% m"
        }
      }
    },
    {
      "cell_type": "code",
      "source": "def generate_features_targets(data):\n    targets \u003d data[\u0027class\u0027]\n\n    features \u003d np.empty(shape\u003d(len(data), 13))\n    features[:, 0] \u003d data[\u0027u-g\u0027]\n    features[:, 1] \u003d data[\u0027g-r\u0027]\n    features[:, 2] \u003d data[\u0027r-i\u0027]\n    features[:, 3] \u003d data[\u0027i-z\u0027]\n    features[:, 4] \u003d data[\u0027ecc\u0027]\n    features[:, 5] \u003d data[\u0027m4_u\u0027]\n    features[:, 6] \u003d data[\u0027m4_g\u0027]\n    features[:, 7] \u003d data[\u0027m4_r\u0027]\n    features[:, 8] \u003d data[\u0027m4_i\u0027]\n    features[:, 9] \u003d data[\u0027m4_z\u0027]\n\n    # concentration in u filter\n    features[:, 10] \u003d data[\u0027petroR50_u\u0027]/data[\u0027petroR90_u\u0027]\n    # concentration in r filter\n    features[:, 11] \u003d data[\u0027petroR50_r\u0027]/data[\u0027petroR90_r\u0027]\n    # concentration in z filter\n    features[:, 12] \u003d data[\u0027petroR50_z\u0027]/data[\u0027petroR90_z\u0027]\n\n    return features, targets\n\n\ndef main():\n  data \u003d np.load(\u0027data1/galaxy_catalogue.npy\u0027)\n\n  features, targets \u003d generate_features_targets(data)\n\n  # The shape of each array to check the arrays are the correct dimensions \n  print(\"Features shape:\", features.shape)\n  print(\"Targets shape:\", targets.shape)\n\n\nif __name__ \u003d\u003d \"__main__\":\n    main()",
      "metadata": {
        "pycharm": {
          "metadata": false,
          "name": "#%% cod"
        }
      },
      "execution_count": 13,
      "outputs": [
        {
          "name": "stdout",
          "text": [
            "Features shape: (780, 13)\nTargets shape: (780,)\n"
          ],
          "output_type": "stream"
        }
      ]
    }
  ],
  "metadata": {
    "kernelspec": {
      "display_name": "Python 2",
      "language": "python",
      "name": "python2"
    },
    "language_info": {
      "codemirror_mode": {
        "name": "ipython",
        "version": 2
      },
      "file_extension": ".py",
      "mimetype": "text/x-python",
      "name": "python",
      "nbconvert_exporter": "python",
      "pygments_lexer": "ipython2",
      "version": "2.7.6"
    }
  },
  "nbformat": 4,
  "nbformat_minor": 0
}