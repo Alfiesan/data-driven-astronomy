{
  "cells": [
    {
      "cell_type": "code",
      "execution_count": 8,
      "metadata": {
        "collapsed": true
      },
      "outputs": [],
      "source": "import numpy as np"
    },
    {
      "cell_type": "markdown",
      "source": "# Task 1\n\nSplit the data",
      "metadata": {
        "pycharm": {
          "metadata": false,
          "name": "#%% m"
        }
      }
    },
    {
      "cell_type": "code",
      "source": "def splitdata_train_test(data, fraction_training):\n    # Shuffle the data\n    np.random.shuffle(data)\n    \n    # Split the data\n    limit \u003d int(len(data)*fraction_training)\n    training \u003d data[0:limit]\n    testing \u003d data[limit:]\n    \n    return training, testing\n\n\ndef main():\n    data \u003d np.load(\u0027data1/galaxy_catalogue.npy\u0027)\n\n    # set the fraction of data which should be in the training set\n    fraction_training \u003d 0.7\n\n    # split the data using your function\n    training, testing \u003d splitdata_train_test(data, fraction_training)\n\n    # print the key values\n    print(\u0027Number data galaxies:\u0027, len(data))\n    print(\u0027Train fraction:\u0027, fraction_training)\n    print(\u0027Number of galaxies in training set:\u0027, len(training))\n    print(\u0027Number of galaxies in testing set:\u0027, len(testing))\n\n\nif __name__ \u003d\u003d \"__main__\":\n    main()",
      "metadata": {
        "pycharm": {
          "metadata": false,
          "name": "#%% cod"
        }
      },
      "execution_count": 11,
      "outputs": [
        {
          "name": "stdout",
          "text": [
            "Number data galaxies: 780\nTrain fraction: 0.7\nNumber of galaxies in training set: 546\nNumber of galaxies in testing set: 234\n"
          ],
          "output_type": "stream"
        }
      ]
    }
  ],
  "metadata": {
    "kernelspec": {
      "display_name": "Python 2",
      "language": "python",
      "name": "python2"
    },
    "language_info": {
      "codemirror_mode": {
        "name": "ipython",
        "version": 2
      },
      "file_extension": ".py",
      "mimetype": "text/x-python",
      "name": "python",
      "nbconvert_exporter": "python",
      "pygments_lexer": "ipython2",
      "version": "2.7.6"
    }
  },
  "nbformat": 4,
  "nbformat_minor": 0
}