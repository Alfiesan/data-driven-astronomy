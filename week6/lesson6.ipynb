{
  "cells": [
    {
      "cell_type": "code",
      "execution_count": 20,
      "metadata": {
        "collapsed": true
      },
      "outputs": [],
      "source": "import itertools\n\nimport numpy as np\nfrom sklearn.tree import DecisionTreeClassifier\nfrom matplotlib import pyplot as plt\nfrom sklearn.metrics import confusion_matrix\nfrom sklearn.model_selection import cross_val_predict"
    },
    {
      "cell_type": "markdown",
      "source": "# Task 1\n\nSplit the data",
      "metadata": {
        "pycharm": {
          "metadata": false,
          "name": "#%% m"
        }
      }
    },
    {
      "cell_type": "code",
      "source": "def splitdata_train_test(data, fraction_training):\n    # Shuffle the data\n    np.random.shuffle(data)\n    \n    # Split the data\n    limit \u003d int(len(data)*fraction_training)\n    training \u003d data[0:limit]\n    testing \u003d data[limit:]\n    \n    return training, testing\n\n\ndef main():\n    data \u003d np.load(\u0027data1/galaxy_catalogue.npy\u0027)\n\n    # set the fraction of data which should be in the training set\n    fraction_training \u003d 0.7\n\n    # split the data using your function\n    training, testing \u003d splitdata_train_test(data, fraction_training)\n\n    # print the key values\n    print(\u0027Number data galaxies:\u0027, len(data))\n    print(\u0027Train fraction:\u0027, fraction_training)\n    print(\u0027Number of galaxies in training set:\u0027, len(training))\n    print(\u0027Number of galaxies in testing set:\u0027, len(testing))\n\n\nif __name__ \u003d\u003d \"__main__\":\n    main()",
      "metadata": {
        "pycharm": {
          "metadata": false,
          "name": "#%% cod"
        }
      },
      "execution_count": 17,
      "outputs": [
        {
          "name": "stdout",
          "text": [
            "Number data galaxies: 780\nTrain fraction: 0.7\nNumber of galaxies in training set: 546\nNumber of galaxies in testing set: 234\n"
          ],
          "output_type": "stream"
        }
      ]
    },
    {
      "cell_type": "markdown",
      "source": "# Task 2\n\nGenerate feature targets",
      "metadata": {
        "pycharm": {
          "metadata": false,
          "name": "#%% m"
        }
      }
    },
    {
      "cell_type": "code",
      "source": "def generate_features_targets(data):\n    targets \u003d data[\u0027class\u0027]\n\n    features \u003d np.empty(shape\u003d(len(data), 13))\n    features[:, 0] \u003d data[\u0027u-g\u0027]\n    features[:, 1] \u003d data[\u0027g-r\u0027]\n    features[:, 2] \u003d data[\u0027r-i\u0027]\n    features[:, 3] \u003d data[\u0027i-z\u0027]\n    features[:, 4] \u003d data[\u0027ecc\u0027]\n    features[:, 5] \u003d data[\u0027m4_u\u0027]\n    features[:, 6] \u003d data[\u0027m4_g\u0027]\n    features[:, 7] \u003d data[\u0027m4_r\u0027]\n    features[:, 8] \u003d data[\u0027m4_i\u0027]\n    features[:, 9] \u003d data[\u0027m4_z\u0027]\n\n    # concentration in u filter\n    features[:, 10] \u003d data[\u0027petroR50_u\u0027]/data[\u0027petroR90_u\u0027]\n    # concentration in r filter\n    features[:, 11] \u003d data[\u0027petroR50_r\u0027]/data[\u0027petroR90_r\u0027]\n    # concentration in z filter\n    features[:, 12] \u003d data[\u0027petroR50_z\u0027]/data[\u0027petroR90_z\u0027]\n\n    return features, targets\n\n\ndef main():\n  data \u003d np.load(\u0027data1/galaxy_catalogue.npy\u0027)\n\n  features, targets \u003d generate_features_targets(data)\n\n  # The shape of each array to check the arrays are the correct dimensions \n  print(\"Features shape:\", features.shape)\n  print(\"Targets shape:\", targets.shape)\n\n\nif __name__ \u003d\u003d \"__main__\":\n    main()",
      "metadata": {
        "pycharm": {
          "metadata": false,
          "name": "#%% cod"
        }
      },
      "execution_count": 21,
      "outputs": [
        {
          "name": "stdout",
          "text": [
            "Features shape: (780, 13)\nTargets shape: (780,)\n"
          ],
          "output_type": "stream"
        }
      ]
    },
    {
      "cell_type": "markdown",
      "source": "# Task 3\n\nTrain the decision tree classifier",
      "metadata": {
        "pycharm": {
          "metadata": false,
          "name": "#%% m"
        }
      }
    },
    {
      "cell_type": "code",
      "source": "def dtc_predict_actual(data):\n    # split the data into training and testing sets using a training\n    # fraction of 0.7\n    training, testing \u003d splitdata_train_test(data, 0.7)\n\n    # generate the feature and targets for the training and test sets\n    # i.e. train_features, train_targets, test_features, test_targets\n    train_features, train_targets \u003d generate_features_targets(training)\n    test_features, test_targets \u003d generate_features_targets(testing)\n\n    # instantiate a decision tree classifier\n    dtr \u003d DecisionTreeClassifier()\n\n    # train the classifier with the train_features and train_targets\n    dtr.fit(train_features, train_targets)\n\n    # get predictions for the test_features\n    predictions \u003d dtr.predict(test_features)\n\n    # return the predictions and the test_targets\n    return predictions, test_targets\n\n\ndef main():\n    data \u003d np.load(\u0027data1/galaxy_catalogue.npy\u0027)\n    \n    predicted_class, actual_class \u003d dtc_predict_actual(data)\n\n    # Print some of the initial results\n    print(\"Some initial results...\\n   predicted,  actual\")\n    for i in range(10):\n        print(\"{}. {}, {}\".format(i, predicted_class[i], actual_class[i]))\n\n\nif __name__ \u003d\u003d \u0027__main__\u0027:\n    main()",
      "metadata": {
        "pycharm": {
          "metadata": false,
          "name": "#%% cod"
        }
      },
      "execution_count": 22,
      "outputs": [
        {
          "name": "stdout",
          "text": [
            "Some initial results...\n   predicted,  actual\n0. elliptical, elliptical\n1. spiral, merger\n2. elliptical, elliptical\n3. elliptical, elliptical\n4. merger, elliptical\n5. merger, merger\n6. spiral, spiral\n7. merger, merger\n8. spiral, spiral\n9. merger, merger\n"
          ],
          "output_type": "stream"
        }
      ]
    },
    {
      "cell_type": "markdown",
      "source": "# Task 4",
      "metadata": {
        "pycharm": {
          "metadata": false,
          "name": "#%% m"
        }
      }
    },
    {
      "cell_type": "code",
      "source": "def plot_confusion_matrix(cm, classes,\n                          normalize\u003dFalse,\n                          title\u003d\u0027Confusion matrix\u0027,\n                          cmap\u003dplt.cm.Blues):\n    \"\"\"\n    This function prints and plots the confusion matrix.\n    Normalization can be applied by setting `normalize\u003dTrue`.\n    \"\"\"\n    plt.imshow(cm, interpolation\u003d\u0027nearest\u0027, cmap\u003dcmap)\n    plt.title(title)\n    plt.colorbar()\n    tick_marks \u003d np.arange(len(classes))\n    plt.xticks(tick_marks, classes, rotation\u003d45)\n    plt.yticks(tick_marks, classes)\n\n    if normalize:\n        cm \u003d cm.astype(\u0027float\u0027) / cm.sum(axis\u003d1)[:, np.newaxis]\n        print(\"Normalized confusion matrix\")\n    else:\n        print(\u0027Confusion matrix, without normalization\u0027)\n\n    print(cm)\n\n    thresh \u003d cm.max() / 2.\n    for i, j in itertools.product(range(cm.shape[0]), range(cm.shape[1])):\n        plt.text(j, i, \"{}\".format(cm[i, j]),\n                 horizontalalignment\u003d\"center\",\n                 color\u003d\"white\" if cm[i, j] \u003e thresh else \"black\")\n\n    plt.tight_layout()\n    plt.ylabel(\u0027True Class\u0027)\n    plt.xlabel(\u0027Predicted Class\u0027)\n\n\ndef calculate_accuracy(predicted, actual):\n    correct \u003d sum(predicted \u003d\u003d actual)\n    return correct/(len(predicted))\n\n\ndef main():\n    data \u003d np.load(\u0027data1/galaxy_catalogue.npy\u0027)\n\n    # split the data\n    features, targets \u003d generate_features_targets(data)\n\n    # train the model to get predicted and actual classes\n    dtc \u003d DecisionTreeClassifier()\n    predicted \u003d cross_val_predict(dtc, features, targets, cv\u003d10)\n\n    # calculate the model score using your function\n    model_score \u003d calculate_accuracy(predicted, targets)\n    print(\"Our accuracy score:\", model_score)\n\n    # calculate the models confusion matrix using sklearns confusion_matrix\n    class_labels \u003d list(set(targets))\n    model_cm \u003d confusion_matrix(y_true\u003dtargets, y_pred\u003dpredicted,\n                                labels\u003dclass_labels)\n\n    # Plot the confusion matrix using the provided functions.\n    plt.figure()\n    plot_confusion_matrix(model_cm, classes\u003dclass_labels, normalize\u003dFalse)\n    plt.show()\n\n\nif __name__ \u003d\u003d \"__main__\":\n    main()",
      "metadata": {
        "pycharm": {
          "metadata": false,
          "name": "#%% cod"
        }
      },
      "execution_count": 27,
      "outputs": [
        {
          "name": "stdout",
          "text": [
            "Our accuracy score: 0.7935897435897435\nConfusion matrix, without normalization\n[[198  56   6]\n [ 51 187  22]\n [  5  21 234]]\n"
          ],
          "output_type": "stream"
        },
        {
          "data": {
            "text/plain": "\u003cFigure size 432x288 with 2 Axes\u003e",
            "image/png": "iVBORw0KGgoAAAANSUhEUgAAAVQAAAEmCAYAAAA9eGh/AAAABHNCSVQICAgIfAhkiAAAAAlwSFlzAAALEgAACxIB0t1+/AAAADl0RVh0U29mdHdhcmUAbWF0cGxvdGxpYiB2ZXJzaW9uIDMuMC4wLCBodHRwOi8vbWF0cGxvdGxpYi5vcmcvqOYd8AAAIABJREFUeJzt3XeYVdXVx/Hvb2booEhHQFGCWBBRUOxi7yARxRqwIZaYxFdjiREUjTXGXiAqKipYI4pREXshgAgIBrFhR8RKMdT1/rH34AWZmTvMmTn3zqyPz3nm3lPXvQ5rdjv7yMxwzjlXcQVpB+Ccc9WFJ1TnnEuIJ1TnnEuIJ1TnnEuIJ1TnnEuIJ1TnnEuIJ1SXCEn1JD0p6UdJD1fgPMdKei7J2NIiaTdJ76Udh6s68nGoNYukY4Czgc2BBcBU4HIze62C5z0e+D2ws5ktr3CgOU6SAR3N7IO0Y3G5w0uoNYiks4Hrgb8BLYGNgFuB3gmcfmNgdk1IptmQVJR2DC4FZuZLDViA9YGFwBGl7FOHkHC/jMv1QJ24rSfwOfB/wDzgK+CEuO0SYCmwLF7jJGAIMDLj3O0BA4ri+wHAR4RS8sfAsRnrX8s4bmdgEvBj/LlzxraXgKHA6/E8zwHNSvhsxfH/OSP+w4CDgNnAd8CFGfvvALwJ/BD3vRmoHbe9Ej/Lovh5+2Wc/zxgLnBf8bp4TId4je3i+w2Bb4Ceaf9u+JLc4iXUmmMnoC7weCn7/AXYEegKbENIKhdlbG9FSMxtCEnzFkkbmNlgQql3tJk1NLM7SwtEUgPgRuBAM2tESJpT17JfE2Bs3LcpcB0wVlLTjN2OAU4AWgC1gXNKuXQrwnfQBrgYGA4cB3QDdgP+KmmTuO8K4E9AM8J3tzdwOoCZ7R732SZ+3tEZ529CKK0PzLywmX1ISLYjJdUH7gbuMbOXSonX5RlPqDVHU2C+lV4lPxa41Mzmmdk3hJLn8Rnbl8Xty8zsaULprNM6xrMS6Cypnpl9ZWYz17LPwcD7ZnafmS03sweBWcChGfvcbWazzexn4CHCH4OSLCO0Fy8DRhGS5Q1mtiBe/13CHxLM7C0zmxCvOwe4A9gji8802MyWxHhWY2bDgQ+A/wCtCX/AXDXiCbXm+BZoVkbb3obAJxnvP4nrVp1jjYS8GGhY3kDMbBGhmjwI+ErSWEmbZxFPcUxtMt7PLUc835rZivi6OOF9nbH95+LjJW0m6SlJcyX9RCiBNyvl3ADfmNn/ythnONAZuMnMlpSxr8sznlBrjjeBJYR2w5J8SaiuFtsorlsXi4D6Ge9bZW40s2fNbF9CSW0WIdGUFU9xTF+sY0zlcRshro5mth5wIaAyjil1yIykhoR26TuBIbFJw1UjnlBrCDP7kdBueIukwyTVl1RL0oGSro67PQhcJKm5pGZx/5HreMmpwO6SNpK0PnBB8QZJLSX1jm2pSwhNByvXco6ngc0kHSOpSFI/YEvgqXWMqTwaAT8BC2Pp+bQ1tn8NbFrOc94ATDazkwltw7dXOEqXUzyh1iBm9nfCGNSLCD3MnwFnAv+Ku1wGTAamA+8AU+K6dbnWOGB0PNdbrJ4EC2IcXxJ6vvfg1wkLM/sWOIQwsuBbQg/9IWY2f11iKqdzCB1eCwil59FrbB8C3CPpB0lHlnUySb2BA/jlc54NbCfp2MQidqnzgf3OOZcQL6E651xCPKE651xCPKE651xCPKE651xCfAKHEqhOIytoWNY47pql04aN0w4h59StXZh2CDnn7SlvzTez5kmdr3C9jc2W/+rGs7Wyn7951swOSOra5eUJtQQFDZvRcP9L0w4jp9x7ea+0Q8g5W7VdL+0Qck792gVr3t1WIbb8Z+p0KnNkGgD/m3pLqqUgT6jOuRwnUH60TnpCdc7lNgEF+dG04gnVOZf7VNY0CrnBE6pzLsd5ld8555LjJVTnnEuA5G2ozjmXGK/yO+dcQrzK75xzSfBOKeecS4aPQ3XOuaR4CdU555JT4G2ozjlXccJLqM45lwwfh+qcc8nxYVPOOZcQr/I751wCJC+hOudcYrwN1TnnkuDjUJ1zLjle5XfOuQT4OFTnnEuKj0N1zrnkeAnVOecS4m2ozjmXAHkvv3POJcdLqC4bNw/ciQO2bcs3P/2Pnc57EoDOG23AP07qQYM6RXw6fxGn3PIaC35eRlGhuOmUndimfROKCgsY9epHXDdmRsqfoPL12m1r6jdoREFhAUWFRdw75iUARt9zBw/f908KCgvZdc/9OOv8S9MNNCU//PADp596Cu/OnIEkbh9+Jz123CntsBIjoKCg4iVUSe2Ae4GWgAHDzOwGSU2A0UB7YA5wpJl9L0nADcBBwGJggJlNKe0anlBT9sArHzL8ufe4/bRdVq276ZQduej+t3h91jyO26MDZx2yJZc/PI3DemxMnVqF7Hz+U9SrXch/runFI298zKfzF6X4CarG7Q88SeMmTVe9n/zmK7w87mkeGPsatevU4bv536QYXbrOPfuP7Lv//jww+mGWLl3K4sWL0w4pWYpLxS0H/s/MpkhqBLwlaRwwABhvZldKOh84HzgPOBDoGJcewG3xZ4nyo2GiGntj1jy+X7hktXUdWq/H67PmAfDiO1/Ra/uNADCD+nWKKCwQdWsXsmz5Shb8vKzKY84Fj95/F/0H/YnadeoA0KRZ85QjSsePP/7Ia6+9woATTgKgdu3aNG7cOOWokiak7JbSmNlXxSVMM1sA/BdoA/QG7om73QMcFl/3Bu61YALQWFLr0q7hCTUHzfr8Bw7u3g6Aw3bcmDZNGwDwxMRPWLxkObNv7cvMGw/nprHv8v2ipWmGWiUkcWb/Phzfaw8ee3AEAJ98/AFTJ73BgD57M/Cog5g5rdSaWLU15+OPadasOaeefCI7br8dp516MosWVb8aSzkSajNJkzOWgSWcrz2wLfAfoKWZfRU3zSU0CUBItp9lHPZ5XFeivE+okgZJ+l05jxkg6ebKiqmizhj2JifvsxkvX34QDevWYtnylQB069CMFSuNTmc8Qpc/Ps6ZB21B+xYNU4628g1/6BlGPvkKN9z1CI/cN5wpE19nxYoV/PTj99z92PP84YKhXPj7AZhZ2qFWueUrljP17SmcfOogJkyaQoMGDbj26ivTDitxBQUFWS3AfDPrnrEMW/NckhoCjwJ/NLOfMrdZ+CVa51+kvG9DNbPb17ZeUpGZLa/qeJLw/pc/0efK8QB0aNWI/bcNfxSP2HkTnp/2BctXGPN/+h8TZn/Dtps0Zc68hWmGW+latNoQCNX6nvsdwsxpU2jRakP23P9QJLHVNt1QQQE/fPctGzRtlnK0VatNm7a0aduWHXYITXt9ftuXa6+5KuWoEpZcGyqSahGS6f1m9lhc/bWk1mb2VazSz4vrvwDaZRzeNq4rUU6WUCU1kDRW0jRJMyT1kzRH0tWS3pE0UdJv4r5DJJ0TX78k6XpJk4E/SDpU0n8kvS3peUktS71wjmi2Xl0gjBQ5t8/W3PX8bAA+/3YRu2/VCghtqdv/phmzv/wxtTirws+LF7Fo4YJVrye89iIdNtuCnvsezOQJrwLwyUcfsGzZstU6rWqKVq1a0bZtO2a/9x4AL74wni222CLlqJKlhNpQY6/9ncB/zey6jE1jgP7xdX/giYz1v1OwI/BjRtPAWuVqCfUA4EszOxhA0vrAVYQPtHWs4l8PHLKWY2ubWfd43AbAjmZmkk4G/gz8X0kXje0tAwFUv2r+cd555q7sukVLmjaqy7s3/ZYrHp1Og7pFnLJvJwCenPQpI1/+EIDhz73HrYN2ZsLVhyLg/lc+ZOZnP1RJnGn5dv43/HnQsQAsX7GCA3r1Zec99mHZ0qVcet6Z9DtgJ2rVqsWQa24t8x9UdfX3f9zICf2PY9nSpbTfZFPu+OddaYeUuIT+3+4CHA+8I2lqXHchcCXwkKSTgE+AI+O2pwlDpj4gDJs6ocw4c7HdSdJmwHOEsWFPmdmrkuYAe5nZR7HYPtfMmkoaAiw0s2slvQQMNrOX43m2Bv4OtAZqAx+b2QGSBgDdzezMkmIobLqJNdy/Zo5rLMn4y3ulHULO2artemmHkHPq1y54q7hQk4Sippva+gdfntW+3913TKLXLq+crPKb2WxgO+Ad4DJJFxdvytythMMzuzhvAm42s62BU4G6ScfqnKtkKseSspxMqJI2BBab2UjgGkJyBeiX8fPNLE61Pr80IvcvbUfnXO5Kog21KuRqG+rWwDWSVgLLgNOAR4ANJE0HlgBHZ3GeIcDDkr4HXgA2qZxwnXOVpbhTKh/kZEI1s2eBZzPXxS/0GjM7b419h2S87rnGtif4pccuc/0IYERC4TrnKpkKPKE651zFKbFe/kqXNwnVzNqnHYNzLh2eUJ1zLiGeUJ1zLgFC3obqnHOJ8DZU55xLjidU55xLiCdU55xLiLehOudcAnLlttJseEJ1zuU8T6jOOZcQT6jOOZeU/MinnlCdczlOFD+AL+d5QnXO5TQRnq+WDzyhOudynPfyO+dcYvIkn3pCdc7lOEGBD+x3zrmKE55QnXMuMV7ld865hHinlHPOJUDehuqcc0nxYVPOOZeYPMmnnlCdc7nPS6jOOZcAb0N1zrkE5UkB1ROqcy73eZXfOecSkif51BNqSTq12YAHrjws7TByygGXPZt2CDln2rW90w6h2vM2VOecS4yPQ3XOucTkST71hOqcy335UkLNjwe1OOdqrOI21GyWss+luyTNkzQjY90QSV9ImhqXgzK2XSDpA0nvSdq/rPN7QnXO5TxJWS1ZGAEcsJb1/zCzrnF5Ol5zS+AoYKt4zK2SCks7uSdU51zOk7JbymJmrwDfZXnZ3sAoM1tiZh8DHwA7lHaAJ1TnXM4rRwm1maTJGcvALC9xpqTpsUlgg7iuDfBZxj6fx3Ul8oTqnMttWZZOYwl1vpl1z1iGZXGF24AOQFfgK+Dv6xqq9/I753KayK7DaV2Z2derriUNB56Kb78A2mXs2jauK1GZJVRJO0qqH18fLelqSe3KOs4555JSIGW1rAtJrTPe9gGKRwCMAY6SVEfSJkBHYGJp58qmhDoM2EZSF+A84G7gPqBnOeN2zrl1ktQwVEkPEnJXM0mfA4OBnpK6AgbMAU4FMLOZkh4C3gWWA2eY2YrSzp9NQl1uZiapN3Czmf1TUv91/UDOOVceoX00mYxqZkevZfWdpex/OXB5tufPJqEuknQucBwhkxcAtbK9gHPOVVRhnkyOkk0vfz9AwCAz+4rQMHtdpUblnHMZkhqHWtmyKaF+D1xrZisldQA6EdpQnXOu0onQ058PsimhvgrUjT1hLwCnAHdValTOOZehQNktacsmoRaY2WLgcOA2M+sDbFO5YTnnXKTsJkbJhUmos6nyF0jaHjiWUDoFv8PKOVdFBOs8xrSqZZNQzwYuAZ4ysxmSNiU0AzjnXJXIk3xadkI1sxcIbafF7z8CTq/MoJxzLlO+TDBdZkKV1Az4P8KcgHWL15vZfpUYl3POAaF0Wp3GoY4k3I61GXAVMBeYWokxOefcapTlkrZsEmpzM7sDWGpm44H++H38zrkqlOCM/ZUqm06pZfHn3PhMlS+BppUXknPO/SL08qcdRXaySah/k7Q+cA5wC7AecG6lRuWcc8WUG2NMs5FNL/+Y+HI6sFvlhuOcc7+WC9X5bJSYUCX9gzA/4FqZ2dmVElENd9AunWnQoCEFhYUUFhbxwFMvM27s49z+jyv4+IP3uG/Mi2zVZbu0w6xU/+jfjX23bs38BUvoeck4ALZquz5XH7cddWoVsmLFSs5/4G3envM9p++3Gb/tsREARQWiY+v12OrsMfyweFlpl8hrX3z+Gb8fdCLfzPsaSRw/4GROOe33XHLR+Yx75ilq1a5N+0025fpb/sn6jRunHW6FVZcq/4xStrlKNGzUWDZo8kszdYfNtuTvd9zPZRf+IcWoqs7oNz7hrhc/5KYTtl+17q99u/D3p/7LCzPmsnfnVvz18C789u8vc+tzs7n1udkA7NulNafu07FaJ1OAoqIihlx2NV26bsvCBQvYb48e7L7n3uyx5978ZchlFBUVMfTiC7jxuqv466VXpB1uIvK+hEoYLtXQzL7NXCmpKbCwUqNyq9m0Y6e0Q6hSE96fT7um9VdbZ2Y0qht+XRvVq8XcH37+1XF9tm/H4xM/+9X66qZlq9a0bBWe2tGwUSM6dtqcuV9+Sc+99121T7fte/DUE4+lFWKiJCjMk4Ra2rCpG4C91rJ+T3w+1EojxOnHHcYxB+/Oow/cnXY4OePi0dP4a98uvHXlQQzu24W/Pb56Bape7UL27NyKsVM+TynCdHz6yRxmTJ/Gdt1Xf1z8gyNHsNe++6cUVfKqw3yo25vZoDVXmtkjki6pxJhqtLsffZYWrTbku/nfMOi43rTvsBndeuySdlip67/Hpgx+aBpjp3xBr25tua5/N478xy9TSuzXpTWTPphf7av7mRYtXMjJx/fj0iuupdF6661af/01V1BUVMThRx6TYnTJypcqf2kl1HqlbEv900mq8COwkzhH0lq02hCAJs2as9f+hzBz6lspR5Qbjty5PWOnhCf4jnnrc7Zt32S17b23b8fjk6p/db/YsmXLOOn4fvz2yKM5uFefVetH3X8v4559mluG35s3SSgb+VJCLS2hfiup25orJW0HfLeuF5TUXtIsSSMkzZZ0v6R9JL0u6X1JO0hqIOkuSRMlvR0fEIikAZLGSHoBGC+pQNKt8XzjJD0tqW/ct5uklyW9JenZ4kfFSnpJ0vWSJgM51cvz8+JFLFq4YNXrN195gQ6dtkg5qtww94ef2Xmz5gDsunkLPpr3SzN+o3pF7LRZc56d+mVa4VUpM+NPZw6kY6fNGXTmH1etf+H5Z7nlhmu5Z9Rj1K9fv5Qz5BeR3SOkc2GKv9JKaOcCj0r6J1BcTOoOnAhUtC7xG+CIeK5J8Xy7Ar2ACwmPbX3BzE6U1BiYKOn5eOx2QBcz+y4mz/bAlkAL4L/AXZJqATcBvc3sG0n9CE8uPDGeo7aZda/gZ0jct/PncfbAYwFYsXw5B/Y+gl167ssLzzzJVYPP5fvv5nPWCUfQacutufW+f6UcbeW57eQd2LlTc5o0rMOUqw7imjHvcs59bzG0X1eKCsSS5Ss5975fSu4HdW3Dy+9+zeKlpT7ht9qYOOENHhl1P1ts1Zm9dw2/xhdcPJSL/nw2S5cuod9hBwLQrXsPrr7+ljRDTYbI/4H9ZjZB0o7A74HittSZwM7xYX0V8bGZvQMgaSYwPj6q+h1CgmwL9JJ0Tty/LrBRfD3OzIpLyLsCD5vZSsKtsS/G9Z2AzsC4WO0pBDJjHr22oCQNBAYCtG7TroIfsfzabrQJDz3zxq/W73XAoex1wKFVHk9aTvvnxLWu3//y8WtdP/rNTxj95ieVGVJO6bHTLsz9cemv1u+z34EpRFM18mVG+1LbEM1sLvCXSrjukozXKzPer4wxrQAON7P3Mg+S1ANYlMX5Bcw0s51K2L7Wc5jZMGAYwJZdtivxpgbnXNUR1aNTKk3PAr9X/BYlbVvCfq8Dh8e21Jb8MgvWe0BzSTvF42tJ2qqSY3bOVZJ8eUhfzvVyR0OB64HpkgqAj4FD1rLfo8DehDbXz4ApwI9mtjS2r94YJ3YpiuebWRXBO+eSk08TTGedUCXVMbMlZe9ZOjObQ2jfLH4/oIRtp67l2BHAiIz3KyWdY2YL4x1cE4F34rapwO5rOUfPin4G51zVypN8WnaVPw5jegd4P77fRtJNlR5Z9p6SNJXw4MChsd3XOVeN5Ms41GxKqDcSqtv/AjCzaZL2rNSoysFLnM5Vb9XtMdIFZvbJGr1sNWPAn3MuJxTmRz7NKqF+JmkHwCQVEsalzq7csJxzLlCO3AWVjWwS6mmEav9GwNfA83Gdc85ViTzJp1k9AmUecFQVxOKcc2uVL738ZSZUScNZy6NQzGxgpUTknHMZRPUah/p8xuu6QB/CIHrnnKt8OXIXVDayqfKvNpGIpPuA1yotIuecW4PSn4I5K+tyL/8mQMukA3HOubUpfuppEvfyx3mW50makbGuSZxP+f34c4O4XpJulPSBpOlxLuhSZXOn1PeSvovLD8A44IKyQ3fOuWQUFiirJQsjgAPWWHc+YQrRjsD4+B7gQKBjXAYCt5V18lKr/HG2p22AL+KqlWbm09o556pMcQk1CWb2iqT2a6zuzS8z1d0DvAScF9ffG3PeBEmNJbUubT7oUkuo8URPm9mKuHgydc5VrSzv449jVZtJmpyxZDMaqWVGkpzLL02abVi9A/7zuK5E2fTyT5W0rZm9ncW+zjmXuHLcKTW/Io83ik8OWeeCY4kJVVKRmS0HtgUmSfqQMNO94nXLbKB1zrmKCuNQK/USXxdX5ePDPOfF9V8Amc9CassvzZ9rVVoJdSLhgXi9KhKpc85VjCio3GFTY4D+wJXx5xMZ68+UNAroQZi8vtTn6ZWWUAVgZh9WOFznnFtH4ZlSCZ1LepDQAdVM0ufAYEIifUjSScAnwJFx96eBg4APgMXACWWdv7SE2lzS2SVtNLPrsvkAzjlXIQneKWVmR5ewae+17GvAGeU5f2kJtRBoCHlyi4JzrtqqDtP3fWVml1ZZJM45txbVZXKU/PgEzrlqL08KqKUm1F+1KTjnXFUT6zbpSBpKTKhm9l1VBuKcc2ul8BiUfJDNnVLOOZcaAYWeUJ1zLhn5kU49oTrn8kCeFFA9oTrncp28DdU555LgbajOOZeg/EinnlBLVK9WAZtv2CjtMHLK9L/3TjuEnLPx7n9KO4Tqz4dNOedcMqrFwH7nnMsV1WFyFOecywl5kk89oTrncluo8udHRvWE6pzLeV5Cdc65RMjbUJ1zLgle5XfOuaTIq/zOOZcYT6jOOZcAv5ffOecSJG9Ddc65ZORJAdUTqnMu93kJ1TnnEiCgID/yqSdU51yOkw/sd865xORHOvWE6pzLcaHKnx8p1ROqcy7n5Uc69YTqnMsD/ggU55xLSJ7kU0+ozrnclyf51BOqcy4P5ElG9YTqnMtpkvfyO+dcYvIjnXpCdc7lgwQzqqQ5wAJgBbDczLpLagKMBtoDc4Ajzez78p67ILkwnXOuMijr/8phTzPrambd4/vzgfFm1hEYH9+XmyfUHNbpN+3p3nVrenTryi49upd9QDX0xeef0efgfdlt+y7svsM2DLv1JgDGPP4Iu++wDa3Wr8PUKW+lHGXla9uyMc8MO4spj/6Ftx75C2cc3ROAi08/mImjL2DCqPN58tYzaN18/dWO67blRiyYdAN99umaQtTJKJ4cJZulAnoD98TX9wCHrctJvMqf4555/kWaNWuWdhipKSoq4pLLr6ZL121ZuGAB++7egz322pvNt9yKu+5/iHP/cEbaIVaJ5StWcv51jzF11uc0rF+HNx44j/H/mcU/7hnPpbeOBeD0o/fggoEHctblowAoKBCX/aE3z0+YlWboycg+WTaTNDnj/TAzG7bGPgY8J8mAO+L2lmb2Vdw+F2i5LmF6QnU5rWWr1rRs1RqAho0a0bHT5sz98kv22GuflCOrWnPn/8Tc+T8BsHDxEmZ9PJcNmzdm1kdzV+1Tv14dzGzV+9OP2oN/jZ9Gt602qvJ4k1aO6vz8jGp8SXY1sy8ktQDGSVrtL46ZWUy25eZV/hwmiUMP3I+dd+jGncPX/CNb83z6yRxmTJ/Gdt13SDuUVG3UugldO7Vl0ow5AAw541De//dQjjqwO0NvC6XVDZuvT6+9tmHYw6+mGGlypOyWbJjZF/HnPOBxYAfga0mtw7XUGpi3LnFWeUKVNEdSs/h6Yfy5oaRHyjiusaTTM96XeUwp5xohqe+6HFuVxr/0Gm9OmsK/nvo3d9x2C6+9+kraIaVm0cKFnHR8P4ZeeS2N1lsv7XBS06BebR689mTOvfZRFiz6HwBDbnmSjgf+lVH/nsygfrsDcM25h3PRDU+sVmLNW1km02wSqqQGkhoVvwb2A2YAY4D+cbf+wBPrEmpOlFDN7EszKyvBNQZWJdQsj8lrbdq0AaBFixb0OqwPkyZNTDmidCxbtowTj+vH4UcezcG9+qQdTmqKigp48NpTGP3vyTzxwrRfbR/99CQO2zt0Pm235Ubce+UJzBp7CX322ZbrL+jHoT27VHXIiUmwl78l8JqkacBEYKyZPQNcCewr6X1gn/i+3Cq1DVXSccBZQG3gP2QkxDX2aw88ZWadJQ0A+gDrA22AkWZ2CeEDdpA0FRgH3JJxTCFwFXAAsBIYbmY3SboYOBSoB7wBnGp58id70aJFrFy5kkaNGrFo0SKeH/ccF150cdphVTkz409nDKRjp80ZdOYf0w4nVbcPPpb3Pp7LjSNfWLWuw0bN+fDTbwA4pGcXZs/5GoAtDhmyap9hlxzHv1+dwZMvTa/SeJMikpscxcw+ArZZy/pvgb0rev5KS6iStgD6AbuY2TJJtwLHZnn4DkBnYDEwSdJYwriwzmbWNZ6/fcb+AwkDcrua2fI4SBfgZjO7NO5/H3AI8GQpMQ+M56LdRuk25M/7+mv69Q2lseUrltPvqGPYb/8DUo0pDRMnvMHDo+5ni606s9cuoa/hwouHsnTpEi489098O/8bjj2iN5233obR/xqbcrSVZ+eum3LsIT14Z/YXTBgVhkgOvnkMAw7bmY4bt2DlSuPTr75b1cNf3fidUiHbdyMkRAilxGwbesfFvxhIegzYFfhXKfvvA9xuZssBzOy7uH5PSX8G6gNNgJmUklDj8IlhAN26dU+1JLvJppsyccqvq3U1TY+dduHrn5auddtBh67TUMG89MbUj6i37Zm/Wv/sa++WeezAwSMrI6Qq5fOhhj8q95jZBautDFX6sqyZzMqd3CTVBW4FupvZZ5KGAHXLex7nXPryJJ9WaqfUeKBvHOuFpCaSNs7y2H3j/vUIdyy8Trj3tlEJ+48DTpVUVHwtfkme8yU1BKp1B5Zz1ZmyXNJWaQnVzN4FLiLckTCdkPRaZ3n4ROBRYDrwqJlNjk0Ar0uaIemaNfb/J/ApMD323h1jZj8AwwlDIp4FJlX4Qznn0pEnGbVSe/nNbDQVF+DmAAAN8ElEQVRhBpdM7TO2N4w/5xA6oYp9bma/aiAzs2PWWNU5rl8OnB2XzP0vIiT1Nc8zIMuP4JxLWciVOZAts+C3njrnclvFJz6pMjmXUM1sBDAi5TCcc7nEE6pzziWh3HOdpsYTqnMu5+XLsClPqM65nJbkraeVzROqcy7neZXfOecS4iVU55xLSJ7kU0+ozrkcJ58cxTnnEuGdUs45l6A8yaeeUJ1zuc9LqM45lxBvQ3XOuYTkRzr1hOqcy3HZPiI6F3hCdc7lPL9TyjnnEuIlVOecS4gnVOecS4TPh+qcc4nwO6Wccy5BnlCdcy4hXuV3zrkk+DhU55xLhvA7pZxzLjl5klE9oTrncl5BntT5PaE653JefqRTT6jOuXyQJxnVE6pzLufly7ApmVnaMeQkSd8An6QdR9QMmJ92EDnGv5PV5dL3sbGZNU/qZJKeIXy+bMw3swOSunZ5eULNA5Imm1n3tOPIJf6drM6/j9xQkHYAzjlXXXhCdc65hHhCzQ/D0g4gB/l3sjr/PnKAt6E651xCvITqnHMJ8YTqnHMJ8YSahyTVTjsG59yveULNM5KaAJdJ2i7tWFz+kdRY0oZpx1FdeULNPy2AZcAASV3SDiaXSdpW0mZpx5ErJNUD/gYcK6lt2vFUR55Q84yZzQIeBOYBp3pSXTtJ3YDbgBVpx5IrzOxn4DFgS+AwT6rJ84SaJ6RfJoQ0sxnA/cDXeFL9FUnbA2cCo8zsw7TjyQXFvz9m9jwwEuiBJ9XEeULNA5JkZiZpH0kXSDoe+Ba4k1BSPVnStulGmVPqAtsAW0pqlHYwacv4/WknqdDMxgM3AzsCfTypJscTah6I/xgOBa4EvgCOIvyDWALcDiwklFRrdPKQ1DW2mf4XOALYDOgrqX66kaUr4/dnJHCzpEHAdOA6oDvQT1K7NGOsLjyh5gFJLYH9CUliAaFj6ifgFkIH1U3AtWa2ILUgUybpYOBuoA/wPKHtdDBwDNC/JidVSbsClwBHA7WAU4DzgfeAWwlJ1XNBAvzW0xwnaQ+gPfAqUIdQyjgCaASMJvyj6Gtmy9KKMW1xGNDDhO/lEOBEoJeZzZO0G6Fn+2gz+zzFMFMjqS/wEdASGEoomfYHphK+GzOzn9KLsPrwv0o5LFZfhwJvmNlHhLbBifH1esCzwF9rcjKNfgYmALsCA4DjYzI9CHgDOKQmJdPiDihJ20vaycweAWYCvwWOM7MHCG3vrYAWnkyT4wk1h0hqKWm/+Po3wD+B983s/bjLPKCnpDuAR4BnzGx6OtGmT9KmknYws++BToTvq5eZvR+ruX8FNjWzH1MNtApldEAdAozgl3/jS4E2wJ/jkLJOwI0Zv1suAV7lzyGSjiBUw74ys4WSBgN7A78HZprZ8tgj2wn40cwmpxhuqjLaBZcCZxHaBocQ2pRfIHxng83sibRirEqSGpjZovi6FXAfcKGZTYo9+yskNSO0M9cHbjGzx1IMuVryEmpueQT4DrhGUl8zuwR4BbgI6CSpyMw+N7PxNTyZ7gtcTxiL2wg4DWgADAQ+BuoB55jZE5njd6urOLrjrnhbMoRRH4uB5fF9calppZkdChxuZo/VhO+mqnlCzQEZg66N8A9hJrCnpF5mdhHwLnA1sHl6UeaUvsBdZnYX0JvQtnw+0NTMLjKzm+MA9uLvtFqLozvOAppK6mNmC4Evga0krWdmKyXtCFwtqamZ/RCPq/bfTVXzx0jngNjmtTvQmlCVv1nSAOBgSSvNbLCkvwE1epap2Mn0E/AWIVm0iJ1PgwmdT/0lXRFvsaz2JNU1s//FtyuAjsD1kr4mDKm7EthV0nzgSOD/zOzbdKKtGbyEmqKM3tgehOFQ3YDBkkaY2QhCkjhcUm8zu9DMpqQXbbri7aQXEtpMpxP+uPSU1JQw4uFjoBdh3Gm1J6kAOEjSmZJ2Bq4gNA+dS3gcSn3C8LEXgR+AE83sSa/mVy4voaYolkx3I5QeTjOzsQCS3pB0NXAeoY3wgxTDTJ2kNsD/AV+Y2cS4bgtgN2AQ4UaHPsAe1JBSfKzGPwNMJgx/2itW9R+KOfMO4CIzG73GcV7Nr0ReQk1BRsl0U+Bw4HfAphm7/A5oHX/5bzWzmVUfZU75GXgT2FRSPwAzu5swRvc0YD/C93c28FJKMaZhGaG0/iGhXRkAM3uIUN2/Jg7FK0wpvhrHS6gpiCXTXoRhPgcTOp3+JOlVM5sKbEKY2KMJobpWI8XSe1tgLjCc0GG3l6SlZva4mc0D5klqAfwZ6Gdm/00v4sqXMc60A+H7OAkoBB6UdKOZnSWpI+EOut28zbRq+TjUFEjqShh0fXRxApA0kjBD0ptAQ+CRmjxOMN7gcD1wKfAA0A94HTgQ2BN4LPP7kVSvBnVGHUQY9bGEcIfYvwkjQ+4h/AFuB5xuZm+mFmQN5VX+dCwhDODfXdLFksYBK4HvCdXXkXGcYI2rqilYj9Ch0g/4lFCtfc3MviSM1X0NWPMOn/9RA0jaGvgToc24JzAL2J3wb/lgQoL9oyfTdHgJNQWSGhLuOT8GuJbwj2I3wgQWmwMXAPvFiaRrFEl1zGyJpBOBzsAuwDFm9qGkk4DJZjYt3SirjqTWwF8I40zrE26n/R2wp5nNktScMERqspldnV6kDjyhpkpSbTNbGocE3QOcYWYvSvo98HRNm21e0mGEu50+ALYmDNg/xcxmKDyVYBRhNMTLKYZZ5SR1JkzbOJcwouFSYBFwnZl9JOkEoCtwDrDce/LT4wk1RbFK35UwJ+Xfasp952sjqTGhXfmhuOocQlvgvcCGhJL7YDMbk0qAVUzSRsBlZva7+P5uoAOwL6GjbhBhdq2RhPlNLzSzp1MK10WeUFMmqQFhCrWP17gFtcaINzZsBzQzs6FxXS/CBNHPAncBjczs7eJe7vSirTqS3gemmtkR8f0dhGT6W6A5YTB/Y2CEmT1aPAlKagE7T6guXfEun7sJ1fzi4U+vmdkyhWdnXQh0L55JqbqT1B44ysyujO8nEm5o6BPf30lIpkcSpuM7nvC9XWFmn6URs/uF9/K71MSS6SWEJw4cDDxDKH3tLKmWmd0H7FNTkmlkwB8kDQEwsx2ANpIej+9PIrSnPhHb2J8nTISyNJ1wXSYvobrUxLGmTwN/NrPrJNUiTFXYDrjPzF5MNcAqFqdnXB579p8hjEUubgKZCHySUf3fpni0wxqTpLgUeQnVpcbMniPcenuSpGMsPMplKKE3e16qwVWx2Da8PDaBbEz4Hk6SdAGsKqluJWlMfD8tTpCCJ9Pc4SVUl7p4589Q4KY4y1aNJKk3cDHwHKGU/j7h5oZRZnZp3GcXM3s9vShdafxefpc6M3taUhFwpaTngK9rWm91HDZ2FOG22n2BA83sOEn3Ay/F5oCLPZnmNi+hupwhqbmZfZN2HGmIw+euI8ys1R3oH+8O25LQBLDIzF5JM0ZXNm9DdTmjpiZTgDiS4R3CXA6XxGS6B/AkMMfMXvHJoXOfl1CdyxGSWhKe1toDmAYcQnhsydhUA3NZ84TqXA6JVf/uwAaEAf2TatLdYfnOE6pzziXE21Cdcy4hnlCdcy4hnlCdcy4hnlCdcy4hnlCdcy4hnlBdqSStkDRV0gxJD0uqX4Fz9ZT0VHzdS9L5pezbWNLp63CNIZLOKWHb7+LneEfS28X7SRohqe/ajnGuPDyhurL8bGZdzawzYc7NQZkb41NKy/17ZGZjiidRLkFjoNwJtSSSDgT+SHj44dbAjsCPSZ3fOfCE6srnVeA3ktpLek/SvcAMoJ2k/SS9KWlKLMk2BJB0gKRZkqYQJo8mrh8g6eb4uqWkxyVNi8vOwJVAh1g6vibud66kSZKmS7ok41x/kTRb0mtApxJivwA4Jz6KGjNbYmbD19xJ4bHek2JJdljx7Z6SzpL0brz2qLhujxjf1FjibVTB79flOZ9tymUlzgZ1IGHiY4COhAk8JkhqRpgYeh8zWyTpPOBsSVcDw4G9CI84GV3C6W8EXjazPvHBhQ2B84HOZtY1Xn+/eM0dAAFjJO1OePrnUYSHHRYBU4C31nKNziWsX9PNGVPl3Ue4/fPJGM8m8RHXjeO+5xCeVPt6/APi85LWcF5CdWWpJ2kqMBn4FLgzrv/EzCbE1zsCWwKvx337E2ZI2hz42Mzej7dOjizhGnsBtwGY2QozW1tVfL+4vE1ImpsTEuxuwONmttjMfgIq+lTUPSX9R9I7Ma6t4vrpwP2SjgOWx3WvA9dJOgtobGbLf306V5N4CdWV5efiUmKxWAvOfM6TgHFmdvQa+612XAWJ8CC6O9a4xh+zPH4m0A14ocQLSHUJj/Tubmafxec61Y2bDwZ2Bw4F/iJpazO7UtJY4CDCH5P9zWxWeT6Uq168hOqSMAHYRdJvIEzwIWkzYBbQXlKHuN/RJRw/HjgtHlsoaX3Cg+gy2ySfBU7MaJttI6kF8ApwmKR6sQ3z0BKucQVwjaRW8fjakk5eY5/i5Dk/Xqdv3LcAaBefcXUesD7QUFIHM3vHzK4CJhFKza4G8xKqqzAz+0bSAOBBSXXi6ovMbLakgcBYSYsJnVpr67j5AzBM0knACuA0M3tT0uuSZgD/NrNzJW0BvBlLyAuB48xsiqTRhOnu5hES29pifDpOj/d87Ggy4K419vlB0nBCR9vcjHMVAiNjohdwY9x3qKQ9gZWEEvC/y/nVuWrGZ5tyzrmEeJXfOecS4gnVOecS4gnVOecS4gnVOecS4gnVOecS4gnVOecS4gnVOecS8v84MmIBNT+7dwAAAABJRU5ErkJggg\u003d\u003d\n"
          },
          "metadata": {
            "needs_background": "light"
          },
          "output_type": "display_data"
        }
      ]
    }
  ],
  "metadata": {
    "kernelspec": {
      "display_name": "Python 2",
      "language": "python",
      "name": "python2"
    },
    "language_info": {
      "codemirror_mode": {
        "name": "ipython",
        "version": 2
      },
      "file_extension": ".py",
      "mimetype": "text/x-python",
      "name": "python",
      "nbconvert_exporter": "python",
      "pygments_lexer": "ipython2",
      "version": "2.7.6"
    }
  },
  "nbformat": 4,
  "nbformat_minor": 0
}