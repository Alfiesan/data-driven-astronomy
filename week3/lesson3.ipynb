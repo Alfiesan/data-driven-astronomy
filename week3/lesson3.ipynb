{
 "cells": [
  {
   "cell_type": "code",
   "execution_count": 1,
   "metadata": {
    "pycharm": {
     "is_executing": false
    }
   },
   "outputs": [],
   "source": [
    "import psycopg2\n",
    "import pandas as pd"
   ]
  },
  {
   "cell_type": "markdown",
   "metadata": {
    "pycharm": {
     "metadata": false,
     "name": "#%% md\n"
    }
   },
   "source": [
    "# Prepare the Data\n",
    "\n",
    "Run `docker-compose up` to get Postgres up and running."
   ]
  },
  {
   "cell_type": "code",
   "execution_count": 2,
   "metadata": {
    "pycharm": {
     "metadata": false,
     "name": "#%%\n",
     "is_executing": false
    }
   },
   "outputs": [],
   "source": [
    "credentials = \"dbname='astronomy' user='user' host='localhost' password='pass'\"\n",
    "conn = psycopg2.connect(credentials)\n",
    "cur = conn.cursor()\n",
    "\n",
    "cur.execute(\"\"\"\n",
    "DROP TABLE IF EXISTS Star;\n",
    "DROP TABLE IF EXISTS Planet;\n",
    "\n",
    "CREATE TABLE Star (\n",
    "  kepler_id INTEGER NOT NULL,\n",
    "  koi_name VARCHAR(20) NOT NULL,\n",
    "  t_eff INTEGER,\n",
    "  radius FLOAT(5),\n",
    "  PRIMARY KEY (koi_name)\n",
    ");\n",
    "\n",
    "CREATE TABLE Planet (\n",
    "  kepler_id INTEGER NOT NULL,\n",
    "  koi_name VARCHAR(20) NOT NULL,\n",
    "  kepler_name VARCHAR(20),\n",
    "  status VARCHAR(20) NOT NULL,\n",
    "  period FLOAT,\n",
    "  radius FLOAT,\n",
    "  t_eq INTEGER,\n",
    "  PRIMARY KEY (koi_name)\n",
    ");\n",
    "\n",
    "COPY Star (kepler_id, koi_name, t_eff, radius)\n",
    "  FROM '/data/week3/data1/stars.csv' CSV;\n",
    "COPY Planet (kepler_id, koi_name, kepler_name, status, period, radius, t_eq)\n",
    "  FROM '/data/week3/data1/planets.csv' CSV;\n",
    "\"\"\")\n",
    "conn.commit()"
   ]
  },
  {
   "cell_type": "markdown",
   "metadata": {
    "pycharm": {
     "metadata": false,
     "name": "#%% md\n"
    }
   },
   "source": [
    "# Task 1\n",
    "Write an SQL query to find the radius and temperature of the stars in the\n",
    "Star table that are larger than our sun."
   ]
  },
  {
   "cell_type": "code",
   "execution_count": 3,
   "metadata": {
    "pycharm": {
     "metadata": false,
     "name": "#%%\n",
     "is_executing": false
    }
   },
   "outputs": [
    {
     "data": {
      "text/plain": "   radius  t_eff\n0   3.523   6335\n1   1.965   8782\n2   1.032   6319\n3  27.384   3789",
      "text/html": "<div>\n<style scoped>\n    .dataframe tbody tr th:only-of-type {\n        vertical-align: middle;\n    }\n\n    .dataframe tbody tr th {\n        vertical-align: top;\n    }\n\n    .dataframe thead th {\n        text-align: right;\n    }\n</style>\n<table border=\"1\" class=\"dataframe\">\n  <thead>\n    <tr style=\"text-align: right;\">\n      <th></th>\n      <th>radius</th>\n      <th>t_eff</th>\n    </tr>\n  </thead>\n  <tbody>\n    <tr>\n      <th>0</th>\n      <td>3.523</td>\n      <td>6335</td>\n    </tr>\n    <tr>\n      <th>1</th>\n      <td>1.965</td>\n      <td>8782</td>\n    </tr>\n    <tr>\n      <th>2</th>\n      <td>1.032</td>\n      <td>6319</td>\n    </tr>\n    <tr>\n      <th>3</th>\n      <td>27.384</td>\n      <td>3789</td>\n    </tr>\n  </tbody>\n</table>\n</div>"
     },
     "metadata": {},
     "output_type": "execute_result",
     "execution_count": 3
    }
   ],
   "source": [
    "pd.read_sql(\"\"\"\n",
    "SELECT radius, t_eff FROM Star WHERE radius > 1;\n",
    "\"\"\", conn)"
   ]
  },
  {
   "cell_type": "markdown",
   "metadata": {
    "pycharm": {
     "metadata": false,
     "name": "#%% md\n"
    }
   },
   "source": [
    "# Task 2\n",
    "Write a range query which returns the `kepler_id` and the `t_eff` attributes\n",
    "of all those stars in the Star table whose temperature lies between 5000 and\n",
    "6000 Kelvin (inclusive)"
   ]
  },
  {
   "cell_type": "code",
   "execution_count": 4,
   "metadata": {
    "pycharm": {
     "metadata": false,
     "is_executing": false
    }
   },
   "outputs": [
    {
     "data": {
      "text/plain": "   kepler_id  t_eff\n0    3836450   5160\n1    6590362   5926\n2    8106973   5810",
      "text/html": "<div>\n<style scoped>\n    .dataframe tbody tr th:only-of-type {\n        vertical-align: middle;\n    }\n\n    .dataframe tbody tr th {\n        vertical-align: top;\n    }\n\n    .dataframe thead th {\n        text-align: right;\n    }\n</style>\n<table border=\"1\" class=\"dataframe\">\n  <thead>\n    <tr style=\"text-align: right;\">\n      <th></th>\n      <th>kepler_id</th>\n      <th>t_eff</th>\n    </tr>\n  </thead>\n  <tbody>\n    <tr>\n      <th>0</th>\n      <td>3836450</td>\n      <td>5160</td>\n    </tr>\n    <tr>\n      <th>1</th>\n      <td>6590362</td>\n      <td>5926</td>\n    </tr>\n    <tr>\n      <th>2</th>\n      <td>8106973</td>\n      <td>5810</td>\n    </tr>\n  </tbody>\n</table>\n</div>"
     },
     "metadata": {},
     "output_type": "execute_result",
     "execution_count": 4
    }
   ],
   "source": [
    "pd.read_sql(\"\"\"\n",
    "SELECT kepler_id, t_eff FROM Star WHERE t_eff BETWEEN 5000 AND 6000;\n",
    "\"\"\", conn)"
   ]
  },
  {
   "cell_type": "markdown",
   "metadata": {
    "pycharm": {
     "metadata": false,
     "name": "#%% md\n"
    }
   },
   "source": [
    "# Task 3\n",
    "Write a query to find the `kepler_name` and `radius` of each planet in the\n",
    "`Planet` table which is a confirmed exoplanet, meaning that their `kepler_name`\n",
    "is not `NULL`, or, equivalently, whose status is `'CONFIRMED'`.\n",
    "\n",
    "Restrict your results to those planets whose radius lies between one and three\n",
    "earth radii, and remember that the radius of the planets is relative to the\n",
    "earth radius."
   ]
  },
  {
   "cell_type": "code",
   "execution_count": 5,
   "metadata": {
    "pycharm": {
     "metadata": false,
     "name": "#%%\n",
     "is_executing": false
    }
   },
   "outputs": [
    {
     "data": {
      "text/plain": "    kepler_name  radius\n0   Kepler-10 b    1.45\n1  Kepler-106 c    2.35\n2   Kepler-52 d    1.80\n3  Kepler-239 b    2.36\n4  Kepler-239 c    2.19",
      "text/html": "<div>\n<style scoped>\n    .dataframe tbody tr th:only-of-type {\n        vertical-align: middle;\n    }\n\n    .dataframe tbody tr th {\n        vertical-align: top;\n    }\n\n    .dataframe thead th {\n        text-align: right;\n    }\n</style>\n<table border=\"1\" class=\"dataframe\">\n  <thead>\n    <tr style=\"text-align: right;\">\n      <th></th>\n      <th>kepler_name</th>\n      <th>radius</th>\n    </tr>\n  </thead>\n  <tbody>\n    <tr>\n      <th>0</th>\n      <td>Kepler-10 b</td>\n      <td>1.45</td>\n    </tr>\n    <tr>\n      <th>1</th>\n      <td>Kepler-106 c</td>\n      <td>2.35</td>\n    </tr>\n    <tr>\n      <th>2</th>\n      <td>Kepler-52 d</td>\n      <td>1.80</td>\n    </tr>\n    <tr>\n      <th>3</th>\n      <td>Kepler-239 b</td>\n      <td>2.36</td>\n    </tr>\n    <tr>\n      <th>4</th>\n      <td>Kepler-239 c</td>\n      <td>2.19</td>\n    </tr>\n  </tbody>\n</table>\n</div>"
     },
     "metadata": {},
     "output_type": "execute_result",
     "execution_count": 5
    }
   ],
   "source": [
    "pd.read_sql(\"\"\"\n",
    "SELECT kepler_name, radius FROM Planet\n",
    "  WHERE kepler_name IS NOT NULL AND radius BETWEEN 1 AND 3;\n",
    "\"\"\", conn)"
   ]
  },
  {
   "cell_type": "markdown",
   "metadata": {
    "pycharm": {
     "metadata": false,
     "name": "#%% md\n"
    }
   },
   "source": [
    "# Task 4\n",
    "## Uploading more Data"
   ]
  },
  {
   "cell_type": "code",
   "execution_count": 6,
   "metadata": {
    "pycharm": {
     "metadata": false,
     "name": "#%%\n",
     "is_executing": false
    }
   },
   "outputs": [],
   "source": "cur.execute(\"\"\"\nDROP TABLE IF EXISTS Planet;\n\nCREATE TABLE Planet (\n  kepler_id INTEGER NOT NULL,\n  koi_name VARCHAR(20) NOT NULL,\n  kepler_name VARCHAR(20),\n  status VARCHAR(20) NOT NULL,\n  period FLOAT NOT NULL,\n  radius FLOAT NOT NULL,\n  t_eq INTEGER NOT NULL,\n  PRIMARY KEY (koi_name)\n);\n\n\nCOPY Planet (kepler_id, koi_name, kepler_name, status, period, radius, t_eq)\n  FROM '/data/week3/data2/planets.csv' CSV;\n\"\"\")\nconn.commit()"
  },
  {
   "cell_type": "markdown",
   "metadata": {
    "pycharm": {
     "metadata": false,
     "name": "#%% md\n"
    }
   },
   "source": "Your task is to write a query that calculates the:\n\n- minimum radius;\n- maximum radius;\n- average radius; and\n- standard deviation of the radius\n\nof unconfirmed planets (with a `NULL` value in `kepler_name`) in the `Planet`\ntable."
  },
  {
   "cell_type": "code",
   "execution_count": 7,
   "metadata": {
    "pycharm": {
     "metadata": false,
     "name": "#%%\n",
     "is_executing": false
    }
   },
   "outputs": [
    {
     "data": {
      "text/plain": "    min      max         avg      stddev\n0  0.65  3462.25  275.517333  888.709924",
      "text/html": "<div>\n<style scoped>\n    .dataframe tbody tr th:only-of-type {\n        vertical-align: middle;\n    }\n\n    .dataframe tbody tr th {\n        vertical-align: top;\n    }\n\n    .dataframe thead th {\n        text-align: right;\n    }\n</style>\n<table border=\"1\" class=\"dataframe\">\n  <thead>\n    <tr style=\"text-align: right;\">\n      <th></th>\n      <th>min</th>\n      <th>max</th>\n      <th>avg</th>\n      <th>stddev</th>\n    </tr>\n  </thead>\n  <tbody>\n    <tr>\n      <th>0</th>\n      <td>0.65</td>\n      <td>3462.25</td>\n      <td>275.517333</td>\n      <td>888.709924</td>\n    </tr>\n  </tbody>\n</table>\n</div>"
     },
     "metadata": {},
     "output_type": "execute_result",
     "execution_count": 7
    }
   ],
   "source": "pd.read_sql(\"\"\"\nSELECT\n  MIN(radius),\n  MAX(radius),\n  AVG(radius),\n  STDDEV(radius)\nFROM Planet WHERE kepler_name IS NULL;\n\"\"\", conn)"
  },
  {
   "cell_type": "markdown",
   "source": "# Task 5\nFind out how many planets in the `Planet` database are in a multi-planet\nsystem. Planets sharing the same star will have the same `kepler_id`, but\ndifferent `koi_name` values.\n\nYour query should return a table in which each row contains the `kepler_id`\nof the star and the number of planets orbiting that star (i.e. that share\nthis `kepler_id`).\n\nLimit your results to counts above one and order the rows in descending order\nbased on the number of planets.",
   "metadata": {
    "pycharm": {
     "metadata": false,
     "name": "#%% md\n"
    }
   }
  },
  {
   "cell_type": "code",
   "source": "pd.read_sql(\"\"\"\nSELECT kepler_id, COUNT(koi_name)\n  FROM Planet\n  GROUP BY kepler_id\n  HAVING COUNT(koi_name) > 1\n  ORDER BY COUNT(koi_name) DESC;\n\"\"\", conn)",
   "metadata": {
    "pycharm": {
     "metadata": false,
     "name": "#%%\n",
     "is_executing": false
    }
   },
   "execution_count": 8,
   "outputs": [
    {
     "data": {
      "text/plain": "    kepler_id  count\n0     8395660      4\n1     4139816      4\n2     3832474      3\n3     5358241      3\n4    10910878      3\n5     9579641      3\n6    10872983      3\n7    10601284      3\n8    11754553      3\n9    12066335      2\n10   11918099      2\n11   10797460      2\n12   12366084      2\n13    3342970      2\n14   11018648      2\n15   10187017      2\n16    5456651      2\n17   12470844      2",
      "text/html": "<div>\n<style scoped>\n    .dataframe tbody tr th:only-of-type {\n        vertical-align: middle;\n    }\n\n    .dataframe tbody tr th {\n        vertical-align: top;\n    }\n\n    .dataframe thead th {\n        text-align: right;\n    }\n</style>\n<table border=\"1\" class=\"dataframe\">\n  <thead>\n    <tr style=\"text-align: right;\">\n      <th></th>\n      <th>kepler_id</th>\n      <th>count</th>\n    </tr>\n  </thead>\n  <tbody>\n    <tr>\n      <th>0</th>\n      <td>8395660</td>\n      <td>4</td>\n    </tr>\n    <tr>\n      <th>1</th>\n      <td>4139816</td>\n      <td>4</td>\n    </tr>\n    <tr>\n      <th>2</th>\n      <td>3832474</td>\n      <td>3</td>\n    </tr>\n    <tr>\n      <th>3</th>\n      <td>5358241</td>\n      <td>3</td>\n    </tr>\n    <tr>\n      <th>4</th>\n      <td>10910878</td>\n      <td>3</td>\n    </tr>\n    <tr>\n      <th>5</th>\n      <td>9579641</td>\n      <td>3</td>\n    </tr>\n    <tr>\n      <th>6</th>\n      <td>10872983</td>\n      <td>3</td>\n    </tr>\n    <tr>\n      <th>7</th>\n      <td>10601284</td>\n      <td>3</td>\n    </tr>\n    <tr>\n      <th>8</th>\n      <td>11754553</td>\n      <td>3</td>\n    </tr>\n    <tr>\n      <th>9</th>\n      <td>12066335</td>\n      <td>2</td>\n    </tr>\n    <tr>\n      <th>10</th>\n      <td>11918099</td>\n      <td>2</td>\n    </tr>\n    <tr>\n      <th>11</th>\n      <td>10797460</td>\n      <td>2</td>\n    </tr>\n    <tr>\n      <th>12</th>\n      <td>12366084</td>\n      <td>2</td>\n    </tr>\n    <tr>\n      <th>13</th>\n      <td>3342970</td>\n      <td>2</td>\n    </tr>\n    <tr>\n      <th>14</th>\n      <td>11018648</td>\n      <td>2</td>\n    </tr>\n    <tr>\n      <th>15</th>\n      <td>10187017</td>\n      <td>2</td>\n    </tr>\n    <tr>\n      <th>16</th>\n      <td>5456651</td>\n      <td>2</td>\n    </tr>\n    <tr>\n      <th>17</th>\n      <td>12470844</td>\n      <td>2</td>\n    </tr>\n  </tbody>\n</table>\n</div>"
     },
     "metadata": {},
     "output_type": "execute_result",
     "execution_count": 8
    }
   ]
  },
  {
   "cell_type": "markdown",
   "metadata": {
    "pycharm": {
     "metadata": false,
     "name": "#%% md\n"
    }
   },
   "source": "# Tear down"
  },
  {
   "cell_type": "code",
   "execution_count": 9,
   "metadata": {
    "pycharm": {
     "metadata": false,
     "name": "#%%\n",
     "is_executing": false
    }
   },
   "outputs": [],
   "source": "cur.close()\nconn.close()"
  }
 ],
 "metadata": {
  "kernelspec": {
   "display_name": "Python 3",
   "language": "python",
   "name": "python3"
  },
  "language_info": {
   "codemirror_mode": {
    "name": "ipython",
    "version": 3
   },
   "file_extension": ".py",
   "mimetype": "text/x-python",
   "name": "python",
   "nbconvert_exporter": "python",
   "pygments_lexer": "ipython3",
   "version": "3.7.0"
  },
  "pycharm": {
   "stem_cell": {
    "cell_type": "raw",
    "source": [],
    "metadata": {
     "collapsed": false
    }
   }
  }
 },
 "nbformat": 4,
 "nbformat_minor": 1
}