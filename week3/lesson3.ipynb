{
  "cells": [
    {
      "cell_type": "code",
      "execution_count": 1,
      "metadata": {
        "pycharm": {
          "is_executing": false
        }
      },
      "outputs": [],
      "source": [
        "import psycopg2\n",
        "import pandas as pd"
      ]
    },
    {
      "cell_type": "markdown",
      "metadata": {
        "pycharm": {
          "metadata": false,
          "name": "#%% md\n"
        }
      },
      "source": "# Prepare the Data\n\nRun `docker-compose up` to get Postgres up and running."
    },
    {
      "cell_type": "code",
      "execution_count": 2,
      "metadata": {
        "pycharm": {
          "metadata": false,
          "name": "#%%\n",
          "is_executing": false
        }
      },
      "outputs": [],
      "source": "credentials \u003d \"dbname\u003d\u0027astronomy\u0027 user\u003d\u0027user\u0027 host\u003d\u0027localhost\u0027 password\u003d\u0027pass\u0027\"\nconn \u003d psycopg2.connect(credentials)\ncur \u003d conn.cursor()\n\ncur.execute(\"\"\"\nDROP TABLE IF EXISTS Star;\nDROP TABLE IF EXISTS Planet;\n\nCREATE TABLE Star (\n  kepler_id INTEGER NOT NULL,\n  koi_name VARCHAR(20) NOT NULL,\n  t_eff INTEGER,\n  radius FLOAT(5),\n  PRIMARY KEY (koi_name)\n);\n\nCREATE TABLE Planet (\n  kepler_id INTEGER NOT NULL,\n  koi_name VARCHAR(20) NOT NULL,\n  kepler_name VARCHAR(20),\n  status VARCHAR(20) NOT NULL,\n  period FLOAT,\n  radius FLOAT,\n  t_eq INTEGER,\n  PRIMARY KEY (koi_name)\n);\n\nCOPY Star (kepler_id, koi_name, t_eff, radius)\n  FROM \u0027/data/week3/data1/stars.csv\u0027 CSV;\nCOPY Planet (kepler_id, koi_name, kepler_name, status, period, radius, t_eq)\n  FROM \u0027/data/week3/data1/planets.csv\u0027 CSV;\n\"\"\")\nconn.commit()"
    },
    {
      "cell_type": "markdown",
      "metadata": {
        "pycharm": {
          "metadata": false,
          "name": "#%% md\n"
        }
      },
      "source": "# Task 1\nWrite an SQL query to find the radius and temperature of the stars in the\nStar table that are larger than our sun."
    },
    {
      "cell_type": "code",
      "execution_count": 3,
      "metadata": {
        "pycharm": {
          "metadata": false,
          "name": "#%%\n",
          "is_executing": false
        }
      },
      "outputs": [
        {
          "data": {
            "text/plain": "   radius  t_eff\n0   3.523   6335\n1   1.965   8782\n2   1.032   6319\n3  27.384   3789",
            "text/html": "\u003cdiv\u003e\n\u003cstyle scoped\u003e\n    .dataframe tbody tr th:only-of-type {\n        vertical-align: middle;\n    }\n\n    .dataframe tbody tr th {\n        vertical-align: top;\n    }\n\n    .dataframe thead th {\n        text-align: right;\n    }\n\u003c/style\u003e\n\u003ctable border\u003d\"1\" class\u003d\"dataframe\"\u003e\n  \u003cthead\u003e\n    \u003ctr style\u003d\"text-align: right;\"\u003e\n      \u003cth\u003e\u003c/th\u003e\n      \u003cth\u003eradius\u003c/th\u003e\n      \u003cth\u003et_eff\u003c/th\u003e\n    \u003c/tr\u003e\n  \u003c/thead\u003e\n  \u003ctbody\u003e\n    \u003ctr\u003e\n      \u003cth\u003e0\u003c/th\u003e\n      \u003ctd\u003e3.523\u003c/td\u003e\n      \u003ctd\u003e6335\u003c/td\u003e\n    \u003c/tr\u003e\n    \u003ctr\u003e\n      \u003cth\u003e1\u003c/th\u003e\n      \u003ctd\u003e1.965\u003c/td\u003e\n      \u003ctd\u003e8782\u003c/td\u003e\n    \u003c/tr\u003e\n    \u003ctr\u003e\n      \u003cth\u003e2\u003c/th\u003e\n      \u003ctd\u003e1.032\u003c/td\u003e\n      \u003ctd\u003e6319\u003c/td\u003e\n    \u003c/tr\u003e\n    \u003ctr\u003e\n      \u003cth\u003e3\u003c/th\u003e\n      \u003ctd\u003e27.384\u003c/td\u003e\n      \u003ctd\u003e3789\u003c/td\u003e\n    \u003c/tr\u003e\n  \u003c/tbody\u003e\n\u003c/table\u003e\n\u003c/div\u003e"
          },
          "metadata": {},
          "output_type": "execute_result",
          "execution_count": 3
        }
      ],
      "source": "pd.read_sql(\"\"\"\nSELECT radius, t_eff FROM Star WHERE radius \u003e 1;\n\"\"\", conn)"
    },
    {
      "cell_type": "markdown",
      "metadata": {
        "pycharm": {
          "metadata": false,
          "name": "#%% md\n"
        }
      },
      "source": "# Task 2\nWrite a range query which returns the `kepler_id` and the `t_eff` attributes\nof all those stars in the Star table whose temperature lies between 5000 and\n6000 Kelvin (inclusive)"
    },
    {
      "cell_type": "code",
      "execution_count": 4,
      "metadata": {
        "pycharm": {
          "metadata": false,
          "is_executing": false
        }
      },
      "outputs": [
        {
          "data": {
            "text/plain": "   kepler_id  t_eff\n0    3836450   5160\n1    6590362   5926\n2    8106973   5810",
            "text/html": "\u003cdiv\u003e\n\u003cstyle scoped\u003e\n    .dataframe tbody tr th:only-of-type {\n        vertical-align: middle;\n    }\n\n    .dataframe tbody tr th {\n        vertical-align: top;\n    }\n\n    .dataframe thead th {\n        text-align: right;\n    }\n\u003c/style\u003e\n\u003ctable border\u003d\"1\" class\u003d\"dataframe\"\u003e\n  \u003cthead\u003e\n    \u003ctr style\u003d\"text-align: right;\"\u003e\n      \u003cth\u003e\u003c/th\u003e\n      \u003cth\u003ekepler_id\u003c/th\u003e\n      \u003cth\u003et_eff\u003c/th\u003e\n    \u003c/tr\u003e\n  \u003c/thead\u003e\n  \u003ctbody\u003e\n    \u003ctr\u003e\n      \u003cth\u003e0\u003c/th\u003e\n      \u003ctd\u003e3836450\u003c/td\u003e\n      \u003ctd\u003e5160\u003c/td\u003e\n    \u003c/tr\u003e\n    \u003ctr\u003e\n      \u003cth\u003e1\u003c/th\u003e\n      \u003ctd\u003e6590362\u003c/td\u003e\n      \u003ctd\u003e5926\u003c/td\u003e\n    \u003c/tr\u003e\n    \u003ctr\u003e\n      \u003cth\u003e2\u003c/th\u003e\n      \u003ctd\u003e8106973\u003c/td\u003e\n      \u003ctd\u003e5810\u003c/td\u003e\n    \u003c/tr\u003e\n  \u003c/tbody\u003e\n\u003c/table\u003e\n\u003c/div\u003e"
          },
          "metadata": {},
          "output_type": "execute_result",
          "execution_count": 4
        }
      ],
      "source": [
        "pd.read_sql(\"\"\"\n",
        "SELECT kepler_id, t_eff FROM Star WHERE t_eff BETWEEN 5000 AND 6000;\n",
        "\"\"\", conn)"
      ]
    },
    {
      "cell_type": "markdown",
      "metadata": {
        "pycharm": {
          "metadata": false,
          "name": "#%% md\n"
        }
      },
      "source": "# Task 3\nWrite a query to find the `kepler_name` and `radius` of each planet in the\n`Planet` table which is a confirmed exoplanet, meaning that their `kepler_name`\nis not `NULL`, or, equivalently, whose status is `\u0027CONFIRMED\u0027`.\n\nRestrict your results to those planets whose radius lies between one and three\nearth radii, and remember that the radius of the planets is relative to the\nearth radius."
    },
    {
      "cell_type": "code",
      "execution_count": 5,
      "metadata": {
        "pycharm": {
          "metadata": false,
          "name": "#%%\n",
          "is_executing": false
        }
      },
      "outputs": [
        {
          "data": {
            "text/plain": "    kepler_name  radius\n0   Kepler-10 b    1.45\n1  Kepler-106 c    2.35\n2   Kepler-52 d    1.80\n3  Kepler-239 b    2.36\n4  Kepler-239 c    2.19",
            "text/html": "\u003cdiv\u003e\n\u003cstyle scoped\u003e\n    .dataframe tbody tr th:only-of-type {\n        vertical-align: middle;\n    }\n\n    .dataframe tbody tr th {\n        vertical-align: top;\n    }\n\n    .dataframe thead th {\n        text-align: right;\n    }\n\u003c/style\u003e\n\u003ctable border\u003d\"1\" class\u003d\"dataframe\"\u003e\n  \u003cthead\u003e\n    \u003ctr style\u003d\"text-align: right;\"\u003e\n      \u003cth\u003e\u003c/th\u003e\n      \u003cth\u003ekepler_name\u003c/th\u003e\n      \u003cth\u003eradius\u003c/th\u003e\n    \u003c/tr\u003e\n  \u003c/thead\u003e\n  \u003ctbody\u003e\n    \u003ctr\u003e\n      \u003cth\u003e0\u003c/th\u003e\n      \u003ctd\u003eKepler-10 b\u003c/td\u003e\n      \u003ctd\u003e1.45\u003c/td\u003e\n    \u003c/tr\u003e\n    \u003ctr\u003e\n      \u003cth\u003e1\u003c/th\u003e\n      \u003ctd\u003eKepler-106 c\u003c/td\u003e\n      \u003ctd\u003e2.35\u003c/td\u003e\n    \u003c/tr\u003e\n    \u003ctr\u003e\n      \u003cth\u003e2\u003c/th\u003e\n      \u003ctd\u003eKepler-52 d\u003c/td\u003e\n      \u003ctd\u003e1.80\u003c/td\u003e\n    \u003c/tr\u003e\n    \u003ctr\u003e\n      \u003cth\u003e3\u003c/th\u003e\n      \u003ctd\u003eKepler-239 b\u003c/td\u003e\n      \u003ctd\u003e2.36\u003c/td\u003e\n    \u003c/tr\u003e\n    \u003ctr\u003e\n      \u003cth\u003e4\u003c/th\u003e\n      \u003ctd\u003eKepler-239 c\u003c/td\u003e\n      \u003ctd\u003e2.19\u003c/td\u003e\n    \u003c/tr\u003e\n  \u003c/tbody\u003e\n\u003c/table\u003e\n\u003c/div\u003e"
          },
          "metadata": {},
          "output_type": "execute_result",
          "execution_count": 5
        }
      ],
      "source": "pd.read_sql(\"\"\"\nSELECT kepler_name, radius FROM Planet\n  WHERE kepler_name IS NOT NULL AND radius BETWEEN 1 AND 3;\n\"\"\", conn)"
    },
    {
      "cell_type": "markdown",
      "metadata": {
        "pycharm": {
          "metadata": false,
          "name": "#%% md\n"
        }
      },
      "source": "# Task 4\n## Uploading more Data"
    },
    {
      "cell_type": "code",
      "execution_count": 6,
      "metadata": {
        "pycharm": {
          "metadata": false,
          "name": "#%%\n",
          "is_executing": false
        }
      },
      "outputs": [],
      "source": "cur.execute(\"\"\"\nDROP TABLE IF EXISTS Planet;\n\nCREATE TABLE Planet (\n  kepler_id INTEGER NOT NULL,\n  koi_name VARCHAR(20) NOT NULL,\n  kepler_name VARCHAR(20),\n  status VARCHAR(20) NOT NULL,\n  period FLOAT NOT NULL,\n  radius FLOAT NOT NULL,\n  t_eq INTEGER NOT NULL,\n  PRIMARY KEY (koi_name)\n);\n\n\nCOPY Planet (kepler_id, koi_name, kepler_name, status, period, radius, t_eq)\n  FROM \u0027/data/week3/data2/planets.csv\u0027 CSV;\n\"\"\")\nconn.commit()"
    },
    {
      "cell_type": "markdown",
      "metadata": {
        "pycharm": {
          "metadata": false,
          "name": "#%% md\n"
        }
      },
      "source": "Your task is to write a query that calculates the:\n\n- minimum radius;\n- maximum radius;\n- average radius; and\n- standard deviation of the radius\n\nof unconfirmed planets (with a `NULL` value in `kepler_name`) in the `Planet`\ntable."
    },
    {
      "cell_type": "code",
      "execution_count": 7,
      "metadata": {
        "pycharm": {
          "metadata": false,
          "name": "#%%\n",
          "is_executing": false
        }
      },
      "outputs": [
        {
          "data": {
            "text/plain": "    min      max         avg      stddev\n0  0.65  3462.25  275.517333  888.709924",
            "text/html": "\u003cdiv\u003e\n\u003cstyle scoped\u003e\n    .dataframe tbody tr th:only-of-type {\n        vertical-align: middle;\n    }\n\n    .dataframe tbody tr th {\n        vertical-align: top;\n    }\n\n    .dataframe thead th {\n        text-align: right;\n    }\n\u003c/style\u003e\n\u003ctable border\u003d\"1\" class\u003d\"dataframe\"\u003e\n  \u003cthead\u003e\n    \u003ctr style\u003d\"text-align: right;\"\u003e\n      \u003cth\u003e\u003c/th\u003e\n      \u003cth\u003emin\u003c/th\u003e\n      \u003cth\u003emax\u003c/th\u003e\n      \u003cth\u003eavg\u003c/th\u003e\n      \u003cth\u003estddev\u003c/th\u003e\n    \u003c/tr\u003e\n  \u003c/thead\u003e\n  \u003ctbody\u003e\n    \u003ctr\u003e\n      \u003cth\u003e0\u003c/th\u003e\n      \u003ctd\u003e0.65\u003c/td\u003e\n      \u003ctd\u003e3462.25\u003c/td\u003e\n      \u003ctd\u003e275.517333\u003c/td\u003e\n      \u003ctd\u003e888.709924\u003c/td\u003e\n    \u003c/tr\u003e\n  \u003c/tbody\u003e\n\u003c/table\u003e\n\u003c/div\u003e"
          },
          "metadata": {},
          "output_type": "execute_result",
          "execution_count": 7
        }
      ],
      "source": "pd.read_sql(\"\"\"\nSELECT\n  MIN(radius),\n  MAX(radius),\n  AVG(radius),\n  STDDEV(radius)\nFROM Planet WHERE kepler_name IS NULL;\n\"\"\", conn)"
    },
    {
      "cell_type": "markdown",
      "source": "# Task 5\nFind out how many planets in the `Planet` database are in a multi-planet\nsystem. Planets sharing the same star will have the same `kepler_id`, but\ndifferent `koi_name` values.\n\nYour query should return a table in which each row contains the `kepler_id`\nof the star and the number of planets orbiting that star (i.e. that share\nthis `kepler_id`).\n\nLimit your results to counts above one and order the rows in descending order\nbased on the number of planets.",
      "metadata": {
        "pycharm": {
          "metadata": false,
          "name": "#%% md\n"
        }
      }
    },
    {
      "cell_type": "code",
      "source": "pd.read_sql(\"\"\"\nSELECT kepler_id, COUNT(koi_name)\n  FROM Planet\n  GROUP BY kepler_id\n  HAVING COUNT(koi_name) \u003e 1\n  ORDER BY COUNT(koi_name) DESC;\n\"\"\", conn)",
      "metadata": {
        "pycharm": {
          "metadata": false,
          "name": "#%%\n",
          "is_executing": false
        }
      },
      "execution_count": 8,
      "outputs": [
        {
          "data": {
            "text/plain": "    kepler_id  count\n0     8395660      4\n1     4139816      4\n2     3832474      3\n3     5358241      3\n4    10910878      3\n5     9579641      3\n6    10872983      3\n7    10601284      3\n8    11754553      3\n9    12066335      2\n10   11918099      2\n11   10797460      2\n12   12366084      2\n13    3342970      2\n14   11018648      2\n15   10187017      2\n16    5456651      2\n17   12470844      2",
            "text/html": "\u003cdiv\u003e\n\u003cstyle scoped\u003e\n    .dataframe tbody tr th:only-of-type {\n        vertical-align: middle;\n    }\n\n    .dataframe tbody tr th {\n        vertical-align: top;\n    }\n\n    .dataframe thead th {\n        text-align: right;\n    }\n\u003c/style\u003e\n\u003ctable border\u003d\"1\" class\u003d\"dataframe\"\u003e\n  \u003cthead\u003e\n    \u003ctr style\u003d\"text-align: right;\"\u003e\n      \u003cth\u003e\u003c/th\u003e\n      \u003cth\u003ekepler_id\u003c/th\u003e\n      \u003cth\u003ecount\u003c/th\u003e\n    \u003c/tr\u003e\n  \u003c/thead\u003e\n  \u003ctbody\u003e\n    \u003ctr\u003e\n      \u003cth\u003e0\u003c/th\u003e\n      \u003ctd\u003e8395660\u003c/td\u003e\n      \u003ctd\u003e4\u003c/td\u003e\n    \u003c/tr\u003e\n    \u003ctr\u003e\n      \u003cth\u003e1\u003c/th\u003e\n      \u003ctd\u003e4139816\u003c/td\u003e\n      \u003ctd\u003e4\u003c/td\u003e\n    \u003c/tr\u003e\n    \u003ctr\u003e\n      \u003cth\u003e2\u003c/th\u003e\n      \u003ctd\u003e3832474\u003c/td\u003e\n      \u003ctd\u003e3\u003c/td\u003e\n    \u003c/tr\u003e\n    \u003ctr\u003e\n      \u003cth\u003e3\u003c/th\u003e\n      \u003ctd\u003e5358241\u003c/td\u003e\n      \u003ctd\u003e3\u003c/td\u003e\n    \u003c/tr\u003e\n    \u003ctr\u003e\n      \u003cth\u003e4\u003c/th\u003e\n      \u003ctd\u003e10910878\u003c/td\u003e\n      \u003ctd\u003e3\u003c/td\u003e\n    \u003c/tr\u003e\n    \u003ctr\u003e\n      \u003cth\u003e5\u003c/th\u003e\n      \u003ctd\u003e9579641\u003c/td\u003e\n      \u003ctd\u003e3\u003c/td\u003e\n    \u003c/tr\u003e\n    \u003ctr\u003e\n      \u003cth\u003e6\u003c/th\u003e\n      \u003ctd\u003e10872983\u003c/td\u003e\n      \u003ctd\u003e3\u003c/td\u003e\n    \u003c/tr\u003e\n    \u003ctr\u003e\n      \u003cth\u003e7\u003c/th\u003e\n      \u003ctd\u003e10601284\u003c/td\u003e\n      \u003ctd\u003e3\u003c/td\u003e\n    \u003c/tr\u003e\n    \u003ctr\u003e\n      \u003cth\u003e8\u003c/th\u003e\n      \u003ctd\u003e11754553\u003c/td\u003e\n      \u003ctd\u003e3\u003c/td\u003e\n    \u003c/tr\u003e\n    \u003ctr\u003e\n      \u003cth\u003e9\u003c/th\u003e\n      \u003ctd\u003e12066335\u003c/td\u003e\n      \u003ctd\u003e2\u003c/td\u003e\n    \u003c/tr\u003e\n    \u003ctr\u003e\n      \u003cth\u003e10\u003c/th\u003e\n      \u003ctd\u003e11918099\u003c/td\u003e\n      \u003ctd\u003e2\u003c/td\u003e\n    \u003c/tr\u003e\n    \u003ctr\u003e\n      \u003cth\u003e11\u003c/th\u003e\n      \u003ctd\u003e10797460\u003c/td\u003e\n      \u003ctd\u003e2\u003c/td\u003e\n    \u003c/tr\u003e\n    \u003ctr\u003e\n      \u003cth\u003e12\u003c/th\u003e\n      \u003ctd\u003e12366084\u003c/td\u003e\n      \u003ctd\u003e2\u003c/td\u003e\n    \u003c/tr\u003e\n    \u003ctr\u003e\n      \u003cth\u003e13\u003c/th\u003e\n      \u003ctd\u003e3342970\u003c/td\u003e\n      \u003ctd\u003e2\u003c/td\u003e\n    \u003c/tr\u003e\n    \u003ctr\u003e\n      \u003cth\u003e14\u003c/th\u003e\n      \u003ctd\u003e11018648\u003c/td\u003e\n      \u003ctd\u003e2\u003c/td\u003e\n    \u003c/tr\u003e\n    \u003ctr\u003e\n      \u003cth\u003e15\u003c/th\u003e\n      \u003ctd\u003e10187017\u003c/td\u003e\n      \u003ctd\u003e2\u003c/td\u003e\n    \u003c/tr\u003e\n    \u003ctr\u003e\n      \u003cth\u003e16\u003c/th\u003e\n      \u003ctd\u003e5456651\u003c/td\u003e\n      \u003ctd\u003e2\u003c/td\u003e\n    \u003c/tr\u003e\n    \u003ctr\u003e\n      \u003cth\u003e17\u003c/th\u003e\n      \u003ctd\u003e12470844\u003c/td\u003e\n      \u003ctd\u003e2\u003c/td\u003e\n    \u003c/tr\u003e\n  \u003c/tbody\u003e\n\u003c/table\u003e\n\u003c/div\u003e"
          },
          "metadata": {},
          "output_type": "execute_result",
          "execution_count": 8
        }
      ]
    },
    {
      "cell_type": "markdown",
      "metadata": {
        "pycharm": {
          "metadata": false,
          "name": "#%% md\n"
        }
      },
      "source": "# Tear down"
    },
    {
      "cell_type": "code",
      "execution_count": 9,
      "metadata": {
        "pycharm": {
          "metadata": false,
          "name": "#%%\n",
          "is_executing": false
        }
      },
      "outputs": [],
      "source": "cur.close()\nconn.close()"
    }
  ],
  "metadata": {
    "kernelspec": {
      "display_name": "Python 3",
      "language": "python",
      "name": "python3"
    },
    "language_info": {
      "codemirror_mode": {
        "name": "ipython",
        "version": 3
      },
      "file_extension": ".py",
      "mimetype": "text/x-python",
      "name": "python",
      "nbconvert_exporter": "python",
      "pygments_lexer": "ipython3",
      "version": "3.7.0"
    }
  },
  "nbformat": 4,
  "nbformat_minor": 1
}