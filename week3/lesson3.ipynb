{
  "cells": [
    {
      "cell_type": "code",
      "execution_count": 68,
      "metadata": {},
      "outputs": [],
      "source": [
        "import psycopg2\n",
        "import pandas as pd"
      ]
    },
    {
      "cell_type": "markdown",
      "metadata": {
        "pycharm": {
          "metadata": false,
          "name": "#%% m"
        }
      },
      "source": [
        "# Prepare the Data\n",
        "\n",
        "Run `docker-compose up` to get Postgres up and running."
      ]
    },
    {
      "cell_type": "code",
      "execution_count": 69,
      "metadata": {
        "pycharm": {
          "metadata": false,
          "name": "#%% cod"
        }
      },
      "outputs": [],
      "source": "credentials \u003d \"dbname\u003d\u0027astronomy\u0027 user\u003d\u0027user\u0027 host\u003d\u0027localhost\u0027 password\u003d\u0027pass\u0027\"\nconn \u003d psycopg2.connect(credentials)\ncur \u003d conn.cursor()\n\ncur.execute(\"\"\"\nDROP TABLE IF EXISTS Star;\nDROP TABLE IF EXISTS Planet;\n\nCREATE TABLE Star (\n  kepler_id INTEGER NOT NULL,\n  koi_name VARCHAR(20) NOT NULL,\n  t_eff INTEGER,\n  radius FLOAT(5),\n  PRIMARY KEY (koi_name)\n);\n\nCREATE TABLE Planet (\n  kepler_id INTEGER NOT NULL,\n  koi_name VARCHAR(20) NOT NULL,\n  kepler_name VARCHAR(20),\n  status VARCHAR(20) NOT NULL,\n  period FLOAT,\n  radius FLOAT,\n  t_eq INTEGER,\n  PRIMARY KEY (koi_name)\n);\n\nCOPY Star (kepler_id, koi_name, t_eff, radius)\n  FROM \u0027/data/data1/stars.csv\u0027 CSV;\nCOPY Planet (kepler_id, koi_name, kepler_name, status, period, radius, t_eq)\n  FROM \u0027/data/data1/planets.csv\u0027 CSV;\n\"\"\")\nconn.commit()"
    },
    {
      "cell_type": "markdown",
      "metadata": {
        "pycharm": {
          "metadata": false,
          "name": "#%% m"
        }
      },
      "source": [
        "# Task 1\n",
        "Write an SQL query to find the radius and temperature of the stars in the\n",
        "Star table that are larger than our sun."
      ]
    },
    {
      "cell_type": "code",
      "execution_count": 70,
      "metadata": {
        "pycharm": {
          "metadata": false,
          "name": "#%% code "
        }
      },
      "outputs": [
        {
          "data": {
            "text/html": [
              "\u003cdiv\u003e\n",
              "\u003cstyle scoped\u003e\n",
              "    .dataframe tbody tr th:only-of-type {\n",
              "        vertical-align: middle;\n",
              "    }\n",
              "\n",
              "    .dataframe tbody tr th {\n",
              "        vertical-align: top;\n",
              "    }\n",
              "\n",
              "    .dataframe thead th {\n",
              "        text-align: right;\n",
              "    }\n",
              "\u003c/style\u003e\n",
              "\u003ctable border\u003d\"1\" class\u003d\"dataframe\"\u003e\n",
              "  \u003cthead\u003e\n",
              "    \u003ctr style\u003d\"text-align: right;\"\u003e\n",
              "      \u003cth\u003e\u003c/th\u003e\n",
              "      \u003cth\u003eradius\u003c/th\u003e\n",
              "      \u003cth\u003et_eff\u003c/th\u003e\n",
              "    \u003c/tr\u003e\n",
              "  \u003c/thead\u003e\n",
              "  \u003ctbody\u003e\n",
              "    \u003ctr\u003e\n",
              "      \u003cth\u003e0\u003c/th\u003e\n",
              "      \u003ctd\u003e3.523\u003c/td\u003e\n",
              "      \u003ctd\u003e6335\u003c/td\u003e\n",
              "    \u003c/tr\u003e\n",
              "    \u003ctr\u003e\n",
              "      \u003cth\u003e1\u003c/th\u003e\n",
              "      \u003ctd\u003e1.965\u003c/td\u003e\n",
              "      \u003ctd\u003e8782\u003c/td\u003e\n",
              "    \u003c/tr\u003e\n",
              "    \u003ctr\u003e\n",
              "      \u003cth\u003e2\u003c/th\u003e\n",
              "      \u003ctd\u003e1.032\u003c/td\u003e\n",
              "      \u003ctd\u003e6319\u003c/td\u003e\n",
              "    \u003c/tr\u003e\n",
              "    \u003ctr\u003e\n",
              "      \u003cth\u003e3\u003c/th\u003e\n",
              "      \u003ctd\u003e27.384\u003c/td\u003e\n",
              "      \u003ctd\u003e3789\u003c/td\u003e\n",
              "    \u003c/tr\u003e\n",
              "  \u003c/tbody\u003e\n",
              "\u003c/table\u003e\n",
              "\u003c/div\u003e"
            ],
            "text/plain": [
              "   radius  t_eff\n",
              "0   3.523   6335\n",
              "1   1.965   8782\n",
              "2   1.032   6319\n",
              "3  27.384   3789"
            ]
          },
          "execution_count": 70,
          "metadata": {},
          "output_type": "execute_result"
        }
      ],
      "source": [
        "pd.read_sql(\"\"\"\n",
        "SELECT radius, t_eff FROM Star WHERE radius \u003e 1;\n",
        "\"\"\", conn)"
      ]
    },
    {
      "cell_type": "markdown",
      "metadata": {
        "pycharm": {
          "metadata": false,
          "name": "#%% m"
        }
      },
      "source": [
        "# Task 2\n",
        "Write a range query which returns the `kepler_id` and the `t_eff` attributes\n",
        "of all those stars in the Star table whose temperature lies between 5000 and\n",
        "6000 Kelvin (inclusive)"
      ]
    },
    {
      "cell_type": "code",
      "execution_count": 71,
      "metadata": {
        "pycharm": {
          "metadata": false
        }
      },
      "outputs": [
        {
          "data": {
            "text/html": [
              "\u003cdiv\u003e\n",
              "\u003cstyle scoped\u003e\n",
              "    .dataframe tbody tr th:only-of-type {\n",
              "        vertical-align: middle;\n",
              "    }\n",
              "\n",
              "    .dataframe tbody tr th {\n",
              "        vertical-align: top;\n",
              "    }\n",
              "\n",
              "    .dataframe thead th {\n",
              "        text-align: right;\n",
              "    }\n",
              "\u003c/style\u003e\n",
              "\u003ctable border\u003d\"1\" class\u003d\"dataframe\"\u003e\n",
              "  \u003cthead\u003e\n",
              "    \u003ctr style\u003d\"text-align: right;\"\u003e\n",
              "      \u003cth\u003e\u003c/th\u003e\n",
              "      \u003cth\u003ekepler_id\u003c/th\u003e\n",
              "      \u003cth\u003et_eff\u003c/th\u003e\n",
              "    \u003c/tr\u003e\n",
              "  \u003c/thead\u003e\n",
              "  \u003ctbody\u003e\n",
              "    \u003ctr\u003e\n",
              "      \u003cth\u003e0\u003c/th\u003e\n",
              "      \u003ctd\u003e3836450\u003c/td\u003e\n",
              "      \u003ctd\u003e5160\u003c/td\u003e\n",
              "    \u003c/tr\u003e\n",
              "    \u003ctr\u003e\n",
              "      \u003cth\u003e1\u003c/th\u003e\n",
              "      \u003ctd\u003e6590362\u003c/td\u003e\n",
              "      \u003ctd\u003e5926\u003c/td\u003e\n",
              "    \u003c/tr\u003e\n",
              "    \u003ctr\u003e\n",
              "      \u003cth\u003e2\u003c/th\u003e\n",
              "      \u003ctd\u003e8106973\u003c/td\u003e\n",
              "      \u003ctd\u003e5810\u003c/td\u003e\n",
              "    \u003c/tr\u003e\n",
              "  \u003c/tbody\u003e\n",
              "\u003c/table\u003e\n",
              "\u003c/div\u003e"
            ],
            "text/plain": [
              "   kepler_id  t_eff\n",
              "0    3836450   5160\n",
              "1    6590362   5926\n",
              "2    8106973   5810"
            ]
          },
          "execution_count": 71,
          "metadata": {},
          "output_type": "execute_result"
        }
      ],
      "source": [
        "pd.read_sql(\"\"\"\n",
        "SELECT kepler_id, t_eff FROM Star WHERE t_eff BETWEEN 5000 AND 6000;\n",
        "\"\"\", conn)"
      ]
    },
    {
      "cell_type": "markdown",
      "metadata": {
        "pycharm": {
          "metadata": false,
          "name": "#%% m"
        }
      },
      "source": [
        "# Task 3\n",
        "Write a query to find the `kepler_name` and `radius` of each planet in the\n",
        "`Planet` table which is a confirmed exoplanet, meaning that their `kepler_name`\n",
        "is not `NULL`, or, equivalently, whose status is `\u0027CONFIRMED\u0027`.\n",
        "\n",
        "Restrict your results to those planets whose radius lies between one and three\n",
        "earth radii, and remember that the radius of the planets is relative to the\n",
        "earth radius."
      ]
    },
    {
      "cell_type": "code",
      "execution_count": 72,
      "metadata": {
        "pycharm": {
          "metadata": false,
          "name": "#%% cod"
        }
      },
      "outputs": [
        {
          "data": {
            "text/html": [
              "\u003cdiv\u003e\n",
              "\u003cstyle scoped\u003e\n",
              "    .dataframe tbody tr th:only-of-type {\n",
              "        vertical-align: middle;\n",
              "    }\n",
              "\n",
              "    .dataframe tbody tr th {\n",
              "        vertical-align: top;\n",
              "    }\n",
              "\n",
              "    .dataframe thead th {\n",
              "        text-align: right;\n",
              "    }\n",
              "\u003c/style\u003e\n",
              "\u003ctable border\u003d\"1\" class\u003d\"dataframe\"\u003e\n",
              "  \u003cthead\u003e\n",
              "    \u003ctr style\u003d\"text-align: right;\"\u003e\n",
              "      \u003cth\u003e\u003c/th\u003e\n",
              "      \u003cth\u003ekepler_name\u003c/th\u003e\n",
              "      \u003cth\u003eradius\u003c/th\u003e\n",
              "    \u003c/tr\u003e\n",
              "  \u003c/thead\u003e\n",
              "  \u003ctbody\u003e\n",
              "    \u003ctr\u003e\n",
              "      \u003cth\u003e0\u003c/th\u003e\n",
              "      \u003ctd\u003eKepler-10 b\u003c/td\u003e\n",
              "      \u003ctd\u003e1.45\u003c/td\u003e\n",
              "    \u003c/tr\u003e\n",
              "    \u003ctr\u003e\n",
              "      \u003cth\u003e1\u003c/th\u003e\n",
              "      \u003ctd\u003eKepler-106 c\u003c/td\u003e\n",
              "      \u003ctd\u003e2.35\u003c/td\u003e\n",
              "    \u003c/tr\u003e\n",
              "    \u003ctr\u003e\n",
              "      \u003cth\u003e2\u003c/th\u003e\n",
              "      \u003ctd\u003eKepler-52 d\u003c/td\u003e\n",
              "      \u003ctd\u003e1.80\u003c/td\u003e\n",
              "    \u003c/tr\u003e\n",
              "    \u003ctr\u003e\n",
              "      \u003cth\u003e3\u003c/th\u003e\n",
              "      \u003ctd\u003eKepler-239 b\u003c/td\u003e\n",
              "      \u003ctd\u003e2.36\u003c/td\u003e\n",
              "    \u003c/tr\u003e\n",
              "    \u003ctr\u003e\n",
              "      \u003cth\u003e4\u003c/th\u003e\n",
              "      \u003ctd\u003eKepler-239 c\u003c/td\u003e\n",
              "      \u003ctd\u003e2.19\u003c/td\u003e\n",
              "    \u003c/tr\u003e\n",
              "  \u003c/tbody\u003e\n",
              "\u003c/table\u003e\n",
              "\u003c/div\u003e"
            ],
            "text/plain": [
              "    kepler_name  radius\n",
              "0   Kepler-10 b    1.45\n",
              "1  Kepler-106 c    2.35\n",
              "2   Kepler-52 d    1.80\n",
              "3  Kepler-239 b    2.36\n",
              "4  Kepler-239 c    2.19"
            ]
          },
          "execution_count": 72,
          "metadata": {},
          "output_type": "execute_result"
        }
      ],
      "source": [
        "pd.read_sql(\"\"\"\n",
        "SELECT kepler_name, radius FROM Planet\n",
        "  WHERE kepler_name IS NOT NULL AND radius BETWEEN 1 AND 3;\n",
        "\"\"\", conn)"
      ]
    },
    {
      "cell_type": "markdown",
      "metadata": {
        "pycharm": {
          "metadata": false,
          "name": "#%% m"
        }
      },
      "source": [
        "# Task 4\n",
        "## Uploading more Data"
      ]
    },
    {
      "cell_type": "code",
      "execution_count": 73,
      "metadata": {
        "pycharm": {
          "metadata": false,
          "name": "#%% cod"
        }
      },
      "outputs": [],
      "source": [
        "cur.execute(\"\"\"\n",
        "DROP TABLE IF EXISTS Planet;\n",
        "\n",
        "CREATE TABLE Planet (\n",
        "  kepler_id INTEGER NOT NULL,\n",
        "  koi_name VARCHAR(20) NOT NULL,\n",
        "  kepler_name VARCHAR(20),\n",
        "  status VARCHAR(20) NOT NULL,\n",
        "  period FLOAT NOT NULL,\n",
        "  radius FLOAT NOT NULL,\n",
        "  t_eq INTEGER NOT NULL,\n",
        "  PRIMARY KEY (koi_name)\n",
        ");\n",
        "\n",
        "\n",
        "COPY Planet (kepler_id, koi_name, kepler_name, status, period, radius, t_eq)\n",
        "  FROM \u0027/data/data2/planets.csv\u0027 CSV;\n",
        "\"\"\")\n",
        "conn.commit()"
      ]
    },
    {
      "cell_type": "markdown",
      "metadata": {
        "pycharm": {
          "metadata": false,
          "name": "#%% m"
        }
      },
      "source": [
        "Your task is to write a query that calculates the:\n",
        "\n",
        "- minimum radius;\n",
        "- maximum radius;\n",
        "- average radius; and\n",
        "- standard deviation of the radius\n",
        "\n",
        "of unconfirmed planets (with a `NULL` value in `kepler_name`) in the `Planet`\n",
        "table."
      ]
    },
    {
      "cell_type": "code",
      "execution_count": 74,
      "metadata": {
        "pycharm": {
          "metadata": false,
          "name": "#%% cod"
        }
      },
      "outputs": [
        {
          "data": {
            "text/html": [
              "\u003cdiv\u003e\n",
              "\u003cstyle scoped\u003e\n",
              "    .dataframe tbody tr th:only-of-type {\n",
              "        vertical-align: middle;\n",
              "    }\n",
              "\n",
              "    .dataframe tbody tr th {\n",
              "        vertical-align: top;\n",
              "    }\n",
              "\n",
              "    .dataframe thead th {\n",
              "        text-align: right;\n",
              "    }\n",
              "\u003c/style\u003e\n",
              "\u003ctable border\u003d\"1\" class\u003d\"dataframe\"\u003e\n",
              "  \u003cthead\u003e\n",
              "    \u003ctr style\u003d\"text-align: right;\"\u003e\n",
              "      \u003cth\u003e\u003c/th\u003e\n",
              "      \u003cth\u003emin\u003c/th\u003e\n",
              "      \u003cth\u003emax\u003c/th\u003e\n",
              "      \u003cth\u003eavg\u003c/th\u003e\n",
              "      \u003cth\u003estddev\u003c/th\u003e\n",
              "    \u003c/tr\u003e\n",
              "  \u003c/thead\u003e\n",
              "  \u003ctbody\u003e\n",
              "    \u003ctr\u003e\n",
              "      \u003cth\u003e0\u003c/th\u003e\n",
              "      \u003ctd\u003e0.65\u003c/td\u003e\n",
              "      \u003ctd\u003e3462.25\u003c/td\u003e\n",
              "      \u003ctd\u003e275.517333\u003c/td\u003e\n",
              "      \u003ctd\u003e888.709924\u003c/td\u003e\n",
              "    \u003c/tr\u003e\n",
              "  \u003c/tbody\u003e\n",
              "\u003c/table\u003e\n",
              "\u003c/div\u003e"
            ],
            "text/plain": [
              "    min      max         avg      stddev\n",
              "0  0.65  3462.25  275.517333  888.709924"
            ]
          },
          "execution_count": 74,
          "metadata": {},
          "output_type": "execute_result"
        }
      ],
      "source": "pd.read_sql(\"\"\"\nSELECT\n  MIN(radius),\n  MAX(radius),\n  AVG(radius),\n  STDDEV(radius)\nFROM Planet WHERE kepler_name IS NULL;\n\"\"\", conn)"
    },
    {
      "cell_type": "markdown",
      "source": "# Task 5\nFind out how many planets in the `Planet` database are in a multi-planet\nsystem. Planets sharing the same star will have the same `kepler_id`, but\ndifferent `koi_name` values.\n\nYour query should return a table in which each row contains the `kepler_id`\nof the star and the number of planets orbiting that star (i.e. that share\nthis `kepler_id`).\n\nLimit your results to counts above one and order the rows in descending order\nbased on the number of planets.",
      "metadata": {
        "pycharm": {
          "metadata": false,
          "name": "#%% m"
        }
      }
    },
    {
      "cell_type": "code",
      "source": "pd.read_sql(\"\"\"\nSELECT kepler_id, COUNT(koi_name)\n  FROM Planet\n  GROUP BY kepler_id\n  HAVING COUNT(koi_name) \u003e 1\n  ORDER BY COUNT(koi_name) DESC;\n\"\"\", conn)",
      "metadata": {
        "pycharm": {
          "metadata": false,
          "name": "#%% cod"
        }
      },
      "execution_count": null,
      "outputs": []
    },
    {
      "cell_type": "markdown",
      "metadata": {
        "pycharm": {
          "metadata": false,
          "name": "#%% m"
        }
      },
      "source": "# Tear down"
    },
    {
      "cell_type": "code",
      "execution_count": 75,
      "metadata": {
        "pycharm": {
          "metadata": false,
          "name": "#%% cod"
        }
      },
      "outputs": [],
      "source": [
        "cur.close()\n",
        "conn.close()"
      ]
    }
  ],
  "metadata": {
    "kernelspec": {
      "display_name": "Python 3",
      "language": "python",
      "name": "python3"
    },
    "language_info": {
      "codemirror_mode": {
        "name": "ipython",
        "version": 3
      },
      "file_extension": ".py",
      "mimetype": "text/x-python",
      "name": "python",
      "nbconvert_exporter": "python",
      "pygments_lexer": "ipython3",
      "version": "3.7.0"
    }
  },
  "nbformat": 4,
  "nbformat_minor": 1
}