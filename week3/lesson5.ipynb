{
  "cells": [
    {
      "cell_type": "code",
      "execution_count": 35,
      "metadata": {},
      "outputs": [],
      "source": [
        "import psycopg2\n",
        "import pandas as pd"
      ]
    },
    {
      "cell_type": "markdown",
      "metadata": {
        "pycharm": {
          "metadata": false
        }
      },
      "source": [
        "# Prepare the Data\n",
        "\n",
        "Run `docker-compose up` to get Postgres up and running."
      ]
    },
    {
      "cell_type": "code",
      "execution_count": 36,
      "metadata": {
        "pycharm": {
          "metadata": false
        }
      },
      "outputs": [],
      "source": [
        "credentials \u003d \"dbname\u003d\u0027astronomy\u0027 user\u003d\u0027user\u0027 host\u003d\u0027localhost\u0027 password\u003d\u0027pass\u0027\"\n",
        "conn \u003d psycopg2.connect(credentials)\n",
        "cur \u003d conn.cursor()\n",
        "\n",
        "cur.execute(\"\"\"\n",
        "DROP TABLE IF EXISTS Planet;\n",
        "DROP TABLE IF EXISTS Star;\n",
        "\n",
        "CREATE TABLE Star (\n",
        "  kepler_id INTEGER NOT NULL,\n",
        "  t_eff INTEGER NOT NULL,\n",
        "  radius FLOAT NOT NULL,\n",
        "  PRIMARY KEY (kepler_id)\n",
        ");\n",
        "\n",
        "CREATE TABLE Planet (\n",
        "  kepler_id INTEGER NOT NULL REFERENCES Star(Kepler_ID),\n",
        "  koi_name VARCHAR(20) NOT NULL,\n",
        "  kepler_name VARCHAR(20),\n",
        "  status VARCHAR(20) NOT NULL,\n",
        "  period FLOAT NOT NULL,\n",
        "  radius FLOAT NOT NULL,\n",
        "  t_eq INTEGER NOT NULL,\n",
        "  PRIMARY KEY (koi_name)\n",
        ");\n",
        "\n",
        "\n",
        "COPY Star (kepler_id, t_eff, radius)\n",
        "  FROM \u0027/data/data3/stars.csv\u0027 CSV;\n",
        "\n",
        "COPY Planet (kepler_id, koi_name, kepler_name, status, period, radius, t_eq)\n",
        "  FROM \u0027/data/data3/planets.csv\u0027 CSV;\n",
        "\"\"\")\n",
        "conn.commit()"
      ]
    },
    {
      "cell_type": "markdown",
      "metadata": {
        "pycharm": {
          "metadata": false
        }
      },
      "source": [
        "# Task 1\n",
        "Write a query that returns the radius of each star and planet pair whose radii\n",
        "have a ratio greater than the Sun-to-Earth radius ratio. Order the results in\n",
        "descending order based on the stellar radii. Use `sun_radius` and\n",
        "`planet_radius` as attribute aliases for the star and planet radii.\n",
        "\n",
        "For this problem you will have to join the two tables to find all planets\n",
        "belonging to a given star and use a condition to select those results which\n",
        "fulfill the size requirement above."
      ]
    },
    {
      "cell_type": "code",
      "execution_count": 37,
      "metadata": {
        "pycharm": {
          "metadata": false,
          "name": "#%% cod"
        }
      },
      "outputs": [
        {
          "data": {
            "text/html": [
              "\u003cdiv\u003e\n",
              "\u003cstyle scoped\u003e\n",
              "    .dataframe tbody tr th:only-of-type {\n",
              "        vertical-align: middle;\n",
              "    }\n",
              "\n",
              "    .dataframe tbody tr th {\n",
              "        vertical-align: top;\n",
              "    }\n",
              "\n",
              "    .dataframe thead th {\n",
              "        text-align: right;\n",
              "    }\n",
              "\u003c/style\u003e\n",
              "\u003ctable border\u003d\"1\" class\u003d\"dataframe\"\u003e\n",
              "  \u003cthead\u003e\n",
              "    \u003ctr style\u003d\"text-align: right;\"\u003e\n",
              "      \u003cth\u003e\u003c/th\u003e\n",
              "      \u003cth\u003esun_radius\u003c/th\u003e\n",
              "      \u003cth\u003eplanet_radius\u003c/th\u003e\n",
              "    \u003c/tr\u003e\n",
              "  \u003c/thead\u003e\n",
              "  \u003ctbody\u003e\n",
              "    \u003ctr\u003e\n",
              "      \u003cth\u003e0\u003c/th\u003e\n",
              "      \u003ctd\u003e1.332\u003c/td\u003e\n",
              "      \u003ctd\u003e0.65\u003c/td\u003e\n",
              "    \u003c/tr\u003e\n",
              "    \u003ctr\u003e\n",
              "      \u003cth\u003e1\u003c/th\u003e\n",
              "      \u003ctd\u003e1.029\u003c/td\u003e\n",
              "      \u003ctd\u003e0.85\u003c/td\u003e\n",
              "    \u003c/tr\u003e\n",
              "    \u003ctr\u003e\n",
              "      \u003cth\u003e2\u003c/th\u003e\n",
              "      \u003ctd\u003e1.029\u003c/td\u003e\n",
              "      \u003ctd\u003e0.99\u003c/td\u003e\n",
              "    \u003c/tr\u003e\n",
              "    \u003ctr\u003e\n",
              "      \u003cth\u003e3\u003c/th\u003e\n",
              "      \u003ctd\u003e0.755\u003c/td\u003e\n",
              "      \u003ctd\u003e0.58\u003c/td\u003e\n",
              "    \u003c/tr\u003e\n",
              "    \u003ctr\u003e\n",
              "      \u003cth\u003e4\u003c/th\u003e\n",
              "      \u003ctd\u003e0.755\u003c/td\u003e\n",
              "      \u003ctd\u003e0.49\u003c/td\u003e\n",
              "    \u003c/tr\u003e\n",
              "  \u003c/tbody\u003e\n",
              "\u003c/table\u003e\n",
              "\u003c/div\u003e"
            ],
            "text/plain": [
              "   sun_radius  planet_radius\n",
              "0       1.332           0.65\n",
              "1       1.029           0.85\n",
              "2       1.029           0.99\n",
              "3       0.755           0.58\n",
              "4       0.755           0.49"
            ]
          },
          "execution_count": 37,
          "metadata": {},
          "output_type": "execute_result"
        }
      ],
      "source": [
        "pd.read_sql(\"\"\"\n",
        "SELECT\n",
        "  Star.radius AS sun_radius,\n",
        "  Planet.radius AS planet_radius\n",
        "FROM Star, Planet\n",
        "WHERE\n",
        "  Star.kepler_id \u003d Planet.kepler_id AND\n",
        "  Star.radius \u003e Planet.radius\n",
        "ORDER BY Star.radius DESC;\n",
        "\"\"\", conn)"
      ]
    },
    {
      "cell_type": "markdown",
      "metadata": {
        "pycharm": {
          "metadata": false,
          "name": "#%% m"
        }
      },
      "source": [
        "# Task 2\n",
        "Write a query which counts the number of planets in each solar system where\n",
        "the corresponding stars are larger than our sun (i.e. their radius is larger\n",
        "than 1).\n",
        "\n",
        "Your query should return the star\u0027s radius and its number of planets, showing\n",
        "only rows where the number of planets is more than one. Sort the rows in\n",
        "descending order based on the star radii."
      ]
    },
    {
      "cell_type": "code",
      "execution_count": 38,
      "metadata": {
        "pycharm": {
          "metadata": false,
          "name": "#%% cod"
        }
      },
      "outputs": [
        {
          "data": {
            "text/html": [
              "\u003cdiv\u003e\n",
              "\u003cstyle scoped\u003e\n",
              "    .dataframe tbody tr th:only-of-type {\n",
              "        vertical-align: middle;\n",
              "    }\n",
              "\n",
              "    .dataframe tbody tr th {\n",
              "        vertical-align: top;\n",
              "    }\n",
              "\n",
              "    .dataframe thead th {\n",
              "        text-align: right;\n",
              "    }\n",
              "\u003c/style\u003e\n",
              "\u003ctable border\u003d\"1\" class\u003d\"dataframe\"\u003e\n",
              "  \u003cthead\u003e\n",
              "    \u003ctr style\u003d\"text-align: right;\"\u003e\n",
              "      \u003cth\u003e\u003c/th\u003e\n",
              "      \u003cth\u003eradius\u003c/th\u003e\n",
              "      \u003cth\u003ecount\u003c/th\u003e\n",
              "    \u003c/tr\u003e\n",
              "  \u003c/thead\u003e\n",
              "  \u003ctbody\u003e\n",
              "    \u003ctr\u003e\n",
              "      \u003cth\u003e0\u003c/th\u003e\n",
              "      \u003ctd\u003e1.332\u003c/td\u003e\n",
              "      \u003ctd\u003e3\u003c/td\u003e\n",
              "    \u003c/tr\u003e\n",
              "    \u003ctr\u003e\n",
              "      \u003cth\u003e1\u003c/th\u003e\n",
              "      \u003ctd\u003e1.064\u003c/td\u003e\n",
              "      \u003ctd\u003e2\u003c/td\u003e\n",
              "    \u003c/tr\u003e\n",
              "    \u003ctr\u003e\n",
              "      \u003cth\u003e2\u003c/th\u003e\n",
              "      \u003ctd\u003e1.040\u003c/td\u003e\n",
              "      \u003ctd\u003e2\u003c/td\u003e\n",
              "    \u003c/tr\u003e\n",
              "    \u003ctr\u003e\n",
              "      \u003cth\u003e3\u003c/th\u003e\n",
              "      \u003ctd\u003e1.029\u003c/td\u003e\n",
              "      \u003ctd\u003e4\u003c/td\u003e\n",
              "    \u003c/tr\u003e\n",
              "  \u003c/tbody\u003e\n",
              "\u003c/table\u003e\n",
              "\u003c/div\u003e"
            ],
            "text/plain": [
              "   radius  count\n",
              "0   1.332      3\n",
              "1   1.064      2\n",
              "2   1.040      2\n",
              "3   1.029      4"
            ]
          },
          "execution_count": 38,
          "metadata": {},
          "output_type": "execute_result"
        }
      ],
      "source": [
        "pd.read_sql(\"\"\"\n",
        "SELECT Star.radius, COUNT(Planet.koi_name)\n",
        "FROM Star\n",
        "JOIN Planet USING (kepler_id)\n",
        "WHERE Star.radius \u003e 1\n",
        "GROUP BY Star.kepler_id\n",
        "HAVING COUNT(Planet.koi_name) \u003e 1\n",
        "ORDER BY Star.radius DESC;\n",
        "\"\"\", conn)"
      ]
    },
    {
      "cell_type": "markdown",
      "metadata": {
        "pycharm": {
          "metadata": false,
          "name": "#%% m"
        }
      },
      "source": [
        "# Task 3\n",
        "## Prepare Data"
      ]
    },
    {
      "cell_type": "code",
      "execution_count": 39,
      "metadata": {
        "pycharm": {
          "metadata": false,
          "name": "#%% cod"
        }
      },
      "outputs": [],
      "source": [
        "cur.execute(\"\"\"\n",
        "DROP TABLE IF EXISTS Planet;\n",
        "DROP TABLE IF EXISTS Star;\n",
        "\n",
        "CREATE TABLE Star (\n",
        "  Kepler_ID INTEGER NOT NULL,\n",
        "  T_eff INTEGER NOT NULL,\n",
        "  Radius FLOAT NOT NULL,\n",
        "  PRIMARY KEY (Kepler_ID)\n",
        ");\n",
        "\n",
        "CREATE TABLE Planet (\n",
        "  Kepler_ID INTEGER NOT NULL,\n",
        "  KOI_name VARCHAR(20) NOT NULL,\n",
        "  Kepler_name VARCHAR(20),\n",
        "  Status VARCHAR(20) NOT NULL,\n",
        "  Period FLOAT,\n",
        "  Radius FLOAT,\n",
        "  T_eq INTEGER,\n",
        "  PRIMARY KEY (KOI_name)\n",
        ");\n",
        "\n",
        "INSERT INTO Star VALUES(2713049,5996,0.956);\n",
        "INSERT INTO Star VALUES(3114167,5666,0.677);\n",
        "INSERT INTO Star VALUES(3246984,5735,0.973);\n",
        "INSERT INTO Star VALUES(3351888,5717,1.057);\n",
        "INSERT INTO Star VALUES(3641726,5349,0.82);\n",
        "INSERT INTO Star VALUES(3832474,5485,0.867);\n",
        "INSERT INTO Star VALUES(3935914,5934,0.893);\n",
        "INSERT INTO Star VALUES(3940418,5170,0.807);\n",
        "INSERT INTO Star VALUES(4139816,3887,0.48);\n",
        "INSERT INTO Star VALUES(4275191,5557,0.781);\n",
        "INSERT INTO Star VALUES(4476123,5413,0.751);\n",
        "INSERT INTO Star VALUES(5358241,6079,0.945);\n",
        "INSERT INTO Star VALUES(5358624,5071,0.788);\n",
        "INSERT INTO Star VALUES(5456651,4980,0.734);\n",
        "INSERT INTO Star VALUES(6862328,5796,0.871);\n",
        "INSERT INTO Star VALUES(6922244,6225,1.451);\n",
        "INSERT INTO Star VALUES(8395660,5881,1.029);\n",
        "INSERT INTO Star VALUES(9579641,6391,1.332);\n",
        "INSERT INTO Star VALUES(10187017,4812,0.755);\n",
        "INSERT INTO Star VALUES(10480982,6117,0.947);\n",
        "INSERT INTO Star VALUES(10583066,4536,0.693);\n",
        "INSERT INTO Star VALUES(10601284,5559,0.806);\n",
        "INSERT INTO Star VALUES(10666592,6350,1.991);\n",
        "INSERT INTO Star VALUES(10682541,5339,0.847);\n",
        "INSERT INTO Star VALUES(10797460,5850,1.04);\n",
        "INSERT INTO Star VALUES(10811496,5853,0.868);\n",
        "INSERT INTO Star VALUES(10848459,5795,0.803);\n",
        "INSERT INTO Star VALUES(10854555,6031,1.046);\n",
        "INSERT INTO Star VALUES(10872983,6046,0.972);\n",
        "INSERT INTO Star VALUES(10910878,5126,0.742);\n",
        "INSERT INTO Star VALUES(10984090,5803,1.073);\n",
        "INSERT INTO Star VALUES(10987985,5015,0.826);\n",
        "INSERT INTO Star VALUES(11018648,5588,0.796);\n",
        "INSERT INTO Star VALUES(11138155,6117,1.025);\n",
        "INSERT INTO Star VALUES(11153539,6075,0.969);\n",
        "INSERT INTO Star VALUES(11304958,5468,1.046);\n",
        "INSERT INTO Star VALUES(11391957,5592,0.782);\n",
        "INSERT INTO Star VALUES(11403044,6174,1.103);\n",
        "INSERT INTO Star VALUES(11414511,5653,0.965);\n",
        "INSERT INTO Star VALUES(11493732,6144,1.091);\n",
        "INSERT INTO Star VALUES(11507101,5957,0.971);\n",
        "INSERT INTO Star VALUES(11754553,3898,0.54);\n",
        "INSERT INTO Star VALUES(11812062,5492,0.812);\n",
        "INSERT INTO Star VALUES(11818800,5446,0.781);\n",
        "INSERT INTO Star VALUES(11853255,3741,0.45);\n",
        "INSERT INTO Star VALUES(11904151,5627,1.056);\n",
        "INSERT INTO Star VALUES(11918099,4989,0.727);\n",
        "INSERT INTO Star VALUES(11923270,3672,0.49);\n",
        "INSERT INTO Star VALUES(11960862,5992,0.989);\n",
        "INSERT INTO Star VALUES(12070811,5557,0.752);\n",
        "INSERT INTO Star VALUES(12110942,5880,0.917);\n",
        "INSERT INTO Star VALUES(12366084,5841,0.931);\n",
        "INSERT INTO Star VALUES(12470844,5354,0.788);\n",
        "INSERT INTO Star VALUES(12644822,5795,0.919);\n",
        "\n",
        "INSERT INTO Planet VALUES(10666592,\u0027K00002.01\u0027,\u0027Kepler-2b\u0027,\u0027CONFIRMED\u0027,2.204735365,16.39,2025);\n",
        "INSERT INTO Planet VALUES(11904151,\u0027K00072.01\u0027,\u0027Kepler-10b\u0027,\u0027CONFIRMED\u0027,0.837491331,1.45,1968);\n",
        "INSERT INTO Planet VALUES(10187017,\u0027K00082.04\u0027,\u0027Kepler-102c\u0027,\u0027CONFIRMED\u0027,7.07136076,0.58,723);\n",
        "INSERT INTO Planet VALUES(10187017,\u0027K00082.05\u0027,\u0027Kepler-102b\u0027,\u0027CONFIRMED\u0027,5.28695437,0.49,797);\n",
        "INSERT INTO Planet VALUES(10984090,\u0027K00112.02\u0027,\u0027Kepler-466c\u0027,\u0027CONFIRMED\u0027,3.709213846,1.24,1236);\n",
        "INSERT INTO Planet VALUES(9579641,\u0027K00115.01\u0027,\u0027Kepler-105b\u0027,\u0027CONFIRMED\u0027,5.41220713,3.28,1306);\n",
        "INSERT INTO Planet VALUES(9579641,\u0027K00115.02\u0027,\u0027Kepler-105c\u0027,\u0027CONFIRMED\u0027,7.12594591,1.88,1191);\n",
        "INSERT INTO Planet VALUES(9579641,\u0027K00115.03\u0027,NULL,\u0027CANDIDATE\u0027,3.4358789,0.65,1519);\n",
        "INSERT INTO Planet VALUES(8395660,\u0027K00116.01\u0027,\u0027Kepler-106c\u0027,\u0027CONFIRMED\u0027,13.57076622,2.35,796);\n",
        "INSERT INTO Planet VALUES(8395660,\u0027K00116.02\u0027,\u0027Kepler-106e\u0027,\u0027CONFIRMED\u0027,43.84444353,2.58,538);\n",
        "INSERT INTO Planet VALUES(8395660,\u0027K00116.03\u0027,\u0027Kepler-106b\u0027,\u0027CONFIRMED\u0027,6.16491696,0.85,1035);\n",
        "INSERT INTO Planet VALUES(8395660,\u0027K00116.04\u0027,\u0027Kepler-106d\u0027,\u0027CONFIRMED\u0027,23.9802348,0.99,658);\n",
        "INSERT INTO Planet VALUES(10601284,\u0027K00749.03\u0027,\u0027Kepler-226d\u0027,\u0027CONFIRMED\u0027,8.10904671,1.19,799);\n",
        "INSERT INTO Planet VALUES(10662202,\u0027K00750.01\u0027,\u0027Kepler-662b\u0027,\u0027CONFIRMED\u0027,21.67697486,1.54,430);\n",
        "INSERT INTO Planet VALUES(10682541,\u0027K00751.01\u0027,\u0027Kepler-663b\u0027,\u0027CONFIRMED\u0027,4.99678284,2.7,917);\n",
        "INSERT INTO Planet VALUES(10811496,\u0027K00753.01\u0027,NULL,\u0027CANDIDATE\u0027,19.899139805,3462.25,639);\n",
        "INSERT INTO Planet VALUES(10848459,\u0027K00754.01\u0027,NULL,\u0027CANDIDATE\u0027,1.736952479,34.04,1404);\n",
        "INSERT INTO Planet VALUES(10854555,\u0027K00755.01\u0027,\u0027Kepler-664b\u0027,\u0027CONFIRMED\u0027,2.525593315,2.71,1407);\n",
        "INSERT INTO Planet VALUES(10872983,\u0027K00756.01\u0027,\u0027Kepler-228d\u0027,\u0027CONFIRMED\u0027,11.09431923,4.02,835);\n",
        "INSERT INTO Planet VALUES(10872983,\u0027K00756.02\u0027,\u0027Kepler-228c\u0027,\u0027CONFIRMED\u0027,4.13443005,3.02,1160);\n",
        "INSERT INTO Planet VALUES(10872983,\u0027K00756.03\u0027,\u0027Kepler-228b\u0027,\u0027CONFIRMED\u0027,2.56659092,1.56,1360);\n",
        "INSERT INTO Planet VALUES(10910878,\u0027K00757.01\u0027,\u0027Kepler-229c\u0027,\u0027CONFIRMED\u0027,16.06862959,5.27,571);\n",
        "INSERT INTO Planet VALUES(10910878,\u0027K00757.02\u0027,\u0027Kepler-229d\u0027,\u0027CONFIRMED\u0027,41.1970874,3.62,417);\n",
        "INSERT INTO Planet VALUES(10910878,\u0027K00757.03\u0027,\u0027Kepler-229b\u0027,\u0027CONFIRMED\u0027,6.252964898,2.41,782);\n",
        "INSERT INTO Planet VALUES(10987985,\u0027K00758.01\u0027,\u0027Kepler-665b\u0027,\u0027CONFIRMED\u0027,16.01310205,2.86,593);\n",
        "INSERT INTO Planet VALUES(11018648,\u0027K00759.01\u0027,\u0027Kepler-230b\u0027,\u0027CONFIRMED\u0027,32.62882975,3791.05,506);\n",
        "INSERT INTO Planet VALUES(11018648,\u0027K00759.02\u0027,\u0027Kepler-230c\u0027,\u0027CONFIRMED\u0027,91.77221,2.13,358);\n",
        "INSERT INTO Planet VALUES(11138155,\u0027K00760.01\u0027,NULL,\u0027CANDIDATE\u0027,4.959319451,11.88,1128);\n",
        "INSERT INTO Planet VALUES(11153539,\u0027K00762.01\u0027,\u0027Kepler-666b\u0027,\u0027CONFIRMED\u0027,4.49876092,2.21,1133);\n",
        "INSERT INTO Planet VALUES(11304958,\u0027K00764.01\u0027,\u0027Kepler-667b\u0027,\u0027CONFIRMED\u0027,41.43962808,5.73,516);\n",
        "INSERT INTO Planet VALUES(11391957,\u0027K00765.01\u0027,\u0027Kepler-668b\u0027,\u0027CONFIRMED\u0027,8.35390639,2.54,789);\n",
        "INSERT INTO Planet VALUES(11403044,\u0027K00766.01\u0027,\u0027Kepler-669b\u0027,\u0027CONFIRMED\u0027,4.125546869,4.46,1244);\n",
        "INSERT INTO Planet VALUES(11460018,\u0027K00769.01\u0027,\u0027Kepler-671b\u0027,\u0027CONFIRMED\u0027,4.280958588,2.33,1014);\n",
        "INSERT INTO Planet VALUES(11465813,\u0027K00771.01\u0027,NULL,\u0027CANDIDATE\u0027,670.645246,14.41,196);\n",
        "INSERT INTO Planet VALUES(11493732,\u0027K00772.01\u0027,NULL,\u0027CANDIDATE\u0027,61.2563443,64.23,505);\n",
        "INSERT INTO Planet VALUES(11507101,\u0027K00773.01\u0027,\u0027Kepler-672b\u0027,\u0027CONFIRMED\u0027,38.3774623,2.7,541);\n",
        "INSERT INTO Planet VALUES(11754553,\u0027K00775.01\u0027,\u0027Kepler-52c\u0027,\u0027CONFIRMED\u0027,16.38485646,1.81,392);\n",
        "INSERT INTO Planet VALUES(11754553,\u0027K00775.02\u0027,\u0027Kepler-52b\u0027,\u0027CONFIRMED\u0027,7.87740709,2.33,500);\n",
        "INSERT INTO Planet VALUES(11754553,\u0027K00775.03\u0027,\u0027Kepler-52d\u0027,\u0027CONFIRMED\u0027,36.4451982,1.8,300);\n",
        "INSERT INTO Planet VALUES(11812062,\u0027K00776.01\u0027,\u0027Kepler-673b\u0027,\u0027CONFIRMED\u0027,3.728731093,6.27,1022);\n",
        "INSERT INTO Planet VALUES(11818800,\u0027K00777.01\u0027,NULL,\u0027CANDIDATE\u0027,40.41958501,8.02,468);\n",
        "INSERT INTO Planet VALUES(11853255,\u0027K00778.01\u0027,\u0027Kepler-674b\u0027,\u0027CONFIRMED\u0027,2.243381847,1.32,685);\n",
        "INSERT INTO Planet VALUES(11918099,\u0027K00780.01\u0027,\u0027Kepler-675b\u0027,\u0027CONFIRMED\u0027,2.33743801,2.38,1054);\n",
        "INSERT INTO Planet VALUES(11918099,\u0027K00780.02\u0027,NULL,\u0027CANDIDATE\u0027,7.2406514,5.32,723);\n",
        "INSERT INTO Planet VALUES(11923270,\u0027K00781.01\u0027,\u0027Kepler-676b\u0027,\u0027CONFIRMED\u0027,11.59822172,3.07,400);\n",
        "INSERT INTO Planet VALUES(11960862,\u0027K00782.01\u0027,\u0027Kepler-677b\u0027,\u0027CONFIRMED\u0027,6.57531678,5.38,1015);\n",
        "INSERT INTO Planet VALUES(12020329,\u0027K00783.01\u0027,\u0027Kepler-678b\u0027,\u0027CONFIRMED\u0027,7.27503724,4.91,833);\n",
        "INSERT INTO Planet VALUES(12066335,\u0027K00784.01\u0027,\u0027Kepler-231c\u0027,\u0027CONFIRMED\u0027,19.2715468,1.73,343);\n",
        "INSERT INTO Planet VALUES(12066335,\u0027K00784.02\u0027,\u0027Kepler-231b\u0027,\u0027CONFIRMED\u0027,10.06525843,1.61,426);\n",
        "INSERT INTO Planet VALUES(12070811,\u0027K00785.01\u0027,\u0027Kepler-679b\u0027,\u0027CONFIRMED\u0027,12.39358604,2.69,680);\n",
        "INSERT INTO Planet VALUES(12110942,\u0027K00786.01\u0027,\u0027Kepler-680b\u0027,\u0027CONFIRMED\u0027,3.689926291,1.96,1147);\n",
        "INSERT INTO Planet VALUES(12366084,\u0027K00787.01\u0027,\u0027Kepler-232b\u0027,\u0027CONFIRMED\u0027,4.431242593,3.07,1074);\n",
        "INSERT INTO Planet VALUES(12366084,\u0027K00787.02\u0027,\u0027Kepler-232c\u0027,\u0027CONFIRMED\u0027,11.37938071,3.74,784);\n",
        "INSERT INTO Planet VALUES(12404086,\u0027K00788.01\u0027,\u0027Kepler-681b\u0027,\u0027CONFIRMED\u0027,26.39435646,3.16,491);\n",
        "INSERT INTO Planet VALUES(12470844,\u0027K00790.01\u0027,\u0027Kepler-233b\u0027,\u0027CONFIRMED\u0027,8.47237844,2.71,752);\n",
        "INSERT INTO Planet VALUES(12470844,\u0027K00790.02\u0027,\u0027Kepler-233c\u0027,\u0027CONFIRMED\u0027,60.4186137,2.72,390);\n",
        "INSERT INTO Planet VALUES(12644822,\u0027K00791.01\u0027,\u0027Kepler-682b\u0027,\u0027CONFIRMED\u0027,12.611906672,7.66,753);\n",
        "INSERT INTO Planet VALUES(4049131,\u0027K00811.01\u0027,\u0027Kepler-687b\u0027,\u0027CONFIRMED\u0027,20.50586978,3.62,518);\n",
        "INSERT INTO Planet VALUES(4139816,\u0027K00812.01\u0027,\u0027Kepler-235b\u0027,\u0027CONFIRMED\u0027,3.34021995,2.18,635);\n",
        "INSERT INTO Planet VALUES(4139816,\u0027K00812.02\u0027,\u0027Kepler-235d\u0027,\u0027CONFIRMED\u0027,20.06037454,1.99,350);\n",
        "INSERT INTO Planet VALUES(4139816,\u0027K00812.03\u0027,\u0027Kepler-235e\u0027,\u0027CONFIRMED\u0027,46.18415,1.94,265);\n",
        "INSERT INTO Planet VALUES(4139816,\u0027K00812.04\u0027,\u0027Kepler-235c\u0027,\u0027CONFIRMED\u0027,7.82501206,1.22,478);\n",
        "INSERT INTO Planet VALUES(4476123,\u0027K00814.01\u0027,\u0027Kepler-689b\u0027,\u0027CONFIRMED\u0027,22.36656079,2.45,544);\n",
        "INSERT INTO Planet VALUES(5358241,\u0027K00829.01\u0027,\u0027Kepler-53b\u0027,\u0027CONFIRMED\u0027,18.64929678,2.9,700);\n",
        "INSERT INTO Planet VALUES(5358241,\u0027K00829.02\u0027,\u0027Kepler-53d\u0027,\u0027CONFIRMED\u0027,9.75193182,2.44,869);\n",
        "INSERT INTO Planet VALUES(5358241,\u0027K00829.03\u0027,\u0027Kepler-53c\u0027,\u0027CONFIRMED\u0027,38.5575914,3.57,550);\n",
        "INSERT INTO Planet VALUES(5358624,\u0027K00830.01\u0027,\u0027Kepler-428b\u0027,\u0027CONFIRMED\u0027,3.525632561,11.87,955);\n",
        "INSERT INTO Planet VALUES(5456651,\u0027K00835.01\u0027,\u0027Kepler-239b\u0027,\u0027CONFIRMED\u0027,11.76305946,2.36,614);\n",
        "INSERT INTO Planet VALUES(5456651,\u0027K00835.02\u0027,\u0027Kepler-239c\u0027,\u0027CONFIRMED\u0027,56.2279697,2.19,365);\n",
        "INSERT INTO Planet VALUES(10875245,\u0027K00117.02\u0027,\u0027Kepler-107c\u0027,\u0027CONFIRMED\u0027,4.90143807,1.84,1263);\n",
        "INSERT INTO Planet VALUES(10526549,\u0027K00746.01\u0027,\u0027Kepler-660b\u0027,\u0027CONFIRMED\u0027,9.27358194,2.52,649);\n",
        "INSERT INTO Planet VALUES(10583066,\u0027K00747.01\u0027,\u0027Kepler-661b\u0027,\u0027CONFIRMED\u0027,6.029301321,3.14,685);\n",
        "INSERT INTO Planet VALUES(10601284,\u0027K00749.01\u0027,\u0027Kepler-226c\u0027,\u0027CONFIRMED\u0027,5.34955671,2.7,918);\n",
        "INSERT INTO Planet VALUES(10601284,\u0027K00749.02\u0027,\u0027Kepler-226b\u0027,\u0027CONFIRMED\u0027,3.94104632,1.59,1017);\n",
        "INSERT INTO Planet VALUES(2713049,\u0027K00794.01\u0027,\u0027Kepler-683b\u0027,\u0027CONFIRMED\u0027,2.539183179,1.97,1348);\n",
        "INSERT INTO Planet VALUES(3342970,\u0027K00800.01\u0027,\u0027Kepler-234b\u0027,\u0027CONFIRMED\u0027,2.711502579,3.62,1405);\n",
        "INSERT INTO Planet VALUES(3342970,\u0027K00800.02\u0027,\u0027Kepler-234c\u0027,\u0027CONFIRMED\u0027,7.21204152,3.51,1015);\n",
        "INSERT INTO Planet VALUES(3351888,\u0027K00801.01\u0027,\u0027Kepler-685b\u0027,\u0027CONFIRMED\u0027,1.6255222,9.74,1572);\n",
        "INSERT INTO Planet VALUES(3453214,\u0027K00802.01\u0027,NULL,\u0027CANDIDATE\u0027,19.620347388,12.0,605);\n",
        "INSERT INTO Planet VALUES(3641726,\u0027K00804.01\u0027,NULL,\u0027CANDIDATE\u0027,9.0293089,2.72,757);\n",
        "INSERT INTO Planet VALUES(3935914,\u0027K00809.01\u0027,\u0027Kepler-686b\u0027,\u0027CONFIRMED\u0027,1.594745463,11.77,1540);\n",
        "INSERT INTO Planet VALUES(3940418,\u0027K00810.01\u0027,NULL,\u0027CANDIDATE\u0027,4.78300451,2.76,886);\n",
        "\"\"\")\n",
        "conn.commit()"
      ]
    },
    {
      "cell_type": "markdown",
      "metadata": {
        "pycharm": {
          "metadata": false,
          "name": "#%% m"
        }
      },
      "source": [
        "## Solution\n",
        "To practise your outer joins, write a query which returns the `kepler_id`,\n",
        "`t_eff` and `radius` for all stars in the `Star` table which haven\u0027t got a\n",
        "planet as join partner. Order the resulting table based on the `t_eff`\n",
        "attribute in descending order."
      ]
    },
    {
      "cell_type": "code",
      "execution_count": 40,
      "metadata": {
        "pycharm": {
          "metadata": false,
          "name": "#%% cod"
        }
      },
      "outputs": [
        {
          "data": {
            "text/html": [
              "\u003cdiv\u003e\n",
              "\u003cstyle scoped\u003e\n",
              "    .dataframe tbody tr th:only-of-type {\n",
              "        vertical-align: middle;\n",
              "    }\n",
              "\n",
              "    .dataframe tbody tr th {\n",
              "        vertical-align: top;\n",
              "    }\n",
              "\n",
              "    .dataframe thead th {\n",
              "        text-align: right;\n",
              "    }\n",
              "\u003c/style\u003e\n",
              "\u003ctable border\u003d\"1\" class\u003d\"dataframe\"\u003e\n",
              "  \u003cthead\u003e\n",
              "    \u003ctr style\u003d\"text-align: right;\"\u003e\n",
              "      \u003cth\u003e\u003c/th\u003e\n",
              "      \u003cth\u003ekepler_id\u003c/th\u003e\n",
              "      \u003cth\u003et_eff\u003c/th\u003e\n",
              "      \u003cth\u003eradius\u003c/th\u003e\n",
              "    \u003c/tr\u003e\n",
              "  \u003c/thead\u003e\n",
              "  \u003ctbody\u003e\n",
              "    \u003ctr\u003e\n",
              "      \u003cth\u003e0\u003c/th\u003e\n",
              "      \u003ctd\u003e6922244\u003c/td\u003e\n",
              "      \u003ctd\u003e6225\u003c/td\u003e\n",
              "      \u003ctd\u003e1.451\u003c/td\u003e\n",
              "    \u003c/tr\u003e\n",
              "    \u003ctr\u003e\n",
              "      \u003cth\u003e1\u003c/th\u003e\n",
              "      \u003ctd\u003e10480982\u003c/td\u003e\n",
              "      \u003ctd\u003e6117\u003c/td\u003e\n",
              "      \u003ctd\u003e0.947\u003c/td\u003e\n",
              "    \u003c/tr\u003e\n",
              "    \u003ctr\u003e\n",
              "      \u003cth\u003e2\u003c/th\u003e\n",
              "      \u003ctd\u003e10797460\u003c/td\u003e\n",
              "      \u003ctd\u003e5850\u003c/td\u003e\n",
              "      \u003ctd\u003e1.040\u003c/td\u003e\n",
              "    \u003c/tr\u003e\n",
              "    \u003ctr\u003e\n",
              "      \u003cth\u003e3\u003c/th\u003e\n",
              "      \u003ctd\u003e6862328\u003c/td\u003e\n",
              "      \u003ctd\u003e5796\u003c/td\u003e\n",
              "      \u003ctd\u003e0.871\u003c/td\u003e\n",
              "    \u003c/tr\u003e\n",
              "    \u003ctr\u003e\n",
              "      \u003cth\u003e4\u003c/th\u003e\n",
              "      \u003ctd\u003e3246984\u003c/td\u003e\n",
              "      \u003ctd\u003e5735\u003c/td\u003e\n",
              "      \u003ctd\u003e0.973\u003c/td\u003e\n",
              "    \u003c/tr\u003e\n",
              "    \u003ctr\u003e\n",
              "      \u003cth\u003e5\u003c/th\u003e\n",
              "      \u003ctd\u003e3114167\u003c/td\u003e\n",
              "      \u003ctd\u003e5666\u003c/td\u003e\n",
              "      \u003ctd\u003e0.677\u003c/td\u003e\n",
              "    \u003c/tr\u003e\n",
              "    \u003ctr\u003e\n",
              "      \u003cth\u003e6\u003c/th\u003e\n",
              "      \u003ctd\u003e11414511\u003c/td\u003e\n",
              "      \u003ctd\u003e5653\u003c/td\u003e\n",
              "      \u003ctd\u003e0.965\u003c/td\u003e\n",
              "    \u003c/tr\u003e\n",
              "    \u003ctr\u003e\n",
              "      \u003cth\u003e7\u003c/th\u003e\n",
              "      \u003ctd\u003e4275191\u003c/td\u003e\n",
              "      \u003ctd\u003e5557\u003c/td\u003e\n",
              "      \u003ctd\u003e0.781\u003c/td\u003e\n",
              "    \u003c/tr\u003e\n",
              "    \u003ctr\u003e\n",
              "      \u003cth\u003e8\u003c/th\u003e\n",
              "      \u003ctd\u003e3832474\u003c/td\u003e\n",
              "      \u003ctd\u003e5485\u003c/td\u003e\n",
              "      \u003ctd\u003e0.867\u003c/td\u003e\n",
              "    \u003c/tr\u003e\n",
              "  \u003c/tbody\u003e\n",
              "\u003c/table\u003e\n",
              "\u003c/div\u003e"
            ],
            "text/plain": [
              "   kepler_id  t_eff  radius\n",
              "0    6922244   6225   1.451\n",
              "1   10480982   6117   0.947\n",
              "2   10797460   5850   1.040\n",
              "3    6862328   5796   0.871\n",
              "4    3246984   5735   0.973\n",
              "5    3114167   5666   0.677\n",
              "6   11414511   5653   0.965\n",
              "7    4275191   5557   0.781\n",
              "8    3832474   5485   0.867"
            ]
          },
          "execution_count": 40,
          "metadata": {},
          "output_type": "execute_result"
        }
      ],
      "source": [
        "pd.read_sql(\"\"\"\n",
        "SELECT Star.kepler_id, Star.t_eff, Star.radius\n",
        "FROM Star\n",
        "LEFT OUTER JOIN Planet USING (kepler_id)\n",
        "WHERE Planet.koi_name IS NULL\n",
        "ORDER BY Star.t_eff DESC;\n",
        "\"\"\", conn)"
      ]
    },
    {
      "cell_type": "markdown",
      "metadata": {
        "pycharm": {
          "metadata": false,
          "name": "#%% m"
        }
      },
      "source": [
        "# Task 4\n",
        "## Re-init the Data"
      ]
    },
    {
      "cell_type": "code",
      "execution_count": 41,
      "metadata": {
        "pycharm": {
          "metadata": false,
          "name": "#%% cod"
        }
      },
      "outputs": [],
      "source": [
        "cur.execute(\"\"\"\n",
        "DROP TABLE IF EXISTS Planet;\n",
        "DROP TABLE IF EXISTS Star;\n",
        "\n",
        "CREATE TABLE Star (\n",
        "  kepler_id INTEGER NOT NULL,\n",
        "  t_eff INTEGER NOT NULL,\n",
        "  radius FLOAT NOT NULL,\n",
        "  PRIMARY KEY (kepler_id)\n",
        ");\n",
        "\n",
        "CREATE TABLE Planet (\n",
        "  kepler_id INTEGER NOT NULL,\n",
        "  koi_name VARCHAR(20) NOT NULL,\n",
        "  kepler_name VARCHAR(20),\n",
        "  status VARCHAR(20) NOT NULL,\n",
        "  period FLOAT NOT NULL,\n",
        "  radius FLOAT NOT NULL,\n",
        "  t_eq INTEGER NOT NULL,\n",
        "  PRIMARY KEY (koi_name)\n",
        ");\n",
        "\n",
        "\n",
        "COPY Star (kepler_id, t_eff, radius)\n",
        "  FROM \u0027/data/data3/stars.csv\u0027 CSV;\n",
        "\n",
        "COPY Planet (kepler_id, koi_name, kepler_name, status, period, radius, t_eq)\n",
        "  FROM \u0027/data/data3/planets.csv\u0027 CSV;\n",
        "\"\"\")\n",
        "conn.commit()"
      ]
    },
    {
      "cell_type": "markdown",
      "metadata": {
        "pycharm": {
          "metadata": false,
          "name": "#%% m"
        }
      },
      "source": "## Solution\nWrite a query which queries both the `Star` and the `Planet` table and\ncalculates the following quantities:\n\n- the average value of the planets\u0027 equilibrium temperature `t_eq`, rounded to\n  one decimal place;\n- the minimum effective temperature `t_eff` of the stars;\n- the maximum value of `t_eff`;\n    \nYour query should only use those star-planet pairs whose stars have a higher\ntemperature (`t_eff`) than the average star temperature in the table. Try to\nuse a subquery to solve this problem!"
    },
    {
      "cell_type": "code",
      "execution_count": 42,
      "metadata": {
        "pycharm": {
          "metadata": false,
          "name": "#%% cod"
        }
      },
      "outputs": [
        {
          "data": {
            "text/html": [
              "\u003cdiv\u003e\n",
              "\u003cstyle scoped\u003e\n",
              "    .dataframe tbody tr th:only-of-type {\n",
              "        vertical-align: middle;\n",
              "    }\n",
              "\n",
              "    .dataframe tbody tr th {\n",
              "        vertical-align: top;\n",
              "    }\n",
              "\n",
              "    .dataframe thead th {\n",
              "        text-align: right;\n",
              "    }\n",
              "\u003c/style\u003e\n",
              "\u003ctable border\u003d\"1\" class\u003d\"dataframe\"\u003e\n",
              "  \u003cthead\u003e\n",
              "    \u003ctr style\u003d\"text-align: right;\"\u003e\n",
              "      \u003cth\u003e\u003c/th\u003e\n",
              "      \u003cth\u003eround\u003c/th\u003e\n",
              "      \u003cth\u003emin\u003c/th\u003e\n",
              "      \u003cth\u003emax\u003c/th\u003e\n",
              "    \u003c/tr\u003e\n",
              "  \u003c/thead\u003e\n",
              "  \u003ctbody\u003e\n",
              "    \u003ctr\u003e\n",
              "      \u003cth\u003e0\u003c/th\u003e\n",
              "      \u003ctd\u003e999.1\u003c/td\u003e\n",
              "      \u003ctd\u003e5492\u003c/td\u003e\n",
              "      \u003ctd\u003e6391\u003c/td\u003e\n",
              "    \u003c/tr\u003e\n",
              "  \u003c/tbody\u003e\n",
              "\u003c/table\u003e\n",
              "\u003c/div\u003e"
            ],
            "text/plain": [
              "   round   min   max\n",
              "0  999.1  5492  6391"
            ]
          },
          "execution_count": 42,
          "metadata": {},
          "output_type": "execute_result"
        }
      ],
      "source": "pd.read_sql(\"\"\"\nSELECT ROUND(AVG(Planet.t_eq), 1), MIN(Star.t_eff), MAX(Star.t_eff)\nFROM Star\nJOIN Planet USING (kepler_id)\nWHERE Star.t_eff \u003e (SELECT AVG(t_eff) FROM Star);\n\"\"\", conn)"
    },
    {
      "cell_type": "markdown",
      "source": "# Task 6\nWrite a query which finds the radii of those planets in the `Planet` table\nwhich orbit the five largest stars in the `Star` table.\n\nYour query should return the planet\u0027s `koi_name` and `radius` as well as the\ncorresponding star `radius`.\n\nThis problem needs a subquery (to find the largest 5 stars by radius) and\nlots of other things you\u0027ve learned this week! It can be done with, or without,\na join though.",
      "metadata": {
        "pycharm": {
          "metadata": false,
          "name": "#%% m"
        }
      }
    },
    {
      "cell_type": "code",
      "source": "pd.read_sql(\"\"\"\nSELECT\n  Planet.koi_name,\n  Planet.radius,\n  Star.radius\nFROM Star\nJOIN Planet USING (kepler_id)\nWHERE Star.kepler_id IN (\n  SELECT kepler_id\n  FROM Star\n  ORDER BY radius DESC\n  LIMIT 5\n);\n\"\"\", conn)",
      "metadata": {
        "pycharm": {
          "metadata": false,
          "name": "#%% cod"
        }
      },
      "execution_count": null,
      "outputs": []
    },
    {
      "cell_type": "markdown",
      "metadata": {
        "pycharm": {
          "metadata": false
        }
      },
      "source": "# Tear down"
    },
    {
      "cell_type": "code",
      "execution_count": 43,
      "metadata": {
        "pycharm": {
          "metadata": false
        }
      },
      "outputs": [],
      "source": [
        "cur.close()\n",
        "conn.close()"
      ]
    }
  ],
  "metadata": {
    "kernelspec": {
      "display_name": "Python 3",
      "language": "python",
      "name": "python3"
    },
    "language_info": {
      "codemirror_mode": {
        "name": "ipython",
        "version": 3
      },
      "file_extension": ".py",
      "mimetype": "text/x-python",
      "name": "python",
      "nbconvert_exporter": "python",
      "pygments_lexer": "ipython3",
      "version": "3.7.0"
    }
  },
  "nbformat": 4,
  "nbformat_minor": 1
}