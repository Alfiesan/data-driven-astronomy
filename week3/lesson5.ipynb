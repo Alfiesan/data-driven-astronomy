{
  "cells": [
    {
      "cell_type": "code",
      "execution_count": 11,
      "metadata": {},
      "outputs": [],
      "source": [
        "import psycopg2\n",
        "import pandas as pd"
      ]
    },
    {
      "cell_type": "markdown",
      "metadata": {
        "pycharm": {
          "metadata": false
        }
      },
      "source": [
        "# Prepare the Data\n",
        "\n",
        "Run `docker-compose up` to get Postgres up and running."
      ]
    },
    {
      "cell_type": "code",
      "execution_count": 12,
      "metadata": {
        "pycharm": {
          "metadata": false
        }
      },
      "outputs": [],
      "source": [
        "credentials \u003d \"dbname\u003d\u0027astronomy\u0027 user\u003d\u0027user\u0027 host\u003d\u0027localhost\u0027 password\u003d\u0027pass\u0027\"\n",
        "conn \u003d psycopg2.connect(credentials)\n",
        "cur \u003d conn.cursor()\n",
        "\n",
        "cur.execute(\"\"\"\n",
        "DROP TABLE IF EXISTS Planet;\n",
        "DROP TABLE IF EXISTS Star;\n",
        "\n",
        "CREATE TABLE Star (\n",
        "  kepler_id INTEGER NOT NULL,\n",
        "  t_eff INTEGER NOT NULL,\n",
        "  radius FLOAT NOT NULL,\n",
        "  PRIMARY KEY (kepler_id)\n",
        ");\n",
        "\n",
        "CREATE TABLE Planet (\n",
        "  kepler_id INTEGER NOT NULL REFERENCES Star(Kepler_ID),\n",
        "  koi_name VARCHAR(20) NOT NULL,\n",
        "  kepler_name VARCHAR(20),\n",
        "  status VARCHAR(20) NOT NULL,\n",
        "  period FLOAT NOT NULL,\n",
        "  radius FLOAT NOT NULL,\n",
        "  t_eq INTEGER NOT NULL,\n",
        "  PRIMARY KEY (koi_name)\n",
        ");\n",
        "\n",
        "\n",
        "COPY Star (kepler_id, t_eff, radius)\n",
        "  FROM \u0027/data/data3/stars.csv\u0027 CSV;\n",
        "\n",
        "COPY Planet (kepler_id, koi_name, kepler_name, status, period, radius, t_eq)\n",
        "  FROM \u0027/data/data3/planets.csv\u0027 CSV;\n",
        "\"\"\")\n",
        "conn.commit()"
      ]
    },
    {
      "cell_type": "markdown",
      "metadata": {
        "pycharm": {
          "metadata": false
        }
      },
      "source": [
        "# Task 1\n",
        "Write a query that returns the radius of each star and planet pair whose radii\n",
        "have a ratio greater than the Sun-to-Earth radius ratio. Order the results in\n",
        "descending order based on the stellar radii. Use `sun_radius` and\n",
        "`planet_radius` as attribute aliases for the star and planet radii.\n",
        "\n",
        "For this problem you will have to join the two tables to find all planets\n",
        "belonging to a given star and use a condition to select those results which\n",
        "fulfill the size requirement above."
      ]
    },
    {
      "cell_type": "code",
      "execution_count": 13,
      "metadata": {
        "pycharm": {
          "metadata": false,
          "name": "#%% cod"
        }
      },
      "outputs": [
        {
          "data": {
            "text/html": [
              "\u003cdiv\u003e\n",
              "\u003cstyle scoped\u003e\n",
              "    .dataframe tbody tr th:only-of-type {\n",
              "        vertical-align: middle;\n",
              "    }\n",
              "\n",
              "    .dataframe tbody tr th {\n",
              "        vertical-align: top;\n",
              "    }\n",
              "\n",
              "    .dataframe thead th {\n",
              "        text-align: right;\n",
              "    }\n",
              "\u003c/style\u003e\n",
              "\u003ctable border\u003d\"1\" class\u003d\"dataframe\"\u003e\n",
              "  \u003cthead\u003e\n",
              "    \u003ctr style\u003d\"text-align: right;\"\u003e\n",
              "      \u003cth\u003e\u003c/th\u003e\n",
              "      \u003cth\u003esun_radius\u003c/th\u003e\n",
              "      \u003cth\u003eplanet_radius\u003c/th\u003e\n",
              "    \u003c/tr\u003e\n",
              "  \u003c/thead\u003e\n",
              "  \u003ctbody\u003e\n",
              "    \u003ctr\u003e\n",
              "      \u003cth\u003e0\u003c/th\u003e\n",
              "      \u003ctd\u003e1.332\u003c/td\u003e\n",
              "      \u003ctd\u003e0.65\u003c/td\u003e\n",
              "    \u003c/tr\u003e\n",
              "    \u003ctr\u003e\n",
              "      \u003cth\u003e1\u003c/th\u003e\n",
              "      \u003ctd\u003e1.029\u003c/td\u003e\n",
              "      \u003ctd\u003e0.85\u003c/td\u003e\n",
              "    \u003c/tr\u003e\n",
              "    \u003ctr\u003e\n",
              "      \u003cth\u003e2\u003c/th\u003e\n",
              "      \u003ctd\u003e1.029\u003c/td\u003e\n",
              "      \u003ctd\u003e0.99\u003c/td\u003e\n",
              "    \u003c/tr\u003e\n",
              "    \u003ctr\u003e\n",
              "      \u003cth\u003e3\u003c/th\u003e\n",
              "      \u003ctd\u003e0.755\u003c/td\u003e\n",
              "      \u003ctd\u003e0.58\u003c/td\u003e\n",
              "    \u003c/tr\u003e\n",
              "    \u003ctr\u003e\n",
              "      \u003cth\u003e4\u003c/th\u003e\n",
              "      \u003ctd\u003e0.755\u003c/td\u003e\n",
              "      \u003ctd\u003e0.49\u003c/td\u003e\n",
              "    \u003c/tr\u003e\n",
              "  \u003c/tbody\u003e\n",
              "\u003c/table\u003e\n",
              "\u003c/div\u003e"
            ],
            "text/plain": [
              "   sun_radius  planet_radius\n",
              "0       1.332           0.65\n",
              "1       1.029           0.85\n",
              "2       1.029           0.99\n",
              "3       0.755           0.58\n",
              "4       0.755           0.49"
            ]
          },
          "execution_count": 13,
          "metadata": {},
          "output_type": "execute_result"
        }
      ],
      "source": "pd.read_sql(\"\"\"\nSELECT\n  Star.radius AS sun_radius,\n  Planet.radius AS planet_radius\nFROM Star, Planet\nWHERE\n  Star.kepler_id \u003d Planet.kepler_id AND\n  Star.radius \u003e Planet.radius\nORDER BY Star.radius DESC;\n\"\"\", conn)"
    },
    {
      "cell_type": "markdown",
      "source": "# Task 2\nWrite a query which counts the number of planets in each solar system where\nthe corresponding stars are larger than our sun (i.e. their radius is larger\nthan 1).\n\nYour query should return the star\u0027s radius and its number of planets, showing\nonly rows where the number of planets is more than one. Sort the rows in\ndescending order based on the star radii.",
      "metadata": {
        "pycharm": {
          "metadata": false,
          "name": "#%% m"
        }
      }
    },
    {
      "cell_type": "code",
      "source": "pd.read_sql(\"\"\"\nSELECT Star.radius, COUNT(Planet.koi_name)\nFROM Star\nJOIN Planet USING (kepler_id)\nWHERE Star.radius \u003e 1\nGROUP BY Star.kepler_id\nHAVING COUNT(Planet.koi_name) \u003e 1\nORDER BY Star.radius DESC;\n\"\"\", conn)",
      "metadata": {
        "pycharm": {
          "metadata": false,
          "name": "#%% cod"
        }
      },
      "execution_count": null,
      "outputs": []
    },
    {
      "cell_type": "markdown",
      "metadata": {
        "pycharm": {
          "metadata": false
        }
      },
      "source": "# Tear down"
    },
    {
      "cell_type": "code",
      "execution_count": 14,
      "metadata": {
        "pycharm": {
          "metadata": false
        }
      },
      "outputs": [],
      "source": [
        "cur.close()\n",
        "conn.close()"
      ]
    }
  ],
  "metadata": {
    "kernelspec": {
      "display_name": "Python 3",
      "language": "python",
      "name": "python3"
    },
    "language_info": {
      "codemirror_mode": {
        "name": "ipython",
        "version": 3
      },
      "file_extension": ".py",
      "mimetype": "text/x-python",
      "name": "python",
      "nbconvert_exporter": "python",
      "pygments_lexer": "ipython3",
      "version": "3.7.0"
    }
  },
  "nbformat": 4,
  "nbformat_minor": 1
}