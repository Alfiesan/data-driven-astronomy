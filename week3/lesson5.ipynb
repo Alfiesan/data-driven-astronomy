{
  "cells": [
    {
      "cell_type": "code",
      "execution_count": 3,
      "metadata": {},
      "outputs": [],
      "source": [
        "import psycopg2\n",
        "import pandas as pd"
      ]
    },
    {
      "cell_type": "markdown",
      "metadata": {
        "pycharm": {
          "metadata": false
        }
      },
      "source": [
        "# Prepare the Data\n",
        "\n",
        "Run `docker-compose up` to get Postgres up and running."
      ]
    },
    {
      "cell_type": "code",
      "execution_count": 4,
      "metadata": {
        "pycharm": {
          "metadata": false
        }
      },
      "outputs": [],
      "source": "credentials \u003d \"dbname\u003d\u0027astronomy\u0027 user\u003d\u0027user\u0027 host\u003d\u0027localhost\u0027 password\u003d\u0027pass\u0027\"\nconn \u003d psycopg2.connect(credentials)\ncur \u003d conn.cursor()\n\ncur.execute(\"\"\"\nDROP TABLE IF EXISTS Planet;\nDROP TABLE IF EXISTS Star;\n\nCREATE TABLE Star (\n  kepler_id INTEGER NOT NULL,\n  t_eff INTEGER NOT NULL,\n  radius FLOAT NOT NULL,\n  PRIMARY KEY (kepler_id)\n);\n\nCREATE TABLE Planet (\n  kepler_id INTEGER NOT NULL REFERENCES Star(Kepler_ID),\n  koi_name VARCHAR(20) NOT NULL,\n  kepler_name VARCHAR(20),\n  status VARCHAR(20) NOT NULL,\n  period FLOAT NOT NULL,\n  radius FLOAT NOT NULL,\n  t_eq INTEGER NOT NULL,\n  PRIMARY KEY (koi_name)\n);\n\n\nCOPY Star (kepler_id, t_eff, radius)\n  FROM \u0027/data/data3/stars.csv\u0027 CSV;\n\nCOPY Planet (kepler_id, koi_name, kepler_name, status, period, radius, t_eq)\n  FROM \u0027/data/data3/planets.csv\u0027 CSV;\n\"\"\")\nconn.commit()"
    },
    {
      "cell_type": "markdown",
      "metadata": {
        "pycharm": {
          "metadata": false
        }
      },
      "source": "# Task 1\nWrite a query that returns the radius of each star and planet pair whose radii\nhave a ratio greater than the Sun-to-Earth radius ratio. Order the results in\ndescending order based on the stellar radii. Use `sun_radius` and\n`planet_radius` as attribute aliases for the star and planet radii.\n\nFor this problem you will have to join the two tables to find all planets\nbelonging to a given star and use a condition to select those results which\nfulfill the size requirement above."
    },
    {
      "cell_type": "code",
      "source": "pd.read_sql(\"\"\"\nSELECT\n  Star.radius as sun_radius,\n  Planet.radius as planet_radius\nFROM Star, Planet\nWHERE\n  Star.kepler_id \u003d Planet.kepler_id AND\n  Star.radius \u003e Planet.radius\nORDER BY Star.radius DESC;\n\"\"\", conn)",
      "metadata": {
        "pycharm": {
          "metadata": false,
          "name": "#%% cod"
        }
      },
      "execution_count": null,
      "outputs": []
    },
    {
      "cell_type": "markdown",
      "source": "# Tear down",
      "metadata": {
        "pycharm": {
          "metadata": false
        }
      }
    },
    {
      "cell_type": "code",
      "execution_count": null,
      "outputs": [],
      "source": "cur.close()\nconn.close()",
      "metadata": {
        "pycharm": {
          "metadata": false
        }
      }
    }
  ],
  "metadata": {
    "kernelspec": {
      "display_name": "Python 3",
      "language": "python",
      "name": "python3"
    },
    "language_info": {
      "codemirror_mode": {
        "name": "ipython",
        "version": 3
      },
      "file_extension": ".py",
      "mimetype": "text/x-python",
      "name": "python",
      "nbconvert_exporter": "python",
      "pygments_lexer": "ipython3",
      "version": "3.7.0"
    }
  },
  "nbformat": 4,
  "nbformat_minor": 1
}