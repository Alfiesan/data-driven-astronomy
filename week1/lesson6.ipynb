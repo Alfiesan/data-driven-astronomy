{
  "cells": [
    {
      "cell_type": "code",
      "execution_count": 4,
      "metadata": {
        "pycharm": {
          "metadata": false,
          "name": "#%%\n",
          "is_executing": false
        }
      },
      "outputs": [],
      "source": "import time\nimport statistics\n\nimport numpy as np\nfrom astropy.io import fits"
    },
    {
      "cell_type": "code",
      "execution_count": 5,
      "metadata": {
        "pycharm": {
          "name": "#%%\n",
          "is_executing": false
        }
      },
      "outputs": [
        {
          "name": "stdout",
          "text": [
            "(2.55, 5.175000000000001)\n(1.5, 1.5)\n"
          ],
          "output_type": "stream"
        }
      ],
      "source": "def list_stats(data):\n    \"\"\"Compute median and mean.\"\"\"\n    data.sort()\n    mean \u003d sum(data)/len(data)\n    mid \u003d len(data)//2\n    if len(data) % 2 \u003d\u003d 0:\n        median \u003d (data[mid - 1] + data[mid])/2\n    else:\n        median \u003d data[mid]\n    return median, mean\n\n\nm \u003d list_stats([1.3, 2.4, 20.6, 0.95, 3.1, 2.7])\nprint(m)\n\nm \u003d list_stats([1.5])\nprint(m)"
    },
    {
      "cell_type": "code",
      "execution_count": 6,
      "metadata": {
        "pycharm": {
          "metadata": false,
          "name": "#%%\n",
          "is_executing": false
        }
      },
      "outputs": [
        {
          "name": "stdout",
          "text": [
            "0.163377s for statistics_mean\n0.000050s for np_mean\n"
          ],
          "output_type": "stream"
        }
      ],
      "source": "def time_stat(func, size, n_trials):\n    results \u003d []\n    for _ in range(n_trials):\n        data \u003d np.random.rand(size)\n        start \u003d time.perf_counter()\n        func(data)\n        end \u003d time.perf_counter() - start\n        results.append(end)\n    return np.mean(results)\n\ntemplate \u003d \u0027%.6fs for %s\u0027\nstatistics_mean \u003d time_stat(statistics.mean, 10**5, 10)\nnp_mean \u003d time_stat(np.mean, 10**5, 1000)\n    \nprint(template % (statistics_mean, \u0027statistics_mean\u0027))\nprint(template % (np_mean, \u0027np_mean\u0027))"
    },
    {
      "cell_type": "code",
      "execution_count": 7,
      "metadata": {
        "pycharm": {
          "metadata": false,
          "name": "#%%\n",
          "is_executing": false
        }
      },
      "outputs": [
        {
          "name": "stdout",
          "text": [
            "0.012338057160377502 0.026446370000002162 625.0\n0.012102657463401556 0.07217558499999654 3750.0\n"
          ],
          "output_type": "stream"
        }
      ],
      "source": "def median_fits(files):\n    \"\"\"Return median, time and memory.\"\"\"\n    start \u003d time.perf_counter()\n    arrays \u003d [fits.open(file)[0].data for file in files]\n    median \u003d np.median(arrays, axis\u003d0)\n    memory \u003d sum(array.nbytes for array in arrays)/1024\n    end \u003d time.perf_counter() - start\n    return median, end, memory\n\n\nresult \u003d median_fits([\u0027data5/image0.fits\u0027, \u0027data5/image1.fits\u0027])\nprint(result[0][100, 100], result[1], result[2])\n  \nresult \u003d median_fits([\u0027data5/image%s.fits\u0027 % i for i in range(12)])\nprint(result[0][100, 100], result[1], result[2])"
    },
    {
      "cell_type": "code",
      "execution_count": 8,
      "metadata": {
        "pycharm": {
          "metadata": false,
          "name": "#%%\n",
          "is_executing": false
        }
      },
      "outputs": [
        {
          "name": "stdout",
          "text": [
            "(2.5, 1.707825127659933, 0, array([2., 3., 0.]))\n2.5\n(3.875, 2.521780125229002, 3, array([0., 1., 1., 1.]))\n4.50544503130725\n(0.5, 0.5, 0, array([1., 0., 0., 0., 0.]))\n0.9\n"
          ],
          "output_type": "stream"
        }
      ],
      "source": "def median_bins(data, nbins):\n    \"\"\"Returns mean, standard deviation, ignored number, bins array.\"\"\"\n    mean \u003d np.mean(data)\n    std \u003d np.std(data)\n    minval \u003d mean - std\n    maxval \u003d mean + std\n    width \u003d 2*std/nbins\n    ignored \u003d 0\n    bins \u003d np.zeros(nbins)\n    \n    for item in data:\n        if item \u003c minval:\n            ignored +\u003d 1\n        elif item \u003c maxval:\n            index \u003d int((item - minval)//width)\n            bins[index] +\u003d 1\n    \n    return mean, std, ignored, bins\n\n\ndef median_approx(data, nbins):\n    mean, std, ignored, dbins \u003d median_bins(data, nbins)\n    minval \u003d mean - std\n    width \u003d 2*std/nbins\n    i, total \u003d 0, ignored\n    for i, dbin in enumerate(dbins):\n        total +\u003d dbin\n        if total \u003e\u003d (len(data) + 1)/2:\n            break\n    return minval + width*(i + 0.5)\n\n\nprint(median_bins([1, 1, 3, 2, 2, 6], 3))\nprint(median_approx([1, 1, 3, 2, 2, 6], 3))\n\nprint(median_bins([1, 5, 7, 7, 3, 6, 1, 1], 4))\nprint(median_approx([1, 5, 7, 7, 3, 6, 1, 1], 4))\n    \nprint(median_bins([0, 1], 5))\nprint(median_approx([0, 1], 5))"
    },
    {
      "cell_type": "code",
      "execution_count": 9,
      "metadata": {
        "pycharm": {
          "metadata": false,
          "name": "#%%\n",
          "is_executing": false
        }
      },
      "outputs": [
        {
          "name": "stdout",
          "text": [
            "0.018398113548755646\n0.010496325561403296\n0.0\n[0. 2. 0. 0. 0.]\n0.014199583324194326\n"
          ],
          "output_type": "stream"
        }
      ],
      "source": "from helper import running_stats\n\n\ndef median_bins_fits(files, nbins):\n    mean, std \u003d running_stats(files)\n    minval \u003d mean - std\n    maxval \u003d mean + std\n    width \u003d 2*std/nbins\n    ignored \u003d np.zeros((200, 200))\n    bins \u003d np.zeros((200, 200, nbins))\n    \n    for file in files:\n        with fits.open(file) as fits_file:\n            data \u003d fits_file[0].data\n            for i in range(200):\n                for j in range(200):\n                    if data[i, j] \u003c minval[i, j]:\n                        ignored[i, j] +\u003d 1\n                    elif data[i, j] \u003c maxval[i, j]:\n                        index \u003d int((data[i, j] - minval[i, j])//width[i, j])\n                        bins[i, j, index] +\u003d 1\n\n    return mean, std, ignored, bins\n    \n\n\ndef median_approx_fits(files, nbins):\n    mean, std, ignored, dbins \u003d median_bins_fits(files, nbins)\n    minval \u003d mean - std\n    width \u003d 2*std/nbins\n    median \u003d np.zeros((200, 200))\n    k, total \u003d 0, ignored\n    \n    for i in range(200):\n        for j in range(200):\n            for k, dbin in enumerate(dbins[i, j]):\n                total[i, j] +\u003d dbin\n                if total[i, j] \u003e\u003d (len(files) + 1)/2:\n                    break\n            median[i, j] \u003d minval[i, j] + width[i, j]*(k + 0.5)\n    \n    return median\n\n\ndef main():\n    fits_file_names \u003d [\u0027image0.fits\u0027, \u0027image1.fits\u0027, \u0027image2.fits\u0027]\n    fits_files \u003d [\u0027data6/\u0027 + file for file in fits_file_names]\n    mean, std, left_bin, bins \u003d median_bins_fits(fits_files, 5)\n    median \u003d median_approx_fits(fits_files, 5)\n    \n    print(mean[100, 100])\n    print(std[100, 100])\n    print(left_bin[100, 100])\n    print(bins[100, 100, :])\n    print(median[100, 100])\n\n\nmain()"
    }
  ],
  "metadata": {
    "kernelspec": {
      "display_name": "Python 3",
      "language": "python",
      "name": "python3"
    },
    "language_info": {
      "codemirror_mode": {
        "name": "ipython",
        "version": 3
      },
      "file_extension": ".py",
      "mimetype": "text/x-python",
      "name": "python",
      "nbconvert_exporter": "python",
      "pygments_lexer": "ipython3",
      "version": "3.7.0"
    },
    "stem_cell": {
      "cell_type": "raw",
      "source": "",
      "metadata": {
        "pycharm": {
          "metadata": false
        }
      }
    }
  },
  "nbformat": 4,
  "nbformat_minor": 1
}