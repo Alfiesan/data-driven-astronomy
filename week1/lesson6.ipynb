{
 "cells": [
  {
   "cell_type": "code",
   "execution_count": 2,
   "metadata": {
    "pycharm": {
     "metadata": false,
     "name": "#%% cod"
    }
   },
   "outputs": [],
   "source": [
    "import time\n",
    "import statistics\n",
    "\n",
    "import numpy as np\n",
    "from astropy.io import fits"
   ]
  },
  {
   "cell_type": "code",
   "execution_count": 9,
   "metadata": {},
   "outputs": [
    {
     "name": "stdout",
     "output_type": "stream",
     "text": [
      "(2.55, 5.175000000000001)\n",
      "(1.5, 1.5)\n"
     ]
    }
   ],
   "source": [
    "def list_stats(data):\n",
    "    \"\"\"Compute median and mean.\"\"\"\n",
    "    data.sort()\n",
    "    mean = sum(data)/len(data)\n",
    "    mid = len(data)//2\n",
    "    if len(data) % 2 == 0:\n",
    "        median = (data[mid - 1] + data[mid])/2\n",
    "    else:\n",
    "        median = data[mid]\n",
    "    return median, mean\n",
    "\n",
    "\n",
    "if __name__ == '__main__':\n",
    "    m = list_stats([1.3, 2.4, 20.6, 0.95, 3.1, 2.7])\n",
    "    print(m)\n",
    "\n",
    "    m = list_stats([1.5])\n",
    "    print(m)"
   ]
  },
  {
   "cell_type": "code",
   "execution_count": 10,
   "metadata": {
    "pycharm": {
     "metadata": false,
     "name": "#%% cod"
    }
   },
   "outputs": [
    {
     "name": "stdout",
     "output_type": "stream",
     "text": [
      "0.158032s for statistics_mean\n",
      "0.000047s for np_mean\n"
     ]
    }
   ],
   "source": [
    "def time_stat(func, size, n_trials):\n",
    "    results = []\n",
    "    for _ in range(n_trials):\n",
    "        data = np.random.rand(size)\n",
    "        start = time.perf_counter()\n",
    "        func(data)\n",
    "        end = time.perf_counter() - start\n",
    "        results.append(end)\n",
    "    return np.mean(results)\n",
    "\n",
    "if __name__ == '__main__':\n",
    "    template = '%.6fs for %s'\n",
    "    statistics_mean = time_stat(statistics.mean, 10**5, 10)\n",
    "    np_mean = time_stat(np.mean, 10**5, 1000)\n",
    "    \n",
    "    print(template % (statistics_mean, 'statistics_mean'))\n",
    "    print(template % (np_mean, 'np_mean'))"
   ]
  },
  {
   "cell_type": "code",
   "execution_count": 30,
   "metadata": {
    "pycharm": {
     "metadata": false,
     "name": "#%% cod"
    }
   },
   "outputs": [
    {
     "name": "stdout",
     "output_type": "stream",
     "text": [
      "0.012338057160377502 0.03336585099987133 625.0\n",
      "0.012102657463401556 0.19101409299992156 3750.0\n"
     ]
    }
   ],
   "source": [
    "def median_fits(files):\n",
    "    \"\"\"Return median, time and memory.\"\"\"\n",
    "    start = time.perf_counter()\n",
    "    arrays = [fits.open(file)[0].data for file in files]\n",
    "    median = np.median(arrays, axis=0)\n",
    "    memory = sum(array.nbytes for array in arrays)/1024\n",
    "    end = time.perf_counter() - start\n",
    "    return median, end, memory\n",
    "\n",
    "\n",
    "if __name__ == '__main__':\n",
    "    result = median_fits(['data5/image0.fits', 'data5/image1.fits'])\n",
    "    print(result[0][100, 100], result[1], result[2])\n",
    "  \n",
    "    result = median_fits(['data5/image%s.fits' % i for i in range(12)])\n",
    "    print(result[0][100, 100], result[1], result[2])"
   ]
  },
  {
   "cell_type": "code",
   "execution_count": 30,
   "metadata": {
    "pycharm": {
     "metadata": false,
     "name": "#%% cod"
    }
   },
   "outputs": [
    {
     "name": "stdout",
     "output_type": "stream",
     "text": [
      "(2.5, 1.707825127659933, 0, array([2., 3., 0.]))\n",
      "2.5\n",
      "(3.875, 2.521780125229002, 3, array([0., 1., 1., 1.]))\n",
      "4.50544503130725\n",
      "(0.5, 0.5, 0, array([1., 0., 0., 0., 0.]))\n",
      "0.9\n"
     ]
    }
   ],
   "source": [
    "def median_bins(data, nbins):\n",
    "    \"\"\"Returns mean, standard deviation, ignored number, bins array.\"\"\"\n",
    "    mean = np.mean(data)\n",
    "    std = np.std(data)\n",
    "    minval = mean - std\n",
    "    maxval = mean + std\n",
    "    width = 2*std/nbins\n",
    "    ignored = 0\n",
    "    bins = np.zeros(nbins)\n",
    "    \n",
    "    for item in data:\n",
    "        if item < minval:\n",
    "            ignored += 1\n",
    "        elif item < maxval:\n",
    "            index = int((item - minval)//width)\n",
    "            bins[index] += 1\n",
    "    \n",
    "    return mean, std, ignored, bins\n",
    "\n",
    "\n",
    "def median_approx(data, nbins):\n",
    "    mean, std, ignored, dbins = median_bins(data, nbins)\n",
    "    minval = mean - std\n",
    "    width = 2*std/nbins\n",
    "    i, total = 0, ignored\n",
    "    for i, dbin in enumerate(dbins):\n",
    "        total += dbin\n",
    "        if total >= (len(data) + 1)/2:\n",
    "            break\n",
    "    return minval + width*(i + 0.5)\n",
    "        \n",
    "\n",
    "\n",
    "if __name__ == '__main__':\n",
    "    print(median_bins([1, 1, 3, 2, 2, 6], 3))\n",
    "    print(median_approx([1, 1, 3, 2, 2, 6], 3))\n",
    "\n",
    "    print(median_bins([1, 5, 7, 7, 3, 6, 1, 1], 4))\n",
    "    print(median_approx([1, 5, 7, 7, 3, 6, 1, 1], 4))\n",
    "    \n",
    "    print(median_bins([0, 1], 5))\n",
    "    print(median_approx([0, 1], 5))"
   ]
  },
  {
   "cell_type": "code",
   "execution_count": 11,
   "metadata": {
    "pycharm": {
     "metadata": false,
     "name": "#%% cod"
    }
   },
   "outputs": [
    {
     "name": "stdout",
     "output_type": "stream",
     "text": [
      "0.018398113548755646\n",
      "0.010496325561403296\n",
      "0.0\n",
      "[0. 2. 0. 0. 0.]\n",
      "0.014199583324194326\n"
     ]
    }
   ],
   "source": [
    "from helper import running_stats\n",
    "\n",
    "\n",
    "def median_bins_fits(files, nbins):\n",
    "    mean, std = running_stats(files)\n",
    "    minval = mean - std\n",
    "    maxval = mean + std\n",
    "    width = 2*std/nbins\n",
    "    ignored = np.zeros((200, 200))\n",
    "    bins = np.zeros((200, 200, nbins))\n",
    "    \n",
    "    for file in files:\n",
    "        with fits.open(file) as fits_file:\n",
    "            data = fits_file[0].data\n",
    "            for i in range(200):\n",
    "                for j in range(200):\n",
    "                    if data[i, j] < minval[i, j]:\n",
    "                        ignored[i, j] += 1\n",
    "                    elif data[i, j] < maxval[i, j]:\n",
    "                        index = int((data[i, j] - minval[i, j])//width[i, j])\n",
    "                        bins[i, j, index] += 1\n",
    "\n",
    "    return mean, std, ignored, bins\n",
    "    \n",
    "\n",
    "\n",
    "def median_approx_fits(files, nbins):\n",
    "    mean, std, ignored, dbins = median_bins_fits(files, nbins)\n",
    "    minval = mean - std\n",
    "    width = 2*std/nbins\n",
    "    median = np.zeros((200, 200))\n",
    "    k, total = 0, ignored\n",
    "    \n",
    "    for i in range(200):\n",
    "        for j in range(200):\n",
    "            for k, dbin in enumerate(dbins[i, j]):\n",
    "                total[i, j] += dbin\n",
    "                if total[i, j] >= (len(files) + 1)/2:\n",
    "                    break\n",
    "            median[i, j] = minval[i, j] + width[i, j]*(k + 0.5)\n",
    "    \n",
    "    return median\n",
    "\n",
    "\n",
    "def main():\n",
    "    fits_file_names = ['image0.fits', 'image1.fits', 'image2.fits']\n",
    "    fits_files = ['data6/' + file for file in fits_file_names]\n",
    "    mean, std, left_bin, bins = median_bins_fits(fits_files, 5)\n",
    "    median = median_approx_fits(fits_files, 5)\n",
    "    \n",
    "    print(mean[100, 100])\n",
    "    print(std[100, 100])\n",
    "    print(left_bin[100, 100])\n",
    "    print(bins[100, 100, :])\n",
    "    print(median[100, 100])\n",
    "\n",
    "\n",
    "if __name__ == '__main__':\n",
    "    main()"
   ]
  }
 ],
 "metadata": {
  "kernelspec": {
   "display_name": "Python 3",
   "language": "python",
   "name": "python3"
  },
  "language_info": {
   "codemirror_mode": {
    "name": "ipython",
    "version": 3
   },
   "file_extension": ".py",
   "mimetype": "text/x-python",
   "name": "python",
   "nbconvert_exporter": "python",
   "pygments_lexer": "ipython3",
   "version": "3.7.0"
  },
  "stem_cell": {
   "cell_type": "raw",
   "metadata": {
    "pycharm": {
     "metadata": false
    }
   },
   "source": ""
  }
 },
 "nbformat": 4,
 "nbformat_minor": 1
}
