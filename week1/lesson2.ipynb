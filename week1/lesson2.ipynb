{
  "cells": [
    {
      "cell_type": "code",
      "execution_count": 1,
      "metadata": {
        "pycharm": {
          "is_executing": false
        }
      },
      "outputs": [
        {
          "name": "stdout",
          "text": [
            "Hello, World!\n"
          ],
          "output_type": "stream"
        }
      ],
      "source": [
        "print(\u0027Hello, World!\u0027)"
      ]
    },
    {
      "cell_type": "code",
      "execution_count": 2,
      "metadata": {
        "pycharm": {
          "metadata": false,
          "name": "#%%\n",
          "is_executing": false
        }
      },
      "outputs": [
        {
          "name": "stdout",
          "text": [
            "Hello, World!\nHello, Grok!\nHello, 123!\n"
          ],
          "output_type": "stream"
        }
      ],
      "source": "# Write your greet function definition below:\ndef greet(name):\n    return \u0027Hello, %s!\u0027 % name\n\n\n# Any code inside the if statement will be ignored by the automarker.\n# Put your test code in here, since it will be run by clicking Run or Terminal.\nif __name__ \u003d\u003d \u0027__main__\u0027:\n    print(greet(\u0027World\u0027))\n    print(greet(\u0027Grok\u0027))\n    print(greet(\u0027123\u0027))"
    }
  ],
  "metadata": {
    "kernelspec": {
      "name": "python3",
      "language": "python",
      "display_name": "Python 3"
    },
    "language_info": {
      "codemirror_mode": {
        "name": "ipython",
        "version": 2
      },
      "file_extension": ".py",
      "mimetype": "text/x-python",
      "name": "python",
      "nbconvert_exporter": "python",
      "pygments_lexer": "ipython2",
      "version": "2.7.15"
    }
  },
  "nbformat": 4,
  "nbformat_minor": 1
}