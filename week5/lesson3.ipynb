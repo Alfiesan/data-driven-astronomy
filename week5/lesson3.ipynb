{
 "cells": [
  {
   "cell_type": "code",
   "execution_count": 17,
   "metadata": {
    "pycharm": {
     "name": "#%% cod"
    }
   },
   "outputs": [],
   "source": [
    "import numpy as np\n",
    "import pydotplus as pydotplus\n",
    "from sklearn.tree import DecisionTreeRegressor, export_graphviz"
   ]
  },
  {
   "cell_type": "markdown",
   "metadata": {},
   "source": [
    "# Task 1\n",
    "\n",
    "Write a `get_features_targets` function that splits the training data into input features and their corresponding targets. In our case, the inputs are the 4 colour indices and our targets are the corresponding redshifts."
   ]
  },
  {
   "cell_type": "code",
   "execution_count": 18,
   "metadata": {},
   "outputs": [
    {
     "name": "stdout",
     "output_type": "stream",
     "text": [
      "[[0.31476 0.0571  0.28991 0.07192]\n",
      " [1.2002  0.82026 0.45294 0.24665]]\n",
      "[0.539301  0.1645703]\n"
     ]
    }
   ],
   "source": [
    "def get_features_targets(data):\n",
    "    features = np.zeros((data.shape[0], 4))\n",
    "    features[:, 0] = data['u'] - data['g']\n",
    "    features[:, 1] = data['g'] - data['r']\n",
    "    features[:, 2] = data['r'] - data['i']\n",
    "    features[:, 3] = data['i'] - data['z']\n",
    "    \n",
    "    return features, data['redshift']\n",
    "\n",
    "\n",
    "def main():\n",
    "    data = np.load('data1/sdss_galaxy_colors.npy')\n",
    "    features, targets = get_features_targets(data)\n",
    "\n",
    "    print(features[:2])\n",
    "    print(targets[:2])\n",
    "\n",
    "\n",
    "if __name__ == \"__main__\":\n",
    "    main()"
   ]
  },
  {
   "cell_type": "markdown",
   "metadata": {},
   "source": [
    "# Task 2"
   ]
  },
  {
   "cell_type": "code",
   "execution_count": 19,
   "metadata": {},
   "outputs": [
    {
     "name": "stdout",
     "output_type": "stream",
     "text": [
      "[0.539301   0.1645703  0.04190006 0.04427702]\n"
     ]
    }
   ],
   "source": [
    "def main():\n",
    "    # load the data and generate the features and targets\n",
    "    data = np.load('data1/sdss_galaxy_colors.npy')\n",
    "    features, targets = get_features_targets(data)\n",
    "\n",
    "    # initialize model\n",
    "    dtr = DecisionTreeRegressor()\n",
    "    \n",
    "    # train the model\n",
    "    dtr.fit(features, targets)\n",
    "    \n",
    "    # make predictions using the same features\n",
    "    predictions = dtr.predict(features)\n",
    "    \n",
    "    # print out the first 4 predicted redshifts\n",
    "    print(predictions[:4])\n",
    "\n",
    "\n",
    "if __name__ == '__main__':\n",
    "    main()"
   ]
  },
  {
   "cell_type": "markdown",
   "metadata": {},
   "source": [
    "# Task 3\n",
    "\n",
    "In this problem we will implement the function `median_diff`. The function should calculate the median residual error of our model, i.e. the median difference between our predicted and actual redshifts.\n",
    "\n",
    "The `median_diff` function takes two arguments – the predicted and actual/target values. When we use this function later in the tutorial, these will corresponding to the predicted redshifts from our decision tree and their corresponding measured/target values."
   ]
  },
  {
   "cell_type": "code",
   "execution_count": 20,
   "metadata": {},
   "outputs": [],
   "source": [
    "def median_diff(predicted, actual):\n",
    "    return np.median(np.abs(predicted - actual))\n",
    "\n",
    "\n",
    "def main():\n",
    "    targets = np.load('data1/targets.npy')\n",
    "    predictions = np.load('data1/predictions.npy')\n",
    "    diff = median_diff(predictions, targets)\n",
    "    print(\"Median difference: {:0.3f}\".format(diff))\n",
    "\n",
    "\n",
    "# The data wasn't provided\n",
    "if __name__ == \"__tbd__\":\n",
    "    main()"
   ]
  },
  {
   "cell_type": "markdown",
   "metadata": {},
   "source": [
    "# Task 4\n",
    "\n",
    "In this problem, we will use `median_diff` from the previous question to validate the decision tree model. Your task is to complete the `validate_model` function."
   ]
  },
  {
   "cell_type": "code",
   "execution_count": 21,
   "metadata": {},
   "outputs": [
    {
     "name": "stdout",
     "output_type": "stream",
     "text": [
      "Median difference: 0.021601\n"
     ]
    }
   ],
   "source": [
    "# write a function that splits the data into training and testing subsets\n",
    "# trains the model and returns the prediction accuracy with median_diff\n",
    "def validate_model(model, features, targets):\n",
    "    # split the data into training and testing features and predictions\n",
    "    split = 2*features.shape[0]//3\n",
    "    train_features = features[:split]\n",
    "    test_features = features[split:]\n",
    "    \n",
    "    train_targets = targets[:split]\n",
    "    test_targets = targets[split:]\n",
    "\n",
    "    # train the model\n",
    "    model.fit(train_features, train_targets)\n",
    "\n",
    "    # get the predicted_redshifts\n",
    "    predictions = model.predict(test_features)\n",
    "  \n",
    "    # use median_diff function to calculate the accuracy\n",
    "    return median_diff(test_targets, predictions)\n",
    "\n",
    "\n",
    "def main():\n",
    "    data = np.load('data1/sdss_galaxy_colors.npy')\n",
    "    features, targets = get_features_targets(data)\n",
    "\n",
    "    # initialize model\n",
    "    dtr = DecisionTreeRegressor()\n",
    "\n",
    "    # validate the model and print the med_diff\n",
    "    diff = validate_model(dtr, features, targets)\n",
    "    print('Median difference: {:f}'.format(diff))\n",
    "\n",
    "\n",
    "if __name__ == \"__main__\":\n",
    "    main()"
   ]
  },
  {
   "cell_type": "markdown",
   "metadata": {},
   "source": [
    "# Plot the decision tree (optional activity)"
   ]
  },
  {
   "cell_type": "code",
   "execution_count": 22,
   "metadata": {},
   "outputs": [],
   "source": [
    "def main():\n",
    "    data = np.load('data1/sdss_galaxy_colors.npy')\n",
    "    features, targets = get_features_targets(data)\n",
    "\n",
    "    # Initialize model\n",
    "    dtr = DecisionTreeRegressor(max_depth=3)    # We will come to this input in the next tutorial\n",
    "\n",
    "    # Split the data into training and testing\n",
    "    split_index = int(0.5 * len(features))\n",
    "    train_features = features[:split_index]\n",
    "    train_targets = targets[:split_index]\n",
    "\n",
    "    dtr.fit(train_features, train_targets)\n",
    "\n",
    "    dot_data = export_graphviz(dtr, out_file=None,feature_names=['u - g', 'g - r', 'r - i', 'i - z'])\n",
    "    graph = pydotplus.graph_from_dot_data(dot_data)\n",
    "    graph.write_jpg(\"decision_tree.jpg\")\n",
    "\n",
    "\n",
    "if __name__ == \"__main__\":\n",
    "    main()"
   ]
  }
 ],
 "metadata": {
  "kernelspec": {
   "display_name": "Python 3",
   "language": "python",
   "name": "python3"
  },
  "language_info": {
   "codemirror_mode": {
    "name": "ipython",
    "version": 3
   },
   "file_extension": ".py",
   "mimetype": "text/x-python",
   "name": "python",
   "nbconvert_exporter": "python",
   "pygments_lexer": "ipython3",
   "version": "3.7.0"
  }
 },
 "nbformat": 4,
 "nbformat_minor": 1
}
