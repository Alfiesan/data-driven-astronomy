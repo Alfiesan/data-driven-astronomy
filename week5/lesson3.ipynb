{
 "cells": [
  {
   "cell_type": "code",
   "execution_count": 5,
   "metadata": {},
   "outputs": [],
   "source": [
    "import numpy as np\n",
    "from sklearn.tree import DecisionTreeRegressor"
   ]
  },
  {
   "cell_type": "markdown",
   "metadata": {},
   "source": [
    "# Task 1\n",
    "\n",
    "Write a `get_features_targets` function that splits the training data into input features and their corresponding targets. In our case, the inputs are the 4 colour indices and our targets are the corresponding redshifts."
   ]
  },
  {
   "cell_type": "code",
   "execution_count": 3,
   "metadata": {},
   "outputs": [
    {
     "name": "stdout",
     "output_type": "stream",
     "text": [
      "[[0.31476 0.0571  0.07192 0.     ]\n",
      " [1.2002  0.82026 0.24665 0.     ]]\n",
      "[0.539301  0.1645703]\n"
     ]
    }
   ],
   "source": [
    "def get_features_targets(data):\n",
    "    features = np.zeros((data.shape[0], 4))\n",
    "    features[:, 0] = data['u'] - data['g']\n",
    "    features[:, 1] = data['g'] - data['r']\n",
    "    features[:, 2] = data['r'] - data['i']\n",
    "    features[:, 3] = data['i'] - data['z']\n",
    "    \n",
    "    return features, data['redshift']\n",
    "\n",
    "\n",
    "if __name__ == \"__main__\":\n",
    "    data = np.load('data1/sdss_galaxy_colors.npy')\n",
    "    features, targets = get_features_targets(data)\n",
    "\n",
    "    print(features[:2])\n",
    "    print(targets[:2])"
   ]
  },
  {
   "cell_type": "markdown",
   "metadata": {},
   "source": [
    "# Task 2"
   ]
  },
  {
   "cell_type": "code",
   "execution_count": 6,
   "metadata": {},
   "outputs": [
    {
     "name": "stdout",
     "output_type": "stream",
     "text": [
      "[0.539301   0.1645703  0.04190006 0.04421812]\n"
     ]
    }
   ],
   "source": [
    "# load the data and generate the features and targets\n",
    "data = np.load('data1/sdss_galaxy_colors.npy')\n",
    "features, targets = get_features_targets(data)\n",
    "  \n",
    "# initialize model\n",
    "dtr = DecisionTreeRegressor()\n",
    "\n",
    "# train the model\n",
    "dtr.fit(features, targets)\n",
    "\n",
    "# make predictions using the same features\n",
    "predictions = dtr.predict(features)\n",
    "\n",
    "# print out the first 4 predicted redshifts\n",
    "print(predictions[:4])"
   ]
  },
  {
   "cell_type": "markdown",
   "metadata": {},
   "source": [
    "# Task 3\n",
    "\n",
    "In this problem we will implement the function `median_diff`. The function should calculate the median residual error of our model, i.e. the median difference between our predicted and actual redshifts.\n",
    "\n",
    "The `median_diff` function takes two arguments – the predicted and actual/target values. When we use this function later in the tutorial, these will corresponding to the predicted redshifts from our decision tree and their corresponding measured/target values."
   ]
  },
  {
   "cell_type": "code",
   "execution_count": 7,
   "metadata": {},
   "outputs": [],
   "source": [
    "def median_diff(predicted, actual):\n",
    "    return np.mean(np.abs(predicted - actual))\n",
    "\n",
    "\n",
    "# The data wasn't provided\n",
    "if __name__ == \"__tbd__\":\n",
    "    targets = np.load('data1/targets.npy')\n",
    "    predictions = np.load('data1/predictions.npy')\n",
    "    diff = median_diff(predictions, targets)\n",
    "\n",
    "    print(\"Median difference: {:0.3f}\".format(diff))"
   ]
  }
 ],
 "metadata": {
  "kernelspec": {
   "display_name": "Python 3",
   "language": "python",
   "name": "python3"
  },
  "language_info": {
   "codemirror_mode": {
    "name": "ipython",
    "version": 3
   },
   "file_extension": ".py",
   "mimetype": "text/x-python",
   "name": "python",
   "nbconvert_exporter": "python",
   "pygments_lexer": "ipython3",
   "version": "3.7.0"
  }
 },
 "nbformat": 4,
 "nbformat_minor": 1
}
